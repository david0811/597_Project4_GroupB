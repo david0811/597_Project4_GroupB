{
 "cells": [
  {
   "cell_type": "markdown",
   "metadata": {},
   "source": [
    "## First, get the data into a useful format"
   ]
  },
  {
   "cell_type": "code",
   "execution_count": 172,
   "metadata": {},
   "outputs": [],
   "source": [
    "import numpy as np\n",
    "import pandas as pd\n",
    "from sklearn.metrics import mean_squared_error\n",
    "from math import sqrt"
   ]
  },
  {
   "cell_type": "code",
   "execution_count": 128,
   "metadata": {},
   "outputs": [],
   "source": [
    "# Read in datafiles\n",
    "gfs = pd.read_csv('./raw_data/GFS_Daily_PredictVars_2010thru2019.csv', index_col = 'Date', usecols = ['Date', 'TMAX', 'TMIN', 'WMAX', 'RTOT'], parse_dates = True)\n",
    "obs = pd.read_csv('./raw_data/KCMI_daily_tidy.csv', index_col = 'Date', parse_dates = True)\n",
    "obs.index = obs.index + pd.DateOffset(hours=12)  # Align times"
   ]
  },
  {
   "cell_type": "code",
   "execution_count": 129,
   "metadata": {},
   "outputs": [
    {
     "name": "stdout",
     "output_type": "stream",
     "text": [
      "(3614, 4)\n",
      "(3652, 4)\n"
     ]
    }
   ],
   "source": [
    "# There is some missing data from the GFS forecasts!\n",
    "print(gfs.shape)\n",
    "print(obs.shape)"
   ]
  },
  {
   "cell_type": "code",
   "execution_count": 130,
   "metadata": {},
   "outputs": [],
   "source": [
    "# Merge and drop all days with missing values \n",
    "features = pd.merge(obs.reset_index(), gfs.reset_index(), on = 'Date', how = 'inner')\n",
    "features.dropna(inplace = True)  # There are some NaNs in the observations"
   ]
  },
  {
   "cell_type": "code",
   "execution_count": 131,
   "metadata": {},
   "outputs": [
    {
     "data": {
      "text/html": [
       "<div>\n",
       "<style scoped>\n",
       "    .dataframe tbody tr th:only-of-type {\n",
       "        vertical-align: middle;\n",
       "    }\n",
       "\n",
       "    .dataframe tbody tr th {\n",
       "        vertical-align: top;\n",
       "    }\n",
       "\n",
       "    .dataframe thead th {\n",
       "        text-align: right;\n",
       "    }\n",
       "</style>\n",
       "<table border=\"1\" class=\"dataframe\">\n",
       "  <thead>\n",
       "    <tr style=\"text-align: right;\">\n",
       "      <th></th>\n",
       "      <th>Max Hourly Temp (C)</th>\n",
       "      <th>Min Hourly Temp (C)</th>\n",
       "      <th>Max Wind Speed (m/s)</th>\n",
       "      <th>Daily Precip (mm)</th>\n",
       "      <th>TMAX</th>\n",
       "      <th>TMIN</th>\n",
       "      <th>WMAX</th>\n",
       "      <th>RTOT</th>\n",
       "    </tr>\n",
       "  </thead>\n",
       "  <tbody>\n",
       "    <tr>\n",
       "      <th>count</th>\n",
       "      <td>3576.000000</td>\n",
       "      <td>3576.000000</td>\n",
       "      <td>3576.000000</td>\n",
       "      <td>3576.00000</td>\n",
       "      <td>3576.000000</td>\n",
       "      <td>3576.000000</td>\n",
       "      <td>3576.000000</td>\n",
       "      <td>3576.000000</td>\n",
       "    </tr>\n",
       "    <tr>\n",
       "      <th>mean</th>\n",
       "      <td>16.826995</td>\n",
       "      <td>6.048813</td>\n",
       "      <td>7.674937</td>\n",
       "      <td>2.11443</td>\n",
       "      <td>15.537847</td>\n",
       "      <td>6.678395</td>\n",
       "      <td>5.840101</td>\n",
       "      <td>3.280696</td>\n",
       "    </tr>\n",
       "    <tr>\n",
       "      <th>std</th>\n",
       "      <td>11.966492</td>\n",
       "      <td>10.739529</td>\n",
       "      <td>2.937644</td>\n",
       "      <td>6.24831</td>\n",
       "      <td>11.243844</td>\n",
       "      <td>10.023166</td>\n",
       "      <td>2.365245</td>\n",
       "      <td>7.183832</td>\n",
       "    </tr>\n",
       "    <tr>\n",
       "      <th>min</th>\n",
       "      <td>-21.111111</td>\n",
       "      <td>-26.666667</td>\n",
       "      <td>2.235200</td>\n",
       "      <td>0.00000</td>\n",
       "      <td>-21.560000</td>\n",
       "      <td>-29.360000</td>\n",
       "      <td>1.431782</td>\n",
       "      <td>0.000000</td>\n",
       "    </tr>\n",
       "    <tr>\n",
       "      <th>25%</th>\n",
       "      <td>7.222222</td>\n",
       "      <td>-1.666667</td>\n",
       "      <td>5.811520</td>\n",
       "      <td>0.00000</td>\n",
       "      <td>6.540000</td>\n",
       "      <td>-0.960000</td>\n",
       "      <td>4.049691</td>\n",
       "      <td>0.000000</td>\n",
       "    </tr>\n",
       "    <tr>\n",
       "      <th>50%</th>\n",
       "      <td>18.333333</td>\n",
       "      <td>6.666667</td>\n",
       "      <td>7.152640</td>\n",
       "      <td>0.00000</td>\n",
       "      <td>17.140000</td>\n",
       "      <td>7.540000</td>\n",
       "      <td>5.458022</td>\n",
       "      <td>0.270000</td>\n",
       "    </tr>\n",
       "    <tr>\n",
       "      <th>75%</th>\n",
       "      <td>27.222222</td>\n",
       "      <td>15.555556</td>\n",
       "      <td>9.387840</td>\n",
       "      <td>0.60000</td>\n",
       "      <td>25.540000</td>\n",
       "      <td>15.240000</td>\n",
       "      <td>7.244998</td>\n",
       "      <td>3.125000</td>\n",
       "    </tr>\n",
       "    <tr>\n",
       "      <th>max</th>\n",
       "      <td>37.777778</td>\n",
       "      <td>25.555556</td>\n",
       "      <td>23.246080</td>\n",
       "      <td>89.00000</td>\n",
       "      <td>37.140000</td>\n",
       "      <td>25.040000</td>\n",
       "      <td>16.413714</td>\n",
       "      <td>94.690000</td>\n",
       "    </tr>\n",
       "  </tbody>\n",
       "</table>\n",
       "</div>"
      ],
      "text/plain": [
       "       Max Hourly Temp (C)  Min Hourly Temp (C)  Max Wind Speed (m/s)  \\\n",
       "count          3576.000000          3576.000000           3576.000000   \n",
       "mean             16.826995             6.048813              7.674937   \n",
       "std              11.966492            10.739529              2.937644   \n",
       "min             -21.111111           -26.666667              2.235200   \n",
       "25%               7.222222            -1.666667              5.811520   \n",
       "50%              18.333333             6.666667              7.152640   \n",
       "75%              27.222222            15.555556              9.387840   \n",
       "max              37.777778            25.555556             23.246080   \n",
       "\n",
       "       Daily Precip (mm)         TMAX         TMIN         WMAX         RTOT  \n",
       "count         3576.00000  3576.000000  3576.000000  3576.000000  3576.000000  \n",
       "mean             2.11443    15.537847     6.678395     5.840101     3.280696  \n",
       "std              6.24831    11.243844    10.023166     2.365245     7.183832  \n",
       "min              0.00000   -21.560000   -29.360000     1.431782     0.000000  \n",
       "25%              0.00000     6.540000    -0.960000     4.049691     0.000000  \n",
       "50%              0.00000    17.140000     7.540000     5.458022     0.270000  \n",
       "75%              0.60000    25.540000    15.240000     7.244998     3.125000  \n",
       "max             89.00000    37.140000    25.040000    16.413714    94.690000  "
      ]
     },
     "execution_count": 131,
     "metadata": {},
     "output_type": "execute_result"
    }
   ],
   "source": [
    "features.describe()"
   ]
  },
  {
   "cell_type": "code",
   "execution_count": 132,
   "metadata": {},
   "outputs": [],
   "source": [
    "# Add year, month, day as integers \n",
    "features['year'] = features['Date'].dt.year\n",
    "features['month'] = features['Date'].dt.month\n",
    "features['day'] = features['Date'].dt.day"
   ]
  },
  {
   "cell_type": "code",
   "execution_count": 133,
   "metadata": {},
   "outputs": [
    {
     "data": {
      "text/html": [
       "<div>\n",
       "<style scoped>\n",
       "    .dataframe tbody tr th:only-of-type {\n",
       "        vertical-align: middle;\n",
       "    }\n",
       "\n",
       "    .dataframe tbody tr th {\n",
       "        vertical-align: top;\n",
       "    }\n",
       "\n",
       "    .dataframe thead th {\n",
       "        text-align: right;\n",
       "    }\n",
       "</style>\n",
       "<table border=\"1\" class=\"dataframe\">\n",
       "  <thead>\n",
       "    <tr style=\"text-align: right;\">\n",
       "      <th></th>\n",
       "      <th>Date</th>\n",
       "      <th>Max Hourly Temp (C)</th>\n",
       "      <th>Min Hourly Temp (C)</th>\n",
       "      <th>Max Wind Speed (m/s)</th>\n",
       "      <th>Daily Precip (mm)</th>\n",
       "      <th>TMAX</th>\n",
       "      <th>TMIN</th>\n",
       "      <th>WMAX</th>\n",
       "      <th>RTOT</th>\n",
       "      <th>year</th>\n",
       "      <th>month</th>\n",
       "      <th>day</th>\n",
       "    </tr>\n",
       "  </thead>\n",
       "  <tbody>\n",
       "    <tr>\n",
       "      <th>0</th>\n",
       "      <td>2010-01-01 12:00:00</td>\n",
       "      <td>-11.111111</td>\n",
       "      <td>-16.666667</td>\n",
       "      <td>6.70560</td>\n",
       "      <td>0.0</td>\n",
       "      <td>-11.26</td>\n",
       "      <td>-16.46</td>\n",
       "      <td>7.323933</td>\n",
       "      <td>0.05</td>\n",
       "      <td>2010</td>\n",
       "      <td>1</td>\n",
       "      <td>1</td>\n",
       "    </tr>\n",
       "    <tr>\n",
       "      <th>1</th>\n",
       "      <td>2010-01-02 12:00:00</td>\n",
       "      <td>-14.444444</td>\n",
       "      <td>-20.555556</td>\n",
       "      <td>6.70560</td>\n",
       "      <td>0.0</td>\n",
       "      <td>-10.16</td>\n",
       "      <td>-15.96</td>\n",
       "      <td>4.687217</td>\n",
       "      <td>0.00</td>\n",
       "      <td>2010</td>\n",
       "      <td>1</td>\n",
       "      <td>2</td>\n",
       "    </tr>\n",
       "    <tr>\n",
       "      <th>2</th>\n",
       "      <td>2010-01-03 12:00:00</td>\n",
       "      <td>-12.222222</td>\n",
       "      <td>-21.111111</td>\n",
       "      <td>4.91744</td>\n",
       "      <td>0.0</td>\n",
       "      <td>-9.96</td>\n",
       "      <td>-14.36</td>\n",
       "      <td>5.941380</td>\n",
       "      <td>0.06</td>\n",
       "      <td>2010</td>\n",
       "      <td>1</td>\n",
       "      <td>3</td>\n",
       "    </tr>\n",
       "    <tr>\n",
       "      <th>3</th>\n",
       "      <td>2010-01-04 12:00:00</td>\n",
       "      <td>-11.666667</td>\n",
       "      <td>-18.888889</td>\n",
       "      <td>8.94080</td>\n",
       "      <td>0.0</td>\n",
       "      <td>-8.46</td>\n",
       "      <td>-12.86</td>\n",
       "      <td>5.685068</td>\n",
       "      <td>0.17</td>\n",
       "      <td>2010</td>\n",
       "      <td>1</td>\n",
       "      <td>4</td>\n",
       "    </tr>\n",
       "    <tr>\n",
       "      <th>4</th>\n",
       "      <td>2010-01-05 12:00:00</td>\n",
       "      <td>-12.222222</td>\n",
       "      <td>-18.333333</td>\n",
       "      <td>7.15264</td>\n",
       "      <td>0.0</td>\n",
       "      <td>-7.16</td>\n",
       "      <td>-11.06</td>\n",
       "      <td>3.794733</td>\n",
       "      <td>0.77</td>\n",
       "      <td>2010</td>\n",
       "      <td>1</td>\n",
       "      <td>5</td>\n",
       "    </tr>\n",
       "    <tr>\n",
       "      <th>...</th>\n",
       "      <td>...</td>\n",
       "      <td>...</td>\n",
       "      <td>...</td>\n",
       "      <td>...</td>\n",
       "      <td>...</td>\n",
       "      <td>...</td>\n",
       "      <td>...</td>\n",
       "      <td>...</td>\n",
       "      <td>...</td>\n",
       "      <td>...</td>\n",
       "      <td>...</td>\n",
       "      <td>...</td>\n",
       "    </tr>\n",
       "    <tr>\n",
       "      <th>3609</th>\n",
       "      <td>2019-12-27 12:00:00</td>\n",
       "      <td>6.111111</td>\n",
       "      <td>0.000000</td>\n",
       "      <td>6.70560</td>\n",
       "      <td>0.0</td>\n",
       "      <td>13.94</td>\n",
       "      <td>3.54</td>\n",
       "      <td>8.819297</td>\n",
       "      <td>2.73</td>\n",
       "      <td>2019</td>\n",
       "      <td>12</td>\n",
       "      <td>27</td>\n",
       "    </tr>\n",
       "    <tr>\n",
       "      <th>3610</th>\n",
       "      <td>2019-12-28 12:00:00</td>\n",
       "      <td>13.333333</td>\n",
       "      <td>0.000000</td>\n",
       "      <td>10.28192</td>\n",
       "      <td>2.7</td>\n",
       "      <td>15.94</td>\n",
       "      <td>9.34</td>\n",
       "      <td>9.701546</td>\n",
       "      <td>11.58</td>\n",
       "      <td>2019</td>\n",
       "      <td>12</td>\n",
       "      <td>28</td>\n",
       "    </tr>\n",
       "    <tr>\n",
       "      <th>3611</th>\n",
       "      <td>2019-12-29 12:00:00</td>\n",
       "      <td>15.000000</td>\n",
       "      <td>5.000000</td>\n",
       "      <td>10.28192</td>\n",
       "      <td>4.0</td>\n",
       "      <td>7.24</td>\n",
       "      <td>-1.66</td>\n",
       "      <td>11.111256</td>\n",
       "      <td>2.57</td>\n",
       "      <td>2019</td>\n",
       "      <td>12</td>\n",
       "      <td>29</td>\n",
       "    </tr>\n",
       "    <tr>\n",
       "      <th>3612</th>\n",
       "      <td>2019-12-30 12:00:00</td>\n",
       "      <td>3.333333</td>\n",
       "      <td>-0.555556</td>\n",
       "      <td>11.62304</td>\n",
       "      <td>0.4</td>\n",
       "      <td>-0.36</td>\n",
       "      <td>-2.26</td>\n",
       "      <td>8.769265</td>\n",
       "      <td>0.04</td>\n",
       "      <td>2019</td>\n",
       "      <td>12</td>\n",
       "      <td>30</td>\n",
       "    </tr>\n",
       "    <tr>\n",
       "      <th>3613</th>\n",
       "      <td>2019-12-31 12:00:00</td>\n",
       "      <td>0.555556</td>\n",
       "      <td>-1.111111</td>\n",
       "      <td>12.96416</td>\n",
       "      <td>0.0</td>\n",
       "      <td>6.44</td>\n",
       "      <td>-2.36</td>\n",
       "      <td>8.287340</td>\n",
       "      <td>0.00</td>\n",
       "      <td>2019</td>\n",
       "      <td>12</td>\n",
       "      <td>31</td>\n",
       "    </tr>\n",
       "  </tbody>\n",
       "</table>\n",
       "<p>3576 rows × 12 columns</p>\n",
       "</div>"
      ],
      "text/plain": [
       "                    Date  Max Hourly Temp (C)  Min Hourly Temp (C)  \\\n",
       "0    2010-01-01 12:00:00           -11.111111           -16.666667   \n",
       "1    2010-01-02 12:00:00           -14.444444           -20.555556   \n",
       "2    2010-01-03 12:00:00           -12.222222           -21.111111   \n",
       "3    2010-01-04 12:00:00           -11.666667           -18.888889   \n",
       "4    2010-01-05 12:00:00           -12.222222           -18.333333   \n",
       "...                  ...                  ...                  ...   \n",
       "3609 2019-12-27 12:00:00             6.111111             0.000000   \n",
       "3610 2019-12-28 12:00:00            13.333333             0.000000   \n",
       "3611 2019-12-29 12:00:00            15.000000             5.000000   \n",
       "3612 2019-12-30 12:00:00             3.333333            -0.555556   \n",
       "3613 2019-12-31 12:00:00             0.555556            -1.111111   \n",
       "\n",
       "      Max Wind Speed (m/s)  Daily Precip (mm)   TMAX   TMIN       WMAX   RTOT  \\\n",
       "0                  6.70560                0.0 -11.26 -16.46   7.323933   0.05   \n",
       "1                  6.70560                0.0 -10.16 -15.96   4.687217   0.00   \n",
       "2                  4.91744                0.0  -9.96 -14.36   5.941380   0.06   \n",
       "3                  8.94080                0.0  -8.46 -12.86   5.685068   0.17   \n",
       "4                  7.15264                0.0  -7.16 -11.06   3.794733   0.77   \n",
       "...                    ...                ...    ...    ...        ...    ...   \n",
       "3609               6.70560                0.0  13.94   3.54   8.819297   2.73   \n",
       "3610              10.28192                2.7  15.94   9.34   9.701546  11.58   \n",
       "3611              10.28192                4.0   7.24  -1.66  11.111256   2.57   \n",
       "3612              11.62304                0.4  -0.36  -2.26   8.769265   0.04   \n",
       "3613              12.96416                0.0   6.44  -2.36   8.287340   0.00   \n",
       "\n",
       "      year  month  day  \n",
       "0     2010      1    1  \n",
       "1     2010      1    2  \n",
       "2     2010      1    3  \n",
       "3     2010      1    4  \n",
       "4     2010      1    5  \n",
       "...    ...    ...  ...  \n",
       "3609  2019     12   27  \n",
       "3610  2019     12   28  \n",
       "3611  2019     12   29  \n",
       "3612  2019     12   30  \n",
       "3613  2019     12   31  \n",
       "\n",
       "[3576 rows x 12 columns]"
      ]
     },
     "execution_count": 133,
     "metadata": {},
     "output_type": "execute_result"
    }
   ],
   "source": [
    "features"
   ]
  },
  {
   "cell_type": "code",
   "execution_count": 175,
   "metadata": {},
   "outputs": [],
   "source": [
    "# The data we will be using to predict the labels\n",
    "new_features = features.drop(columns = ['Date', 'Max Hourly Temp (C)', 'Min Hourly Temp (C)', 'Max Wind Speed (m/s)', 'Daily Precip (mm)'], axis = 1)"
   ]
  },
  {
   "cell_type": "code",
   "execution_count": 176,
   "metadata": {},
   "outputs": [
    {
     "data": {
      "text/html": [
       "<div>\n",
       "<style scoped>\n",
       "    .dataframe tbody tr th:only-of-type {\n",
       "        vertical-align: middle;\n",
       "    }\n",
       "\n",
       "    .dataframe tbody tr th {\n",
       "        vertical-align: top;\n",
       "    }\n",
       "\n",
       "    .dataframe thead th {\n",
       "        text-align: right;\n",
       "    }\n",
       "</style>\n",
       "<table border=\"1\" class=\"dataframe\">\n",
       "  <thead>\n",
       "    <tr style=\"text-align: right;\">\n",
       "      <th></th>\n",
       "      <th>TMAX</th>\n",
       "      <th>TMIN</th>\n",
       "      <th>WMAX</th>\n",
       "      <th>RTOT</th>\n",
       "      <th>year</th>\n",
       "      <th>month</th>\n",
       "      <th>day</th>\n",
       "    </tr>\n",
       "  </thead>\n",
       "  <tbody>\n",
       "    <tr>\n",
       "      <th>0</th>\n",
       "      <td>-11.26</td>\n",
       "      <td>-16.46</td>\n",
       "      <td>7.323933</td>\n",
       "      <td>0.05</td>\n",
       "      <td>2010</td>\n",
       "      <td>1</td>\n",
       "      <td>1</td>\n",
       "    </tr>\n",
       "    <tr>\n",
       "      <th>1</th>\n",
       "      <td>-10.16</td>\n",
       "      <td>-15.96</td>\n",
       "      <td>4.687217</td>\n",
       "      <td>0.00</td>\n",
       "      <td>2010</td>\n",
       "      <td>1</td>\n",
       "      <td>2</td>\n",
       "    </tr>\n",
       "    <tr>\n",
       "      <th>2</th>\n",
       "      <td>-9.96</td>\n",
       "      <td>-14.36</td>\n",
       "      <td>5.941380</td>\n",
       "      <td>0.06</td>\n",
       "      <td>2010</td>\n",
       "      <td>1</td>\n",
       "      <td>3</td>\n",
       "    </tr>\n",
       "    <tr>\n",
       "      <th>3</th>\n",
       "      <td>-8.46</td>\n",
       "      <td>-12.86</td>\n",
       "      <td>5.685068</td>\n",
       "      <td>0.17</td>\n",
       "      <td>2010</td>\n",
       "      <td>1</td>\n",
       "      <td>4</td>\n",
       "    </tr>\n",
       "    <tr>\n",
       "      <th>4</th>\n",
       "      <td>-7.16</td>\n",
       "      <td>-11.06</td>\n",
       "      <td>3.794733</td>\n",
       "      <td>0.77</td>\n",
       "      <td>2010</td>\n",
       "      <td>1</td>\n",
       "      <td>5</td>\n",
       "    </tr>\n",
       "    <tr>\n",
       "      <th>...</th>\n",
       "      <td>...</td>\n",
       "      <td>...</td>\n",
       "      <td>...</td>\n",
       "      <td>...</td>\n",
       "      <td>...</td>\n",
       "      <td>...</td>\n",
       "      <td>...</td>\n",
       "    </tr>\n",
       "    <tr>\n",
       "      <th>3609</th>\n",
       "      <td>13.94</td>\n",
       "      <td>3.54</td>\n",
       "      <td>8.819297</td>\n",
       "      <td>2.73</td>\n",
       "      <td>2019</td>\n",
       "      <td>12</td>\n",
       "      <td>27</td>\n",
       "    </tr>\n",
       "    <tr>\n",
       "      <th>3610</th>\n",
       "      <td>15.94</td>\n",
       "      <td>9.34</td>\n",
       "      <td>9.701546</td>\n",
       "      <td>11.58</td>\n",
       "      <td>2019</td>\n",
       "      <td>12</td>\n",
       "      <td>28</td>\n",
       "    </tr>\n",
       "    <tr>\n",
       "      <th>3611</th>\n",
       "      <td>7.24</td>\n",
       "      <td>-1.66</td>\n",
       "      <td>11.111256</td>\n",
       "      <td>2.57</td>\n",
       "      <td>2019</td>\n",
       "      <td>12</td>\n",
       "      <td>29</td>\n",
       "    </tr>\n",
       "    <tr>\n",
       "      <th>3612</th>\n",
       "      <td>-0.36</td>\n",
       "      <td>-2.26</td>\n",
       "      <td>8.769265</td>\n",
       "      <td>0.04</td>\n",
       "      <td>2019</td>\n",
       "      <td>12</td>\n",
       "      <td>30</td>\n",
       "    </tr>\n",
       "    <tr>\n",
       "      <th>3613</th>\n",
       "      <td>6.44</td>\n",
       "      <td>-2.36</td>\n",
       "      <td>8.287340</td>\n",
       "      <td>0.00</td>\n",
       "      <td>2019</td>\n",
       "      <td>12</td>\n",
       "      <td>31</td>\n",
       "    </tr>\n",
       "  </tbody>\n",
       "</table>\n",
       "<p>3576 rows × 7 columns</p>\n",
       "</div>"
      ],
      "text/plain": [
       "       TMAX   TMIN       WMAX   RTOT  year  month  day\n",
       "0    -11.26 -16.46   7.323933   0.05  2010      1    1\n",
       "1    -10.16 -15.96   4.687217   0.00  2010      1    2\n",
       "2     -9.96 -14.36   5.941380   0.06  2010      1    3\n",
       "3     -8.46 -12.86   5.685068   0.17  2010      1    4\n",
       "4     -7.16 -11.06   3.794733   0.77  2010      1    5\n",
       "...     ...    ...        ...    ...   ...    ...  ...\n",
       "3609  13.94   3.54   8.819297   2.73  2019     12   27\n",
       "3610  15.94   9.34   9.701546  11.58  2019     12   28\n",
       "3611   7.24  -1.66  11.111256   2.57  2019     12   29\n",
       "3612  -0.36  -2.26   8.769265   0.04  2019     12   30\n",
       "3613   6.44  -2.36   8.287340   0.00  2019     12   31\n",
       "\n",
       "[3576 rows x 7 columns]"
      ]
     },
     "execution_count": 176,
     "metadata": {},
     "output_type": "execute_result"
    }
   ],
   "source": [
    "new_features"
   ]
  },
  {
   "cell_type": "markdown",
   "metadata": {},
   "source": [
    "## Now run the model!"
   ]
  },
  {
   "cell_type": "markdown",
   "metadata": {},
   "source": [
    "### Maximum Temperature"
   ]
  },
  {
   "cell_type": "code",
   "execution_count": 178,
   "metadata": {},
   "outputs": [],
   "source": [
    "# Split the data into training and testing sets\n",
    "train_features = np.array(new_features.query('year < 2019'))\n",
    "test_features = np.array(new_features.query('year == 2019'))\n",
    "train_labels = np.array(features.query('year < 2019')['Max Hourly Temp (C)'])\n",
    "test_labels = np.array(features.query('year == 2019')['Max Hourly Temp (C)'])"
   ]
  },
  {
   "cell_type": "code",
   "execution_count": 179,
   "metadata": {},
   "outputs": [
    {
     "name": "stdout",
     "output_type": "stream",
     "text": [
      "Training Features Shape: (3213, 7)\n",
      "Training Labels Shape: (3213,)\n",
      "Testing Features Shape: (363, 7)\n",
      "Testing Labels Shape: (363,)\n"
     ]
    }
   ],
   "source": [
    "print('Training Features Shape:', train_features.shape)\n",
    "print('Training Labels Shape:', train_labels.shape)\n",
    "print('Testing Features Shape:', test_features.shape)\n",
    "print('Testing Labels Shape:', test_labels.shape)"
   ]
  },
  {
   "cell_type": "code",
   "execution_count": 180,
   "metadata": {},
   "outputs": [],
   "source": [
    "# Import the model we are using\n",
    "from sklearn.ensemble import RandomForestRegressor\n",
    "\n",
    "# Instantiate model with 1000 decision trees\n",
    "rfmax = RandomForestRegressor(n_estimators = 1000, random_state = 42)\n",
    "\n",
    "# Train the model on training data\n",
    "rfmax.fit(train_features, train_labels);"
   ]
  },
  {
   "cell_type": "code",
   "execution_count": 184,
   "metadata": {},
   "outputs": [
    {
     "name": "stdout",
     "output_type": "stream",
     "text": [
      "Root Mean Square Error: 4.05 degrees.\n"
     ]
    }
   ],
   "source": [
    "# Use the forest's predict method on the test data\n",
    "predictions = rfmax.predict(test_features)\n",
    "\n",
    "# Print out the root mean square error (rmse)\n",
    "print('Root Mean Square Error:', round(sqrt(mean_squared_error(test_labels, predictions)), 2), 'degrees.')"
   ]
  },
  {
   "cell_type": "code",
   "execution_count": 185,
   "metadata": {},
   "outputs": [
    {
     "name": "stdout",
     "output_type": "stream",
     "text": [
      "Variable: TMIN                 Importance: 0.75\n",
      "Variable: TMAX                 Importance: 0.17\n",
      "Variable: WMAX                 Importance: 0.02\n",
      "Variable: RTOT                 Importance: 0.01\n",
      "Variable: year                 Importance: 0.01\n",
      "Variable: month                Importance: 0.01\n",
      "Variable: day                  Importance: 0.01\n"
     ]
    }
   ],
   "source": [
    "# Get numerical feature importances\n",
    "importances = list(rfmax.feature_importances_)\n",
    "\n",
    "# List of tuples with variable and importance\n",
    "feature_importances = [(feature, round(importance, 2)) for feature, importance in zip(feature_list, importances)]\n",
    "\n",
    "# Sort the feature importances by most important first\n",
    "feature_importances = sorted(feature_importances, key = lambda x: x[1], reverse = True)\n",
    "\n",
    "# Print out the feature and importances \n",
    "[print('Variable: {:20} Importance: {}'.format(*pair)) for pair in feature_importances];"
   ]
  },
  {
   "cell_type": "markdown",
   "metadata": {},
   "source": [
    "### Minimum Temperature"
   ]
  },
  {
   "cell_type": "code",
   "execution_count": 186,
   "metadata": {},
   "outputs": [],
   "source": [
    "# New labels, features remain the same\n",
    "train_labels = np.array(features.query('year < 2019')['Min Hourly Temp (C)'])\n",
    "test_labels = np.array(features.query('year == 2019')['Min Hourly Temp (C)'])"
   ]
  },
  {
   "cell_type": "code",
   "execution_count": 187,
   "metadata": {},
   "outputs": [],
   "source": [
    "# Instantiate model with 1000 decision trees\n",
    "rfmin = RandomForestRegressor(n_estimators = 1000, random_state = 42)\n",
    "\n",
    "# Train the model on training data\n",
    "rfmin.fit(train_features, train_labels);"
   ]
  },
  {
   "cell_type": "code",
   "execution_count": 189,
   "metadata": {},
   "outputs": [
    {
     "name": "stdout",
     "output_type": "stream",
     "text": [
      "Root Mean Square Error: 3.78 degrees.\n"
     ]
    }
   ],
   "source": [
    "# Use the forest's predict method on the test data\n",
    "predictions = rfmin.predict(test_features)\n",
    "\n",
    "# Print out the root mean square error (rmse)\n",
    "print('Root Mean Square Error:', round(sqrt(mean_squared_error(test_labels, predictions)), 2), 'degrees.')"
   ]
  },
  {
   "cell_type": "code",
   "execution_count": 190,
   "metadata": {},
   "outputs": [
    {
     "name": "stdout",
     "output_type": "stream",
     "text": [
      "Variable: TMIN                 Importance: 0.88\n",
      "Variable: TMAX                 Importance: 0.03\n",
      "Variable: WMAX                 Importance: 0.03\n",
      "Variable: RTOT                 Importance: 0.02\n",
      "Variable: month                Importance: 0.02\n",
      "Variable: day                  Importance: 0.02\n",
      "Variable: year                 Importance: 0.01\n"
     ]
    }
   ],
   "source": [
    "# Get numerical feature importances\n",
    "importances = list(rfmin.feature_importances_)\n",
    "\n",
    "# List of tuples with variable and importance\n",
    "feature_importances = [(feature, round(importance, 2)) for feature, importance in zip(feature_list, importances)]\n",
    "\n",
    "# Sort the feature importances by most important first\n",
    "feature_importances = sorted(feature_importances, key = lambda x: x[1], reverse = True)\n",
    "\n",
    "# Print out the feature and importances \n",
    "[print('Variable: {:20} Importance: {}'.format(*pair)) for pair in feature_importances];"
   ]
  },
  {
   "cell_type": "markdown",
   "metadata": {},
   "source": [
    "### Max Wind Speed"
   ]
  },
  {
   "cell_type": "code",
   "execution_count": 192,
   "metadata": {},
   "outputs": [],
   "source": [
    "# New labels, features remain the same\n",
    "train_labels = np.array(features.query('year < 2019')['Max Wind Speed (m/s)'])\n",
    "test_labels = np.array(features.query('year == 2019')['Max Wind Speed (m/s)'])"
   ]
  },
  {
   "cell_type": "code",
   "execution_count": 193,
   "metadata": {},
   "outputs": [],
   "source": [
    "# Instantiate model with 1000 decision trees\n",
    "rfwind = RandomForestRegressor(n_estimators = 1000, random_state = 42)\n",
    "\n",
    "# Train the model on training data\n",
    "rfwind.fit(train_features, train_labels);"
   ]
  },
  {
   "cell_type": "code",
   "execution_count": 195,
   "metadata": {},
   "outputs": [
    {
     "name": "stdout",
     "output_type": "stream",
     "text": [
      "Root Mean Square Error: 2.57 m/s.\n"
     ]
    }
   ],
   "source": [
    "# Use the forest's predict method on the test data\n",
    "predictions = rfwind.predict(test_features)\n",
    "\n",
    "# Print out the root mean square error (rmse)\n",
    "print('Root Mean Square Error:', round(sqrt(mean_squared_error(test_labels, predictions)), 2), 'm/s.')"
   ]
  },
  {
   "cell_type": "code",
   "execution_count": 196,
   "metadata": {},
   "outputs": [
    {
     "name": "stdout",
     "output_type": "stream",
     "text": [
      "Variable: WMAX                 Importance: 0.27\n",
      "Variable: TMAX                 Importance: 0.24\n",
      "Variable: TMIN                 Importance: 0.12\n",
      "Variable: RTOT                 Importance: 0.1\n",
      "Variable: month                Importance: 0.1\n",
      "Variable: day                  Importance: 0.1\n",
      "Variable: year                 Importance: 0.07\n"
     ]
    }
   ],
   "source": [
    "# Get numerical feature importances\n",
    "importances = list(rfwind.feature_importances_)\n",
    "\n",
    "# List of tuples with variable and importance\n",
    "feature_importances = [(feature, round(importance, 2)) for feature, importance in zip(feature_list, importances)]\n",
    "\n",
    "# Sort the feature importances by most important first\n",
    "feature_importances = sorted(feature_importances, key = lambda x: x[1], reverse = True)\n",
    "\n",
    "# Print out the feature and importances \n",
    "[print('Variable: {:20} Importance: {}'.format(*pair)) for pair in feature_importances];"
   ]
  },
  {
   "cell_type": "markdown",
   "metadata": {},
   "source": [
    "### Total Precipitation"
   ]
  },
  {
   "cell_type": "code",
   "execution_count": 198,
   "metadata": {},
   "outputs": [],
   "source": [
    "# New labels, features remain the same\n",
    "train_labels = np.array(features.query('year < 2019')['Daily Precip (mm)'])\n",
    "test_labels = np.array(features.query('year == 2019')['Daily Precip (mm)'])"
   ]
  },
  {
   "cell_type": "code",
   "execution_count": 199,
   "metadata": {},
   "outputs": [],
   "source": [
    "# Instantiate model with 1000 decision trees\n",
    "rfprecip = RandomForestRegressor(n_estimators = 1000, random_state = 42)\n",
    "\n",
    "# Train the model on training data\n",
    "rfprecip.fit(train_features, train_labels);"
   ]
  },
  {
   "cell_type": "code",
   "execution_count": 200,
   "metadata": {},
   "outputs": [
    {
     "name": "stdout",
     "output_type": "stream",
     "text": [
      "Root Mean Square Error: 5.36 mm.\n"
     ]
    }
   ],
   "source": [
    "# Use the forest's predict method on the test data\n",
    "predictions = rfprecip.predict(test_features)\n",
    "\n",
    "# Print out the root mean square error (rmse)\n",
    "print('Root Mean Square Error:', round(sqrt(mean_squared_error(test_labels, predictions)), 2), 'mm.')"
   ]
  },
  {
   "cell_type": "code",
   "execution_count": 201,
   "metadata": {},
   "outputs": [
    {
     "name": "stdout",
     "output_type": "stream",
     "text": [
      "Variable: WMAX                 Importance: 0.21\n",
      "Variable: TMAX                 Importance: 0.18\n",
      "Variable: RTOT                 Importance: 0.18\n",
      "Variable: TMIN                 Importance: 0.17\n",
      "Variable: day                  Importance: 0.11\n",
      "Variable: year                 Importance: 0.07\n",
      "Variable: month                Importance: 0.07\n"
     ]
    }
   ],
   "source": [
    "# Get numerical feature importances\n",
    "importances = list(rfprecip.feature_importances_)\n",
    "\n",
    "# List of tuples with variable and importance\n",
    "feature_importances = [(feature, round(importance, 2)) for feature, importance in zip(feature_list, importances)]\n",
    "\n",
    "# Sort the feature importances by most important first\n",
    "feature_importances = sorted(feature_importances, key = lambda x: x[1], reverse = True)\n",
    "\n",
    "# Print out the feature and importances \n",
    "[print('Variable: {:20} Importance: {}'.format(*pair)) for pair in feature_importances];"
   ]
  },
  {
   "cell_type": "code",
   "execution_count": null,
   "metadata": {},
   "outputs": [],
   "source": []
  }
 ],
 "metadata": {
  "kernelspec": {
   "display_name": "Python 3",
   "language": "python",
   "name": "python3"
  },
  "language_info": {
   "codemirror_mode": {
    "name": "ipython",
    "version": 3
   },
   "file_extension": ".py",
   "mimetype": "text/x-python",
   "name": "python",
   "nbconvert_exporter": "python",
   "pygments_lexer": "ipython3",
   "version": "3.7.6"
  }
 },
 "nbformat": 4,
 "nbformat_minor": 4
}
