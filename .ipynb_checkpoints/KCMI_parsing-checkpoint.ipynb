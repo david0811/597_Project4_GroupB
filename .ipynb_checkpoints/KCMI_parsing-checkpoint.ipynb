{
 "cells": [
  {
   "cell_type": "markdown",
   "metadata": {
    "colab_type": "text",
    "id": "view-in-github"
   },
   "source": [
    "<a href=\"https://colab.research.google.com/github/kevingray92/597_Project4_GroupB/blob/checkwithnewCMI_hourly_and_GFS_sfc/KCMI_parsing.ipynb\" target=\"_parent\"><img src=\"https://colab.research.google.com/assets/colab-badge.svg\" alt=\"Open In Colab\"/></a>"
   ]
  },
  {
   "cell_type": "code",
   "execution_count": 1,
   "metadata": {
    "colab": {},
    "colab_type": "code",
    "id": "SIDqFJflWspn"
   },
   "outputs": [],
   "source": [
    "import numpy as np\n",
    "import pandas as pd\n",
    "import os\n",
    "# import tarfile"
   ]
  },
  {
   "cell_type": "markdown",
   "metadata": {
    "colab_type": "text",
    "id": "2853zUfcuolj"
   },
   "source": [
    "### Adding hourly KCMI precip to the daily data"
   ]
  },
  {
   "cell_type": "code",
   "execution_count": 2,
   "metadata": {
    "colab": {
     "base_uri": "https://localhost:8080/",
     "height": 124
    },
    "colab_type": "code",
    "id": "n5jZJheSuw27",
    "outputId": "fe91628b-c154-49ab-e868-6451a26999f2"
   },
   "outputs": [
    {
     "name": "stdout",
     "output_type": "stream",
     "text": [
      "Go to this URL in a browser: https://accounts.google.com/o/oauth2/auth?client_id=947318989803-6bn6qk8qdgf4n4g3pfee6491hc0brc4i.apps.googleusercontent.com&redirect_uri=urn%3aietf%3awg%3aoauth%3a2.0%3aoob&response_type=code&scope=email%20https%3a%2f%2fwww.googleapis.com%2fauth%2fdocs.test%20https%3a%2f%2fwww.googleapis.com%2fauth%2fdrive%20https%3a%2f%2fwww.googleapis.com%2fauth%2fdrive.photos.readonly%20https%3a%2f%2fwww.googleapis.com%2fauth%2fpeopleapi.readonly\n",
      "\n",
      "Enter your authorization code:\n",
      "··········\n",
      "Mounted at /content/drive\n"
     ]
    }
   ],
   "source": [
    "from google.colab import drive\n",
    "drive.mount('/content/drive')"
   ]
  },
  {
   "cell_type": "code",
   "execution_count": 3,
   "metadata": {
    "colab": {
     "base_uri": "https://localhost:8080/",
     "height": 208
    },
    "colab_type": "code",
    "id": "5JDyuqpqW4z9",
    "outputId": "3cf0e98d-ebc7-4ca2-8906-c2eef42d1168"
   },
   "outputs": [
    {
     "name": "stdout",
     "output_type": "stream",
     "text": [
      "--2020-03-30 18:44:48--  https://raw.githubusercontent.com/swnesbitt/ATMS-597-SP-2020/master/ATMS-597-SP-2020-Project-4/KCMI_hourly.csv\n",
      "Resolving raw.githubusercontent.com (raw.githubusercontent.com)... 151.101.0.133, 151.101.64.133, 151.101.128.133, ...\n",
      "Connecting to raw.githubusercontent.com (raw.githubusercontent.com)|151.101.0.133|:443... connected.\n",
      "HTTP request sent, awaiting response... 200 OK\n",
      "Length: 7611908 (7.3M) [text/plain]\n",
      "Saving to: ‘KCMI_hourly.csv’\n",
      "\n",
      "KCMI_hourly.csv     100%[===================>]   7.26M  --.-KB/s    in 0.1s    \n",
      "\n",
      "2020-03-30 18:44:49 (58.6 MB/s) - ‘KCMI_hourly.csv’ saved [7611908/7611908]\n",
      "\n"
     ]
    }
   ],
   "source": [
    "#Download the data\n",
    "!wget https://raw.githubusercontent.com/swnesbitt/ATMS-597-SP-2020/master/ATMS-597-SP-2020-Project-4/KCMI_hourly.csv"
   ]
  },
  {
   "cell_type": "code",
   "execution_count": null,
   "metadata": {
    "colab": {},
    "colab_type": "code",
    "id": "Mo-4HVm-cXwv"
   },
   "outputs": [],
   "source": [
    "#Used to unzip the .tar.gz files\n",
    "!gunzip drive/My\\ Drive/Colab\\ Notebooks/ATMS-597/Module04/Project04/sfc.tar.gz"
   ]
  },
  {
   "cell_type": "code",
   "execution_count": null,
   "metadata": {
    "colab": {},
    "colab_type": "code",
    "id": "-BvTAxfLeY4Y"
   },
   "outputs": [],
   "source": [
    "#Use this to untar the .tar files\n",
    "#Looks like it will send all of these to a new remote directory called 'bufkit'\n",
    "#Might want to specify a destination folder in the future\n",
    "!tar -xvf drive/My\\ Drive/Colab\\ Notebooks/ATMS-597/Module04/Project04/sfc.tar"
   ]
  },
  {
   "cell_type": "code",
   "execution_count": 8,
   "metadata": {
    "colab": {
     "base_uri": "https://localhost:8080/",
     "height": 415
    },
    "colab_type": "code",
    "id": "dvpoaLyuexXI",
    "outputId": "bb5e6479-c22f-4177-8b9b-c3c664126eed"
   },
   "outputs": [
    {
     "data": {
      "text/html": [
       "<div>\n",
       "<style scoped>\n",
       "    .dataframe tbody tr th:only-of-type {\n",
       "        vertical-align: middle;\n",
       "    }\n",
       "\n",
       "    .dataframe tbody tr th {\n",
       "        vertical-align: top;\n",
       "    }\n",
       "\n",
       "    .dataframe thead th {\n",
       "        text-align: right;\n",
       "    }\n",
       "</style>\n",
       "<table border=\"1\" class=\"dataframe\">\n",
       "  <thead>\n",
       "    <tr style=\"text-align: right;\">\n",
       "      <th></th>\n",
       "      <th>Date</th>\n",
       "      <th>Max Hourly Temp (F)</th>\n",
       "      <th>Min Hourly Temp (F)</th>\n",
       "      <th>Max Wind Speed (mph)</th>\n",
       "      <th>Total Precip (in)</th>\n",
       "    </tr>\n",
       "  </thead>\n",
       "  <tbody>\n",
       "    <tr>\n",
       "      <th>0</th>\n",
       "      <td>1/1/2010</td>\n",
       "      <td>12</td>\n",
       "      <td>2</td>\n",
       "      <td>15</td>\n",
       "      <td>M</td>\n",
       "    </tr>\n",
       "    <tr>\n",
       "      <th>1</th>\n",
       "      <td>1/2/2010</td>\n",
       "      <td>6</td>\n",
       "      <td>-5</td>\n",
       "      <td>15</td>\n",
       "      <td>0</td>\n",
       "    </tr>\n",
       "    <tr>\n",
       "      <th>2</th>\n",
       "      <td>1/3/2010</td>\n",
       "      <td>10</td>\n",
       "      <td>-6</td>\n",
       "      <td>11</td>\n",
       "      <td>0</td>\n",
       "    </tr>\n",
       "    <tr>\n",
       "      <th>3</th>\n",
       "      <td>1/4/2010</td>\n",
       "      <td>11</td>\n",
       "      <td>-2</td>\n",
       "      <td>20</td>\n",
       "      <td>0</td>\n",
       "    </tr>\n",
       "    <tr>\n",
       "      <th>4</th>\n",
       "      <td>1/5/2010</td>\n",
       "      <td>10</td>\n",
       "      <td>-1</td>\n",
       "      <td>16</td>\n",
       "      <td>M</td>\n",
       "    </tr>\n",
       "    <tr>\n",
       "      <th>...</th>\n",
       "      <td>...</td>\n",
       "      <td>...</td>\n",
       "      <td>...</td>\n",
       "      <td>...</td>\n",
       "      <td>...</td>\n",
       "    </tr>\n",
       "    <tr>\n",
       "      <th>3647</th>\n",
       "      <td>12/27/2019</td>\n",
       "      <td>43</td>\n",
       "      <td>32</td>\n",
       "      <td>15</td>\n",
       "      <td>0</td>\n",
       "    </tr>\n",
       "    <tr>\n",
       "      <th>3648</th>\n",
       "      <td>12/28/2019</td>\n",
       "      <td>56</td>\n",
       "      <td>32</td>\n",
       "      <td>23</td>\n",
       "      <td>0.23</td>\n",
       "    </tr>\n",
       "    <tr>\n",
       "      <th>3649</th>\n",
       "      <td>12/29/2019</td>\n",
       "      <td>59</td>\n",
       "      <td>41</td>\n",
       "      <td>23</td>\n",
       "      <td>0.22</td>\n",
       "    </tr>\n",
       "    <tr>\n",
       "      <th>3650</th>\n",
       "      <td>12/30/2019</td>\n",
       "      <td>38</td>\n",
       "      <td>31</td>\n",
       "      <td>26</td>\n",
       "      <td>0.01</td>\n",
       "    </tr>\n",
       "    <tr>\n",
       "      <th>3651</th>\n",
       "      <td>12/31/2019</td>\n",
       "      <td>33</td>\n",
       "      <td>30</td>\n",
       "      <td>29</td>\n",
       "      <td>0</td>\n",
       "    </tr>\n",
       "  </tbody>\n",
       "</table>\n",
       "<p>3652 rows × 5 columns</p>\n",
       "</div>"
      ],
      "text/plain": [
       "            Date Max Hourly Temp (F) Min Hourly Temp (F) Max Wind Speed (mph)  \\\n",
       "0       1/1/2010                  12                   2                   15   \n",
       "1       1/2/2010                   6                  -5                   15   \n",
       "2       1/3/2010                  10                  -6                   11   \n",
       "3       1/4/2010                  11                  -2                   20   \n",
       "4       1/5/2010                  10                  -1                   16   \n",
       "...          ...                 ...                 ...                  ...   \n",
       "3647  12/27/2019                  43                  32                   15   \n",
       "3648  12/28/2019                  56                  32                   23   \n",
       "3649  12/29/2019                  59                  41                   23   \n",
       "3650  12/30/2019                  38                  31                   26   \n",
       "3651  12/31/2019                  33                  30                   29   \n",
       "\n",
       "     Total Precip (in)  \n",
       "0                    M  \n",
       "1                    0  \n",
       "2                    0  \n",
       "3                    0  \n",
       "4                    M  \n",
       "...                ...  \n",
       "3647                 0  \n",
       "3648              0.23  \n",
       "3649              0.22  \n",
       "3650              0.01  \n",
       "3651                 0  \n",
       "\n",
       "[3652 rows x 5 columns]"
      ]
     },
     "execution_count": 8,
     "metadata": {},
     "output_type": "execute_result"
    }
   ],
   "source": [
    "#  dailyobs = pd.read_csv('drive/My Drive/KCMI_dailyNOFOOTER.csv', header=8)  # Read the daily obs (removed the footer in the original file)\n",
    "dailyobs = pd.read_csv('./raw_data/KCMI_dailyNOFOOTER.csv', header=8)  # (David) Read the daily obs (removed the footer in the original file)\n",
    "dailyobs.drop(['Total Precip (in)'],axis=1)  # Drop the daily precip column that we are going to replace\n",
    "dailyobs"
   ]
  },
  {
   "cell_type": "code",
   "execution_count": 10,
   "metadata": {
    "colab": {},
    "colab_type": "code",
    "id": "HUvMrDdSin7E"
   },
   "outputs": [],
   "source": [
    "# hourlyobs = pd.read_csv('drive/My Drive/KCMI_hourly.csv')  # Read the hourly file\n",
    "hourlyobs = pd.read_csv('./raw_data/KCMI_hourly.csv')  # (David) Read the hourly file\n",
    "hourlyprecip = hourlyobs.drop(['tmpc','dwpc','mslp','wdir','wspd','skct','pr6h','doy','woy'],axis=1)  # Only keep precip column\n",
    "hourlyprecip.set_index('Timestamp')  # Make the index be the timestamp\n",
    "hourlyprecip.index = pd.to_datetime(hourlyprecip['Timestamp'])  # Make the index be a datetime\n",
    "dailyprecip = hourlyprecip.resample('d').sum()  # Resample to daily\n",
    "dailyprecip.columns = ['Daily Precip (mm)']  # Rename the column"
   ]
  },
  {
   "cell_type": "code",
   "execution_count": 11,
   "metadata": {
    "colab": {
     "base_uri": "https://localhost:8080/",
     "height": 233
    },
    "colab_type": "code",
    "id": "Kq3BFg1PuomG",
    "outputId": "fd20bd74-90e6-4af5-b326-7954340148f9"
   },
   "outputs": [
    {
     "data": {
      "text/html": [
       "<div>\n",
       "<style scoped>\n",
       "    .dataframe tbody tr th:only-of-type {\n",
       "        vertical-align: middle;\n",
       "    }\n",
       "\n",
       "    .dataframe tbody tr th {\n",
       "        vertical-align: top;\n",
       "    }\n",
       "\n",
       "    .dataframe thead th {\n",
       "        text-align: right;\n",
       "    }\n",
       "</style>\n",
       "<table border=\"1\" class=\"dataframe\">\n",
       "  <thead>\n",
       "    <tr style=\"text-align: right;\">\n",
       "      <th></th>\n",
       "      <th>Daily Precip (mm)</th>\n",
       "    </tr>\n",
       "    <tr>\n",
       "      <th>Timestamp</th>\n",
       "      <th></th>\n",
       "    </tr>\n",
       "  </thead>\n",
       "  <tbody>\n",
       "    <tr>\n",
       "      <th>2006-01-01</th>\n",
       "      <td>0.0</td>\n",
       "    </tr>\n",
       "    <tr>\n",
       "      <th>2006-01-02</th>\n",
       "      <td>2.3</td>\n",
       "    </tr>\n",
       "    <tr>\n",
       "      <th>2006-01-03</th>\n",
       "      <td>-0.1</td>\n",
       "    </tr>\n",
       "    <tr>\n",
       "      <th>2006-01-04</th>\n",
       "      <td>0.3</td>\n",
       "    </tr>\n",
       "    <tr>\n",
       "      <th>2006-01-05</th>\n",
       "      <td>0.0</td>\n",
       "    </tr>\n",
       "  </tbody>\n",
       "</table>\n",
       "</div>"
      ],
      "text/plain": [
       "            Daily Precip (mm)\n",
       "Timestamp                    \n",
       "2006-01-01                0.0\n",
       "2006-01-02                2.3\n",
       "2006-01-03               -0.1\n",
       "2006-01-04                0.3\n",
       "2006-01-05                0.0"
      ]
     },
     "execution_count": 11,
     "metadata": {},
     "output_type": "execute_result"
    }
   ],
   "source": [
    "dailyprecip.head()"
   ]
  },
  {
   "cell_type": "code",
   "execution_count": 12,
   "metadata": {
    "colab": {
     "base_uri": "https://localhost:8080/",
     "height": 415
    },
    "colab_type": "code",
    "id": "zfma-0CPu6xh",
    "outputId": "21f288c5-d0b5-4d2f-8eb3-22d2a9489322"
   },
   "outputs": [
    {
     "data": {
      "text/html": [
       "<div>\n",
       "<style scoped>\n",
       "    .dataframe tbody tr th:only-of-type {\n",
       "        vertical-align: middle;\n",
       "    }\n",
       "\n",
       "    .dataframe tbody tr th {\n",
       "        vertical-align: top;\n",
       "    }\n",
       "\n",
       "    .dataframe thead th {\n",
       "        text-align: right;\n",
       "    }\n",
       "</style>\n",
       "<table border=\"1\" class=\"dataframe\">\n",
       "  <thead>\n",
       "    <tr style=\"text-align: right;\">\n",
       "      <th></th>\n",
       "      <th>Date</th>\n",
       "      <th>Max Hourly Temp (F)</th>\n",
       "      <th>Min Hourly Temp (F)</th>\n",
       "      <th>Max Wind Speed (mph)</th>\n",
       "      <th>Total Precip (in)</th>\n",
       "      <th>Daily Precip (mm)</th>\n",
       "    </tr>\n",
       "  </thead>\n",
       "  <tbody>\n",
       "    <tr>\n",
       "      <th>0</th>\n",
       "      <td>1/1/2010</td>\n",
       "      <td>12</td>\n",
       "      <td>2</td>\n",
       "      <td>15</td>\n",
       "      <td>M</td>\n",
       "      <td>0.0</td>\n",
       "    </tr>\n",
       "    <tr>\n",
       "      <th>1</th>\n",
       "      <td>1/2/2010</td>\n",
       "      <td>6</td>\n",
       "      <td>-5</td>\n",
       "      <td>15</td>\n",
       "      <td>0</td>\n",
       "      <td>0.0</td>\n",
       "    </tr>\n",
       "    <tr>\n",
       "      <th>2</th>\n",
       "      <td>1/3/2010</td>\n",
       "      <td>10</td>\n",
       "      <td>-6</td>\n",
       "      <td>11</td>\n",
       "      <td>0</td>\n",
       "      <td>0.0</td>\n",
       "    </tr>\n",
       "    <tr>\n",
       "      <th>3</th>\n",
       "      <td>1/4/2010</td>\n",
       "      <td>11</td>\n",
       "      <td>-2</td>\n",
       "      <td>20</td>\n",
       "      <td>0</td>\n",
       "      <td>0.0</td>\n",
       "    </tr>\n",
       "    <tr>\n",
       "      <th>4</th>\n",
       "      <td>1/5/2010</td>\n",
       "      <td>10</td>\n",
       "      <td>-1</td>\n",
       "      <td>16</td>\n",
       "      <td>M</td>\n",
       "      <td>-0.1</td>\n",
       "    </tr>\n",
       "    <tr>\n",
       "      <th>...</th>\n",
       "      <td>...</td>\n",
       "      <td>...</td>\n",
       "      <td>...</td>\n",
       "      <td>...</td>\n",
       "      <td>...</td>\n",
       "      <td>...</td>\n",
       "    </tr>\n",
       "    <tr>\n",
       "      <th>3647</th>\n",
       "      <td>12/27/2019</td>\n",
       "      <td>43</td>\n",
       "      <td>32</td>\n",
       "      <td>15</td>\n",
       "      <td>0</td>\n",
       "      <td>0.0</td>\n",
       "    </tr>\n",
       "    <tr>\n",
       "      <th>3648</th>\n",
       "      <td>12/28/2019</td>\n",
       "      <td>56</td>\n",
       "      <td>32</td>\n",
       "      <td>23</td>\n",
       "      <td>0.23</td>\n",
       "      <td>0.0</td>\n",
       "    </tr>\n",
       "    <tr>\n",
       "      <th>3649</th>\n",
       "      <td>12/29/2019</td>\n",
       "      <td>59</td>\n",
       "      <td>41</td>\n",
       "      <td>23</td>\n",
       "      <td>0.22</td>\n",
       "      <td>6.1</td>\n",
       "    </tr>\n",
       "    <tr>\n",
       "      <th>3650</th>\n",
       "      <td>12/30/2019</td>\n",
       "      <td>38</td>\n",
       "      <td>31</td>\n",
       "      <td>26</td>\n",
       "      <td>0.01</td>\n",
       "      <td>1.0</td>\n",
       "    </tr>\n",
       "    <tr>\n",
       "      <th>3651</th>\n",
       "      <td>12/31/2019</td>\n",
       "      <td>33</td>\n",
       "      <td>30</td>\n",
       "      <td>29</td>\n",
       "      <td>0</td>\n",
       "      <td>0.0</td>\n",
       "    </tr>\n",
       "  </tbody>\n",
       "</table>\n",
       "<p>3652 rows × 6 columns</p>\n",
       "</div>"
      ],
      "text/plain": [
       "            Date Max Hourly Temp (F) Min Hourly Temp (F) Max Wind Speed (mph)  \\\n",
       "0       1/1/2010                  12                   2                   15   \n",
       "1       1/2/2010                   6                  -5                   15   \n",
       "2       1/3/2010                  10                  -6                   11   \n",
       "3       1/4/2010                  11                  -2                   20   \n",
       "4       1/5/2010                  10                  -1                   16   \n",
       "...          ...                 ...                 ...                  ...   \n",
       "3647  12/27/2019                  43                  32                   15   \n",
       "3648  12/28/2019                  56                  32                   23   \n",
       "3649  12/29/2019                  59                  41                   23   \n",
       "3650  12/30/2019                  38                  31                   26   \n",
       "3651  12/31/2019                  33                  30                   29   \n",
       "\n",
       "     Total Precip (in)  Daily Precip (mm)  \n",
       "0                    M                0.0  \n",
       "1                    0                0.0  \n",
       "2                    0                0.0  \n",
       "3                    0                0.0  \n",
       "4                    M               -0.1  \n",
       "...                ...                ...  \n",
       "3647                 0                0.0  \n",
       "3648              0.23                0.0  \n",
       "3649              0.22                6.1  \n",
       "3650              0.01                1.0  \n",
       "3651                 0                0.0  \n",
       "\n",
       "[3652 rows x 6 columns]"
      ]
     },
     "execution_count": 12,
     "metadata": {},
     "output_type": "execute_result"
    }
   ],
   "source": [
    "dailyprecipshort = dailyprecip[(dailyprecip.index>'2009-12-31') & (dailyprecip.index<'2020-01-01')]  # Only get 2010 to 2019\n",
    "dailyobs['Daily Precip (mm)'] = dailyprecipshort['Daily Precip (mm)'].values  # Put the new calculated daily precip in the dailyobs dataframe\n",
    "dailyobs  # This should be the final dataframe used as the predictands"
   ]
  },
  {
   "cell_type": "code",
   "execution_count": 13,
   "metadata": {
    "colab": {},
    "colab_type": "code",
    "id": "IYVOiVmjuomV"
   },
   "outputs": [],
   "source": [
    "dailyobs = dailyobs.drop(columns = ['Total Precip (in)']).replace('M', np.nan)"
   ]
  },
  {
   "cell_type": "code",
   "execution_count": 14,
   "metadata": {
    "colab": {},
    "colab_type": "code",
    "id": "ACDSqu7luomZ"
   },
   "outputs": [],
   "source": [
    "dailyobs = dailyobs.interpolate()"
   ]
  },
  {
   "cell_type": "code",
   "execution_count": 15,
   "metadata": {
    "colab": {},
    "colab_type": "code",
    "id": "n15px0gkw5_N"
   },
   "outputs": [],
   "source": [
    "# Convert to deg C, m/s, and set negative precip values to zero\n",
    "dailyobs['Max Hourly Temp (F)'] = (dailyobs['Max Hourly Temp (F)'].astype(float) - 32.) * 5./9.\n",
    "dailyobs['Min Hourly Temp (F)'] = (dailyobs['Min Hourly Temp (F)'].astype(float) - 32.) * 5./9.\n",
    "dailyobs['Max Wind Speed (mph)'] = dailyobs['Max Wind Speed (mph)'].astype(float) * 0.44704\n",
    "dailyobs['Daily Precip (mm)'] = dailyobs['Daily Precip (mm)'].astype(float).apply(lambda x: 0.0 if x < 0.0 else x)"
   ]
  },
  {
   "cell_type": "code",
   "execution_count": 16,
   "metadata": {
    "colab": {},
    "colab_type": "code",
    "id": "e95NgdlJuomh"
   },
   "outputs": [],
   "source": [
    "# Rename columns\n",
    "dailyobs.rename(columns = {'Max Hourly Temp (F)' : 'Max Hourly Temp (C)', 'Min Hourly Temp (F)' : 'Min Hourly Temp (C)', 'Max Wind Speed (mph)' : 'Max Wind Speed (m/s)'}, inplace = True)"
   ]
  },
  {
   "cell_type": "code",
   "execution_count": 17,
   "metadata": {
    "colab": {
     "base_uri": "https://localhost:8080/",
     "height": 415
    },
    "colab_type": "code",
    "id": "aEFGBofauoml",
    "outputId": "aee3323b-b577-419d-9354-bc13ca5afc1f"
   },
   "outputs": [
    {
     "data": {
      "text/html": [
       "<div>\n",
       "<style scoped>\n",
       "    .dataframe tbody tr th:only-of-type {\n",
       "        vertical-align: middle;\n",
       "    }\n",
       "\n",
       "    .dataframe tbody tr th {\n",
       "        vertical-align: top;\n",
       "    }\n",
       "\n",
       "    .dataframe thead th {\n",
       "        text-align: right;\n",
       "    }\n",
       "</style>\n",
       "<table border=\"1\" class=\"dataframe\">\n",
       "  <thead>\n",
       "    <tr style=\"text-align: right;\">\n",
       "      <th></th>\n",
       "      <th>Date</th>\n",
       "      <th>Max Hourly Temp (C)</th>\n",
       "      <th>Min Hourly Temp (C)</th>\n",
       "      <th>Max Wind Speed (m/s)</th>\n",
       "      <th>Daily Precip (mm)</th>\n",
       "    </tr>\n",
       "  </thead>\n",
       "  <tbody>\n",
       "    <tr>\n",
       "      <th>0</th>\n",
       "      <td>1/1/2010</td>\n",
       "      <td>-11.111111</td>\n",
       "      <td>-16.666667</td>\n",
       "      <td>6.70560</td>\n",
       "      <td>0.0</td>\n",
       "    </tr>\n",
       "    <tr>\n",
       "      <th>1</th>\n",
       "      <td>1/2/2010</td>\n",
       "      <td>-14.444444</td>\n",
       "      <td>-20.555556</td>\n",
       "      <td>6.70560</td>\n",
       "      <td>0.0</td>\n",
       "    </tr>\n",
       "    <tr>\n",
       "      <th>2</th>\n",
       "      <td>1/3/2010</td>\n",
       "      <td>-12.222222</td>\n",
       "      <td>-21.111111</td>\n",
       "      <td>4.91744</td>\n",
       "      <td>0.0</td>\n",
       "    </tr>\n",
       "    <tr>\n",
       "      <th>3</th>\n",
       "      <td>1/4/2010</td>\n",
       "      <td>-11.666667</td>\n",
       "      <td>-18.888889</td>\n",
       "      <td>8.94080</td>\n",
       "      <td>0.0</td>\n",
       "    </tr>\n",
       "    <tr>\n",
       "      <th>4</th>\n",
       "      <td>1/5/2010</td>\n",
       "      <td>-12.222222</td>\n",
       "      <td>-18.333333</td>\n",
       "      <td>7.15264</td>\n",
       "      <td>0.0</td>\n",
       "    </tr>\n",
       "    <tr>\n",
       "      <th>...</th>\n",
       "      <td>...</td>\n",
       "      <td>...</td>\n",
       "      <td>...</td>\n",
       "      <td>...</td>\n",
       "      <td>...</td>\n",
       "    </tr>\n",
       "    <tr>\n",
       "      <th>3647</th>\n",
       "      <td>12/27/2019</td>\n",
       "      <td>6.111111</td>\n",
       "      <td>0.000000</td>\n",
       "      <td>6.70560</td>\n",
       "      <td>0.0</td>\n",
       "    </tr>\n",
       "    <tr>\n",
       "      <th>3648</th>\n",
       "      <td>12/28/2019</td>\n",
       "      <td>13.333333</td>\n",
       "      <td>0.000000</td>\n",
       "      <td>10.28192</td>\n",
       "      <td>0.0</td>\n",
       "    </tr>\n",
       "    <tr>\n",
       "      <th>3649</th>\n",
       "      <td>12/29/2019</td>\n",
       "      <td>15.000000</td>\n",
       "      <td>5.000000</td>\n",
       "      <td>10.28192</td>\n",
       "      <td>6.1</td>\n",
       "    </tr>\n",
       "    <tr>\n",
       "      <th>3650</th>\n",
       "      <td>12/30/2019</td>\n",
       "      <td>3.333333</td>\n",
       "      <td>-0.555556</td>\n",
       "      <td>11.62304</td>\n",
       "      <td>1.0</td>\n",
       "    </tr>\n",
       "    <tr>\n",
       "      <th>3651</th>\n",
       "      <td>12/31/2019</td>\n",
       "      <td>0.555556</td>\n",
       "      <td>-1.111111</td>\n",
       "      <td>12.96416</td>\n",
       "      <td>0.0</td>\n",
       "    </tr>\n",
       "  </tbody>\n",
       "</table>\n",
       "<p>3652 rows × 5 columns</p>\n",
       "</div>"
      ],
      "text/plain": [
       "            Date  Max Hourly Temp (C)  Min Hourly Temp (C)  \\\n",
       "0       1/1/2010           -11.111111           -16.666667   \n",
       "1       1/2/2010           -14.444444           -20.555556   \n",
       "2       1/3/2010           -12.222222           -21.111111   \n",
       "3       1/4/2010           -11.666667           -18.888889   \n",
       "4       1/5/2010           -12.222222           -18.333333   \n",
       "...          ...                  ...                  ...   \n",
       "3647  12/27/2019             6.111111             0.000000   \n",
       "3648  12/28/2019            13.333333             0.000000   \n",
       "3649  12/29/2019            15.000000             5.000000   \n",
       "3650  12/30/2019             3.333333            -0.555556   \n",
       "3651  12/31/2019             0.555556            -1.111111   \n",
       "\n",
       "      Max Wind Speed (m/s)  Daily Precip (mm)  \n",
       "0                  6.70560                0.0  \n",
       "1                  6.70560                0.0  \n",
       "2                  4.91744                0.0  \n",
       "3                  8.94080                0.0  \n",
       "4                  7.15264                0.0  \n",
       "...                    ...                ...  \n",
       "3647               6.70560                0.0  \n",
       "3648              10.28192                0.0  \n",
       "3649              10.28192                6.1  \n",
       "3650              11.62304                1.0  \n",
       "3651              12.96416                0.0  \n",
       "\n",
       "[3652 rows x 5 columns]"
      ]
     },
     "execution_count": 17,
     "metadata": {},
     "output_type": "execute_result"
    }
   ],
   "source": [
    "dailyobs"
   ]
  },
  {
   "cell_type": "code",
   "execution_count": 18,
   "metadata": {
    "colab": {},
    "colab_type": "code",
    "id": "bzOql6qvuomp"
   },
   "outputs": [],
   "source": [
    "# Save to csv\n",
    "dailyobs.to_csv('./raw_data/KCMI_daily_tidy.csv', index = False)\n",
    "# dailyobs.to_csv('drive/My Drive/KCMI_daily_tidy.csv', index = False)"
   ]
  },
  {
   "cell_type": "markdown",
   "metadata": {
    "colab_type": "text",
    "id": "4NwwzA5xuomt"
   },
   "source": [
    "### Parsing the hourly data"
   ]
  },
  {
   "cell_type": "code",
   "execution_count": 19,
   "metadata": {
    "colab": {},
    "colab_type": "code",
    "id": "EX0wPax-uomu"
   },
   "outputs": [],
   "source": [
    "# Hourly data\n",
    "#  hourlyobs = pd.read_csv('drive/My Drive/KCMI_hourly.csv')  # Read the hourly file\n",
    "hourlyobs = pd.read_csv('./raw_data/KCMI_hourly.csv')  # (David) Read the hourly file"
   ]
  },
  {
   "cell_type": "code",
   "execution_count": 20,
   "metadata": {
    "colab": {},
    "colab_type": "code",
    "id": "HSRBavWnuom2"
   },
   "outputs": [],
   "source": [
    "hourlyobs['Timestamp'] = pd.to_datetime(hourlyobs['Timestamp'])\n",
    "hourlyobs.set_index('Timestamp', inplace = True)"
   ]
  },
  {
   "cell_type": "code",
   "execution_count": 21,
   "metadata": {
    "colab": {},
    "colab_type": "code",
    "id": "RZHjkzTl00Po"
   },
   "outputs": [],
   "source": [
    "hourlyobs = hourlyobs[(hourlyobs.index.hour >= 12) & (hourlyobs.index.hour <= 23)]"
   ]
  },
  {
   "cell_type": "code",
   "execution_count": 22,
   "metadata": {
    "colab": {},
    "colab_type": "code",
    "id": "t5o7qA-Puom7"
   },
   "outputs": [],
   "source": [
    "hourlyobs = hourlyobs.resample('D').mean()"
   ]
  },
  {
   "cell_type": "code",
   "execution_count": 23,
   "metadata": {
    "colab": {},
    "colab_type": "code",
    "id": "tlDlGnpSuonB"
   },
   "outputs": [],
   "source": [
    "hourlyobs.index = hourlyobs.index + pd.DateOffset(days = 1)"
   ]
  },
  {
   "cell_type": "code",
   "execution_count": 24,
   "metadata": {
    "colab": {},
    "colab_type": "code",
    "id": "jJ_2Z5nJuonE"
   },
   "outputs": [],
   "source": [
    "hourlyobs = hourlyobs[(hourlyobs.index > '2009-12-31') & (hourlyobs.index < '2020-01-01')]"
   ]
  },
  {
   "cell_type": "code",
   "execution_count": 25,
   "metadata": {
    "colab": {},
    "colab_type": "code",
    "id": "l5W23t8muonH"
   },
   "outputs": [],
   "source": [
    "hourlyobs = hourlyobs.drop(columns = ['pr6h', 'doy', 'woy'])"
   ]
  },
  {
   "cell_type": "code",
   "execution_count": 27,
   "metadata": {
    "colab": {},
    "colab_type": "code",
    "id": "dHnggp-kuonK"
   },
   "outputs": [],
   "source": [
    "# hourlyobs.to_csv('drive/My Drive/KCMI_hourly_tidy.csv')\n",
    "hourlyobs.to_csv('./raw_data/KCMI_hourly_tidy.csv')"
   ]
  },
  {
   "cell_type": "code",
   "execution_count": 26,
   "metadata": {
    "colab": {
     "base_uri": "https://localhost:8080/",
     "height": 446
    },
    "colab_type": "code",
    "id": "3eQADxujuonO",
    "outputId": "e175432a-d001-4660-d343-9c1ef9280f41"
   },
   "outputs": [
    {
     "data": {
      "text/html": [
       "<div>\n",
       "<style scoped>\n",
       "    .dataframe tbody tr th:only-of-type {\n",
       "        vertical-align: middle;\n",
       "    }\n",
       "\n",
       "    .dataframe tbody tr th {\n",
       "        vertical-align: top;\n",
       "    }\n",
       "\n",
       "    .dataframe thead th {\n",
       "        text-align: right;\n",
       "    }\n",
       "</style>\n",
       "<table border=\"1\" class=\"dataframe\">\n",
       "  <thead>\n",
       "    <tr style=\"text-align: right;\">\n",
       "      <th></th>\n",
       "      <th>tmpc</th>\n",
       "      <th>dwpc</th>\n",
       "      <th>mslp</th>\n",
       "      <th>wdir</th>\n",
       "      <th>wspd</th>\n",
       "      <th>skct</th>\n",
       "      <th>pr1h</th>\n",
       "    </tr>\n",
       "    <tr>\n",
       "      <th>Timestamp</th>\n",
       "      <th></th>\n",
       "      <th></th>\n",
       "      <th></th>\n",
       "      <th></th>\n",
       "      <th></th>\n",
       "      <th></th>\n",
       "      <th></th>\n",
       "    </tr>\n",
       "  </thead>\n",
       "  <tbody>\n",
       "    <tr>\n",
       "      <th>2010-01-01</th>\n",
       "      <td>-1.975000</td>\n",
       "      <td>-4.183333</td>\n",
       "      <td>1018.208333</td>\n",
       "      <td>279.166667</td>\n",
       "      <td>6.183333</td>\n",
       "      <td>6.000000</td>\n",
       "      <td>0.000000</td>\n",
       "    </tr>\n",
       "    <tr>\n",
       "      <th>2010-01-02</th>\n",
       "      <td>-13.325000</td>\n",
       "      <td>-16.933333</td>\n",
       "      <td>1029.316667</td>\n",
       "      <td>286.666667</td>\n",
       "      <td>5.591667</td>\n",
       "      <td>2.250000</td>\n",
       "      <td>0.000000</td>\n",
       "    </tr>\n",
       "    <tr>\n",
       "      <th>2010-01-03</th>\n",
       "      <td>-16.525000</td>\n",
       "      <td>-19.816667</td>\n",
       "      <td>1032.991667</td>\n",
       "      <td>296.666667</td>\n",
       "      <td>4.633333</td>\n",
       "      <td>0.000000</td>\n",
       "      <td>0.000000</td>\n",
       "    </tr>\n",
       "    <tr>\n",
       "      <th>2010-01-04</th>\n",
       "      <td>-15.325000</td>\n",
       "      <td>-19.858333</td>\n",
       "      <td>1032.250000</td>\n",
       "      <td>305.833333</td>\n",
       "      <td>3.641667</td>\n",
       "      <td>0.000000</td>\n",
       "      <td>0.000000</td>\n",
       "    </tr>\n",
       "    <tr>\n",
       "      <th>2010-01-05</th>\n",
       "      <td>-14.441667</td>\n",
       "      <td>-17.700000</td>\n",
       "      <td>1028.141667</td>\n",
       "      <td>290.833333</td>\n",
       "      <td>6.300000</td>\n",
       "      <td>1.333333</td>\n",
       "      <td>0.000000</td>\n",
       "    </tr>\n",
       "    <tr>\n",
       "      <th>...</th>\n",
       "      <td>...</td>\n",
       "      <td>...</td>\n",
       "      <td>...</td>\n",
       "      <td>...</td>\n",
       "      <td>...</td>\n",
       "      <td>...</td>\n",
       "      <td>...</td>\n",
       "    </tr>\n",
       "    <tr>\n",
       "      <th>2019-12-27</th>\n",
       "      <td>13.466667</td>\n",
       "      <td>11.141667</td>\n",
       "      <td>1016.258333</td>\n",
       "      <td>200.833333</td>\n",
       "      <td>6.125000</td>\n",
       "      <td>1.090909</td>\n",
       "      <td>0.000000</td>\n",
       "    </tr>\n",
       "    <tr>\n",
       "      <th>2019-12-28</th>\n",
       "      <td>2.816667</td>\n",
       "      <td>0.725000</td>\n",
       "      <td>1025.341667</td>\n",
       "      <td>242.500000</td>\n",
       "      <td>2.775000</td>\n",
       "      <td>0.666667</td>\n",
       "      <td>0.000000</td>\n",
       "    </tr>\n",
       "    <tr>\n",
       "      <th>2019-12-29</th>\n",
       "      <td>7.141667</td>\n",
       "      <td>6.866667</td>\n",
       "      <td>1018.491667</td>\n",
       "      <td>105.833333</td>\n",
       "      <td>5.975000</td>\n",
       "      <td>9.000000</td>\n",
       "      <td>0.000000</td>\n",
       "    </tr>\n",
       "    <tr>\n",
       "      <th>2019-12-30</th>\n",
       "      <td>12.266667</td>\n",
       "      <td>11.400000</td>\n",
       "      <td>1003.950000</td>\n",
       "      <td>181.666667</td>\n",
       "      <td>5.658333</td>\n",
       "      <td>1.000000</td>\n",
       "      <td>0.025000</td>\n",
       "    </tr>\n",
       "    <tr>\n",
       "      <th>2019-12-31</th>\n",
       "      <td>0.341667</td>\n",
       "      <td>-2.766667</td>\n",
       "      <td>1004.300000</td>\n",
       "      <td>240.833333</td>\n",
       "      <td>9.375000</td>\n",
       "      <td>NaN</td>\n",
       "      <td>-0.016667</td>\n",
       "    </tr>\n",
       "  </tbody>\n",
       "</table>\n",
       "<p>3652 rows × 7 columns</p>\n",
       "</div>"
      ],
      "text/plain": [
       "                 tmpc       dwpc         mslp        wdir      wspd      skct  \\\n",
       "Timestamp                                                                       \n",
       "2010-01-01  -1.975000  -4.183333  1018.208333  279.166667  6.183333  6.000000   \n",
       "2010-01-02 -13.325000 -16.933333  1029.316667  286.666667  5.591667  2.250000   \n",
       "2010-01-03 -16.525000 -19.816667  1032.991667  296.666667  4.633333  0.000000   \n",
       "2010-01-04 -15.325000 -19.858333  1032.250000  305.833333  3.641667  0.000000   \n",
       "2010-01-05 -14.441667 -17.700000  1028.141667  290.833333  6.300000  1.333333   \n",
       "...               ...        ...          ...         ...       ...       ...   \n",
       "2019-12-27  13.466667  11.141667  1016.258333  200.833333  6.125000  1.090909   \n",
       "2019-12-28   2.816667   0.725000  1025.341667  242.500000  2.775000  0.666667   \n",
       "2019-12-29   7.141667   6.866667  1018.491667  105.833333  5.975000  9.000000   \n",
       "2019-12-30  12.266667  11.400000  1003.950000  181.666667  5.658333  1.000000   \n",
       "2019-12-31   0.341667  -2.766667  1004.300000  240.833333  9.375000       NaN   \n",
       "\n",
       "                pr1h  \n",
       "Timestamp             \n",
       "2010-01-01  0.000000  \n",
       "2010-01-02  0.000000  \n",
       "2010-01-03  0.000000  \n",
       "2010-01-04  0.000000  \n",
       "2010-01-05  0.000000  \n",
       "...              ...  \n",
       "2019-12-27  0.000000  \n",
       "2019-12-28  0.000000  \n",
       "2019-12-29  0.000000  \n",
       "2019-12-30  0.025000  \n",
       "2019-12-31 -0.016667  \n",
       "\n",
       "[3652 rows x 7 columns]"
      ]
     },
     "execution_count": 26,
     "metadata": {},
     "output_type": "execute_result"
    }
   ],
   "source": [
    "hourlyobs"
   ]
  },
  {
   "cell_type": "code",
   "execution_count": null,
   "metadata": {
    "colab": {},
    "colab_type": "code",
    "id": "fQyNMBqquonT"
   },
   "outputs": [],
   "source": []
  }
 ],
 "metadata": {
  "colab": {
   "collapsed_sections": [],
   "include_colab_link": true,
   "name": "Project4.ipynb",
   "provenance": []
  },
  "kernelspec": {
   "display_name": "Python 3",
   "language": "python",
   "name": "python3"
  },
  "language_info": {
   "codemirror_mode": {
    "name": "ipython",
    "version": 3
   },
   "file_extension": ".py",
   "mimetype": "text/x-python",
   "name": "python",
   "nbconvert_exporter": "python",
   "pygments_lexer": "ipython3",
   "version": "3.7.6"
  }
 },
 "nbformat": 4,
 "nbformat_minor": 4
}
