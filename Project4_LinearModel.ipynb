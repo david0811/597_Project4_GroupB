{
  "nbformat": 4,
  "nbformat_minor": 0,
  "metadata": {
    "colab": {
      "name": "Project4_LinearModel.ipynb",
      "provenance": [],
      "collapsed_sections": [],
      "mount_file_id": "https://github.com/kevingray92/597_Project4_GroupB/blob/improveLinearRegression/Project4_LinearModel.ipynb",
      "authorship_tag": "ABX9TyPfmUpg2hq0UGzPxUngceoa",
      "include_colab_link": true
    },
    "kernelspec": {
      "name": "python3",
      "display_name": "Python 3"
    }
  },
  "cells": [
    {
      "cell_type": "markdown",
      "metadata": {
        "id": "view-in-github",
        "colab_type": "text"
      },
      "source": [
        "<a href=\"https://colab.research.google.com/github/kevingray92/597_Project4_GroupB/blob/improveLinearRegression/Project4_LinearModel.ipynb\" target=\"_parent\"><img src=\"https://colab.research.google.com/assets/colab-badge.svg\" alt=\"Open In Colab\"/></a>"
      ]
    },
    {
      "cell_type": "code",
      "metadata": {
        "id": "KMGkL7nBhxMw",
        "colab_type": "code",
        "colab": {}
      },
      "source": [
        "%matplotlib inline\n",
        "import matplotlib.pyplot as plt\n",
        "import seaborn as sns; sns.set()\n",
        "import numpy as np\n",
        "import pandas as pd\n",
        "from sklearn.metrics import mean_squared_error\n",
        "from math import sqrt"
      ],
      "execution_count": 0,
      "outputs": []
    },
    {
      "cell_type": "code",
      "metadata": {
        "id": "CriLPtD5iN8F",
        "colab_type": "code",
        "colab": {}
      },
      "source": [
        "#gfs = pd.read_csv('./raw_data/GFS_Daily_PredictVars_2010thru2019.csv', index_col = 'Date', usecols = ['Date', 'TMAX', 'TMIN', 'WMAX', 'RTOT'], parse_dates = True)\n",
        "gfs = pd.read_csv('drive/My Drive/GFS_Daily_PredictVars_2010thru2019.csv', index_col = 'Date', usecols = ['Date', 'TMAX', 'TMIN', 'WMAX', 'RTOT'], parse_dates = True)\n",
        "# gfsfs = pd.read_csv('./raw_data/GFS_Sfc_42hrFcst_2010thru2019.csv', skiprows=1, index_col = 'Date', parse_dates = True)\n",
        "\n",
        "#oldobs = pd.read_csv('./raw_data/KCMI_hourly_tidy.csv', index_col = 'Timestamp', parse_dates = True)\n",
        "oldobs = pd.read_csv('drive/My Drive/KCMI_hourly_tidy.csv', index_col = 'Timestamp', parse_dates = True)\n",
        "oldobs.index = oldobs.index + pd.DateOffset(hours=12)  # Align times\n",
        "\n",
        "#obs = pd.read_csv('./raw_data/KCMI_daily_tidy.csv', index_col = 'Date', parse_dates = True)\n",
        "obs = pd.read_csv('drive/My Drive/KCMI_daily_tidy.csv', index_col = 'Date', parse_dates = True)\n",
        "obs.index = obs.index + pd.DateOffset(hours=12)  # Align times"
      ],
      "execution_count": 0,
      "outputs": []
    },
    {
      "cell_type": "code",
      "metadata": {
        "id": "gK9isSu-l98G",
        "colab_type": "code",
        "colab": {}
      },
      "source": [
        "# Merge and drop all days with missing values \n",
        "features = pd.merge(obs.reset_index(), gfs.reset_index(), on = 'Date', how = 'inner')\n",
        "features = pd.merge(features, oldobs.reset_index(), left_on = 'Date', right_on = 'Timestamp', how = 'inner').drop(columns = 'Timestamp')\n",
        "features.dropna(inplace = True)  # There are some NaNs in the observations"
      ],
      "execution_count": 0,
      "outputs": []
    },
    {
      "cell_type": "code",
      "metadata": {
        "id": "jeDZZULMm3w3",
        "colab_type": "code",
        "outputId": "30990657-01cb-4269-c3c7-07c830008daf",
        "colab": {
          "base_uri": "https://localhost:8080/",
          "height": 834
        }
      },
      "source": [
        "features"
      ],
      "execution_count": 4,
      "outputs": [
        {
          "output_type": "execute_result",
          "data": {
            "text/html": [
              "<div>\n",
              "<style scoped>\n",
              "    .dataframe tbody tr th:only-of-type {\n",
              "        vertical-align: middle;\n",
              "    }\n",
              "\n",
              "    .dataframe tbody tr th {\n",
              "        vertical-align: top;\n",
              "    }\n",
              "\n",
              "    .dataframe thead th {\n",
              "        text-align: right;\n",
              "    }\n",
              "</style>\n",
              "<table border=\"1\" class=\"dataframe\">\n",
              "  <thead>\n",
              "    <tr style=\"text-align: right;\">\n",
              "      <th></th>\n",
              "      <th>Date</th>\n",
              "      <th>Max Hourly Temp (C)</th>\n",
              "      <th>Min Hourly Temp (C)</th>\n",
              "      <th>Max Wind Speed (m/s)</th>\n",
              "      <th>Daily Precip (mm)</th>\n",
              "      <th>TMAX</th>\n",
              "      <th>TMIN</th>\n",
              "      <th>WMAX</th>\n",
              "      <th>RTOT</th>\n",
              "      <th>tmpc</th>\n",
              "      <th>dwpc</th>\n",
              "      <th>mslp</th>\n",
              "      <th>wdir</th>\n",
              "      <th>wspd</th>\n",
              "      <th>skct</th>\n",
              "      <th>pr1h</th>\n",
              "    </tr>\n",
              "  </thead>\n",
              "  <tbody>\n",
              "    <tr>\n",
              "      <th>0</th>\n",
              "      <td>2010-01-01 12:00:00</td>\n",
              "      <td>-11.111111</td>\n",
              "      <td>-16.666667</td>\n",
              "      <td>6.70560</td>\n",
              "      <td>0.0</td>\n",
              "      <td>-11.26</td>\n",
              "      <td>-16.46</td>\n",
              "      <td>7.323933</td>\n",
              "      <td>0.05</td>\n",
              "      <td>-7.590909</td>\n",
              "      <td>-11.154545</td>\n",
              "      <td>1022.190909</td>\n",
              "      <td>288.181818</td>\n",
              "      <td>7.036364</td>\n",
              "      <td>2.090909</td>\n",
              "      <td>0.000</td>\n",
              "    </tr>\n",
              "    <tr>\n",
              "      <th>1</th>\n",
              "      <td>2010-01-02 12:00:00</td>\n",
              "      <td>-14.444444</td>\n",
              "      <td>-20.555556</td>\n",
              "      <td>6.70560</td>\n",
              "      <td>0.0</td>\n",
              "      <td>-10.16</td>\n",
              "      <td>-15.96</td>\n",
              "      <td>4.687217</td>\n",
              "      <td>0.00</td>\n",
              "      <td>-13.008333</td>\n",
              "      <td>-16.616667</td>\n",
              "      <td>1029.875000</td>\n",
              "      <td>290.833333</td>\n",
              "      <td>6.066667</td>\n",
              "      <td>3.583333</td>\n",
              "      <td>0.000</td>\n",
              "    </tr>\n",
              "    <tr>\n",
              "      <th>2</th>\n",
              "      <td>2010-01-03 12:00:00</td>\n",
              "      <td>-12.222222</td>\n",
              "      <td>-21.111111</td>\n",
              "      <td>4.91744</td>\n",
              "      <td>0.0</td>\n",
              "      <td>-9.96</td>\n",
              "      <td>-14.36</td>\n",
              "      <td>5.941380</td>\n",
              "      <td>0.06</td>\n",
              "      <td>-17.091667</td>\n",
              "      <td>-20.558333</td>\n",
              "      <td>1032.716667</td>\n",
              "      <td>306.666667</td>\n",
              "      <td>4.108333</td>\n",
              "      <td>0.000000</td>\n",
              "      <td>0.000</td>\n",
              "    </tr>\n",
              "    <tr>\n",
              "      <th>3</th>\n",
              "      <td>2010-01-04 12:00:00</td>\n",
              "      <td>-11.666667</td>\n",
              "      <td>-18.888889</td>\n",
              "      <td>8.94080</td>\n",
              "      <td>0.0</td>\n",
              "      <td>-8.46</td>\n",
              "      <td>-12.86</td>\n",
              "      <td>5.685068</td>\n",
              "      <td>0.17</td>\n",
              "      <td>-14.550000</td>\n",
              "      <td>-18.458333</td>\n",
              "      <td>1031.466667</td>\n",
              "      <td>304.166667</td>\n",
              "      <td>3.933333</td>\n",
              "      <td>0.166667</td>\n",
              "      <td>0.000</td>\n",
              "    </tr>\n",
              "    <tr>\n",
              "      <th>4</th>\n",
              "      <td>2010-01-05 12:00:00</td>\n",
              "      <td>-12.222222</td>\n",
              "      <td>-18.333333</td>\n",
              "      <td>7.15264</td>\n",
              "      <td>0.0</td>\n",
              "      <td>-7.16</td>\n",
              "      <td>-11.06</td>\n",
              "      <td>3.794733</td>\n",
              "      <td>0.77</td>\n",
              "      <td>-12.908333</td>\n",
              "      <td>-16.408333</td>\n",
              "      <td>1027.250000</td>\n",
              "      <td>288.333333</td>\n",
              "      <td>7.341667</td>\n",
              "      <td>3.916667</td>\n",
              "      <td>0.000</td>\n",
              "    </tr>\n",
              "    <tr>\n",
              "      <th>...</th>\n",
              "      <td>...</td>\n",
              "      <td>...</td>\n",
              "      <td>...</td>\n",
              "      <td>...</td>\n",
              "      <td>...</td>\n",
              "      <td>...</td>\n",
              "      <td>...</td>\n",
              "      <td>...</td>\n",
              "      <td>...</td>\n",
              "      <td>...</td>\n",
              "      <td>...</td>\n",
              "      <td>...</td>\n",
              "      <td>...</td>\n",
              "      <td>...</td>\n",
              "      <td>...</td>\n",
              "      <td>...</td>\n",
              "    </tr>\n",
              "    <tr>\n",
              "      <th>3608</th>\n",
              "      <td>2019-12-26 12:00:00</td>\n",
              "      <td>16.666667</td>\n",
              "      <td>7.777778</td>\n",
              "      <td>8.04672</td>\n",
              "      <td>0.0</td>\n",
              "      <td>11.84</td>\n",
              "      <td>3.84</td>\n",
              "      <td>4.301163</td>\n",
              "      <td>0.00</td>\n",
              "      <td>12.233333</td>\n",
              "      <td>8.241667</td>\n",
              "      <td>1013.433333</td>\n",
              "      <td>173.333333</td>\n",
              "      <td>5.741667</td>\n",
              "      <td>0.000000</td>\n",
              "      <td>0.000</td>\n",
              "    </tr>\n",
              "    <tr>\n",
              "      <th>3609</th>\n",
              "      <td>2019-12-27 12:00:00</td>\n",
              "      <td>6.111111</td>\n",
              "      <td>0.000000</td>\n",
              "      <td>6.70560</td>\n",
              "      <td>0.0</td>\n",
              "      <td>13.94</td>\n",
              "      <td>3.54</td>\n",
              "      <td>8.819297</td>\n",
              "      <td>2.73</td>\n",
              "      <td>12.225000</td>\n",
              "      <td>10.358333</td>\n",
              "      <td>1017.009091</td>\n",
              "      <td>224.166667</td>\n",
              "      <td>4.366667</td>\n",
              "      <td>1.750000</td>\n",
              "      <td>0.000</td>\n",
              "    </tr>\n",
              "    <tr>\n",
              "      <th>3610</th>\n",
              "      <td>2019-12-28 12:00:00</td>\n",
              "      <td>13.333333</td>\n",
              "      <td>0.000000</td>\n",
              "      <td>10.28192</td>\n",
              "      <td>2.7</td>\n",
              "      <td>15.94</td>\n",
              "      <td>9.34</td>\n",
              "      <td>9.701546</td>\n",
              "      <td>11.58</td>\n",
              "      <td>2.166667</td>\n",
              "      <td>0.383333</td>\n",
              "      <td>1025.200000</td>\n",
              "      <td>127.500000</td>\n",
              "      <td>2.066667</td>\n",
              "      <td>0.750000</td>\n",
              "      <td>0.000</td>\n",
              "    </tr>\n",
              "    <tr>\n",
              "      <th>3611</th>\n",
              "      <td>2019-12-29 12:00:00</td>\n",
              "      <td>15.000000</td>\n",
              "      <td>5.000000</td>\n",
              "      <td>10.28192</td>\n",
              "      <td>4.0</td>\n",
              "      <td>7.24</td>\n",
              "      <td>-1.66</td>\n",
              "      <td>11.111256</td>\n",
              "      <td>2.57</td>\n",
              "      <td>11.258333</td>\n",
              "      <td>10.658333</td>\n",
              "      <td>1013.350000</td>\n",
              "      <td>119.166667</td>\n",
              "      <td>7.016667</td>\n",
              "      <td>9.000000</td>\n",
              "      <td>0.225</td>\n",
              "    </tr>\n",
              "    <tr>\n",
              "      <th>3612</th>\n",
              "      <td>2019-12-30 12:00:00</td>\n",
              "      <td>3.333333</td>\n",
              "      <td>-0.555556</td>\n",
              "      <td>11.62304</td>\n",
              "      <td>0.4</td>\n",
              "      <td>-0.36</td>\n",
              "      <td>-2.26</td>\n",
              "      <td>8.769265</td>\n",
              "      <td>0.04</td>\n",
              "      <td>10.591667</td>\n",
              "      <td>9.441667</td>\n",
              "      <td>1001.750000</td>\n",
              "      <td>186.666667</td>\n",
              "      <td>5.916667</td>\n",
              "      <td>1.000000</td>\n",
              "      <td>0.050</td>\n",
              "    </tr>\n",
              "  </tbody>\n",
              "</table>\n",
              "<p>3279 rows × 16 columns</p>\n",
              "</div>"
            ],
            "text/plain": [
              "                    Date  Max Hourly Temp (C)  ...      skct   pr1h\n",
              "0    2010-01-01 12:00:00           -11.111111  ...  2.090909  0.000\n",
              "1    2010-01-02 12:00:00           -14.444444  ...  3.583333  0.000\n",
              "2    2010-01-03 12:00:00           -12.222222  ...  0.000000  0.000\n",
              "3    2010-01-04 12:00:00           -11.666667  ...  0.166667  0.000\n",
              "4    2010-01-05 12:00:00           -12.222222  ...  3.916667  0.000\n",
              "...                  ...                  ...  ...       ...    ...\n",
              "3608 2019-12-26 12:00:00            16.666667  ...  0.000000  0.000\n",
              "3609 2019-12-27 12:00:00             6.111111  ...  1.750000  0.000\n",
              "3610 2019-12-28 12:00:00            13.333333  ...  0.750000  0.000\n",
              "3611 2019-12-29 12:00:00            15.000000  ...  9.000000  0.225\n",
              "3612 2019-12-30 12:00:00             3.333333  ...  1.000000  0.050\n",
              "\n",
              "[3279 rows x 16 columns]"
            ]
          },
          "metadata": {
            "tags": []
          },
          "execution_count": 4
        }
      ]
    },
    {
      "cell_type": "code",
      "metadata": {
        "id": "DGaGydgNm6fc",
        "colab_type": "code",
        "outputId": "f84c9627-452a-4d82-bf93-a1be4a8739c1",
        "colab": {
          "base_uri": "https://localhost:8080/",
          "height": 349
        }
      },
      "source": [
        "features.describe()"
      ],
      "execution_count": 5,
      "outputs": [
        {
          "output_type": "execute_result",
          "data": {
            "text/html": [
              "<div>\n",
              "<style scoped>\n",
              "    .dataframe tbody tr th:only-of-type {\n",
              "        vertical-align: middle;\n",
              "    }\n",
              "\n",
              "    .dataframe tbody tr th {\n",
              "        vertical-align: top;\n",
              "    }\n",
              "\n",
              "    .dataframe thead th {\n",
              "        text-align: right;\n",
              "    }\n",
              "</style>\n",
              "<table border=\"1\" class=\"dataframe\">\n",
              "  <thead>\n",
              "    <tr style=\"text-align: right;\">\n",
              "      <th></th>\n",
              "      <th>Max Hourly Temp (C)</th>\n",
              "      <th>Min Hourly Temp (C)</th>\n",
              "      <th>Max Wind Speed (m/s)</th>\n",
              "      <th>Daily Precip (mm)</th>\n",
              "      <th>TMAX</th>\n",
              "      <th>TMIN</th>\n",
              "      <th>WMAX</th>\n",
              "      <th>RTOT</th>\n",
              "      <th>tmpc</th>\n",
              "      <th>dwpc</th>\n",
              "      <th>mslp</th>\n",
              "      <th>wdir</th>\n",
              "      <th>wspd</th>\n",
              "      <th>skct</th>\n",
              "      <th>pr1h</th>\n",
              "    </tr>\n",
              "  </thead>\n",
              "  <tbody>\n",
              "    <tr>\n",
              "      <th>count</th>\n",
              "      <td>3279.000000</td>\n",
              "      <td>3279.000000</td>\n",
              "      <td>3279.000000</td>\n",
              "      <td>3279.000000</td>\n",
              "      <td>3279.000000</td>\n",
              "      <td>3279.000000</td>\n",
              "      <td>3279.000000</td>\n",
              "      <td>3279.000000</td>\n",
              "      <td>3279.000000</td>\n",
              "      <td>3279.000000</td>\n",
              "      <td>3279.000000</td>\n",
              "      <td>3279.000000</td>\n",
              "      <td>3279.000000</td>\n",
              "      <td>3279.000000</td>\n",
              "      <td>3279.000000</td>\n",
              "    </tr>\n",
              "    <tr>\n",
              "      <th>mean</th>\n",
              "      <td>17.537698</td>\n",
              "      <td>6.489445</td>\n",
              "      <td>7.598453</td>\n",
              "      <td>2.078561</td>\n",
              "      <td>16.103403</td>\n",
              "      <td>7.178365</td>\n",
              "      <td>5.768162</td>\n",
              "      <td>3.347643</td>\n",
              "      <td>13.784983</td>\n",
              "      <td>6.969115</td>\n",
              "      <td>1016.964704</td>\n",
              "      <td>183.175597</td>\n",
              "      <td>4.658326</td>\n",
              "      <td>1.856453</td>\n",
              "      <td>0.075684</td>\n",
              "    </tr>\n",
              "    <tr>\n",
              "      <th>std</th>\n",
              "      <td>11.936209</td>\n",
              "      <td>10.837186</td>\n",
              "      <td>2.923450</td>\n",
              "      <td>6.274578</td>\n",
              "      <td>11.222346</td>\n",
              "      <td>10.004560</td>\n",
              "      <td>2.338025</td>\n",
              "      <td>7.179312</td>\n",
              "      <td>11.618374</td>\n",
              "      <td>10.832349</td>\n",
              "      <td>6.915968</td>\n",
              "      <td>75.123158</td>\n",
              "      <td>2.175907</td>\n",
              "      <td>2.405758</td>\n",
              "      <td>0.330217</td>\n",
              "    </tr>\n",
              "    <tr>\n",
              "      <th>min</th>\n",
              "      <td>-21.111111</td>\n",
              "      <td>-26.666667</td>\n",
              "      <td>2.235200</td>\n",
              "      <td>0.000000</td>\n",
              "      <td>-18.760000</td>\n",
              "      <td>-25.060000</td>\n",
              "      <td>1.431782</td>\n",
              "      <td>0.000000</td>\n",
              "      <td>-22.766667</td>\n",
              "      <td>-26.991667</td>\n",
              "      <td>992.290909</td>\n",
              "      <td>7.272727</td>\n",
              "      <td>0.250000</td>\n",
              "      <td>0.000000</td>\n",
              "      <td>-0.100000</td>\n",
              "    </tr>\n",
              "    <tr>\n",
              "      <th>25%</th>\n",
              "      <td>8.333333</td>\n",
              "      <td>-1.666667</td>\n",
              "      <td>5.811520</td>\n",
              "      <td>0.000000</td>\n",
              "      <td>7.140000</td>\n",
              "      <td>-0.660000</td>\n",
              "      <td>3.984972</td>\n",
              "      <td>0.000000</td>\n",
              "      <td>4.450000</td>\n",
              "      <td>-1.262500</td>\n",
              "      <td>1012.704167</td>\n",
              "      <td>130.833333</td>\n",
              "      <td>3.043561</td>\n",
              "      <td>0.000000</td>\n",
              "      <td>0.000000</td>\n",
              "    </tr>\n",
              "    <tr>\n",
              "      <th>50%</th>\n",
              "      <td>20.000000</td>\n",
              "      <td>7.777778</td>\n",
              "      <td>7.152640</td>\n",
              "      <td>0.000000</td>\n",
              "      <td>18.140000</td>\n",
              "      <td>8.440000</td>\n",
              "      <td>5.393515</td>\n",
              "      <td>0.310000</td>\n",
              "      <td>15.875000</td>\n",
              "      <td>7.541667</td>\n",
              "      <td>1016.516667</td>\n",
              "      <td>185.833333</td>\n",
              "      <td>4.333333</td>\n",
              "      <td>0.909091</td>\n",
              "      <td>0.000000</td>\n",
              "    </tr>\n",
              "    <tr>\n",
              "      <th>75%</th>\n",
              "      <td>27.777778</td>\n",
              "      <td>16.111111</td>\n",
              "      <td>9.387840</td>\n",
              "      <td>0.500000</td>\n",
              "      <td>25.940000</td>\n",
              "      <td>15.540000</td>\n",
              "      <td>7.185750</td>\n",
              "      <td>3.345000</td>\n",
              "      <td>24.025000</td>\n",
              "      <td>16.570833</td>\n",
              "      <td>1020.937500</td>\n",
              "      <td>239.166667</td>\n",
              "      <td>5.925000</td>\n",
              "      <td>2.366667</td>\n",
              "      <td>0.000000</td>\n",
              "    </tr>\n",
              "    <tr>\n",
              "      <th>max</th>\n",
              "      <td>37.777778</td>\n",
              "      <td>25.555556</td>\n",
              "      <td>23.246080</td>\n",
              "      <td>89.000000</td>\n",
              "      <td>37.140000</td>\n",
              "      <td>25.040000</td>\n",
              "      <td>16.413714</td>\n",
              "      <td>94.690000</td>\n",
              "      <td>33.941667</td>\n",
              "      <td>26.433333</td>\n",
              "      <td>1044.875000</td>\n",
              "      <td>352.500000</td>\n",
              "      <td>15.775000</td>\n",
              "      <td>9.000000</td>\n",
              "      <td>7.416667</td>\n",
              "    </tr>\n",
              "  </tbody>\n",
              "</table>\n",
              "</div>"
            ],
            "text/plain": [
              "       Max Hourly Temp (C)  Min Hourly Temp (C)  ...         skct         pr1h\n",
              "count          3279.000000          3279.000000  ...  3279.000000  3279.000000\n",
              "mean             17.537698             6.489445  ...     1.856453     0.075684\n",
              "std              11.936209            10.837186  ...     2.405758     0.330217\n",
              "min             -21.111111           -26.666667  ...     0.000000    -0.100000\n",
              "25%               8.333333            -1.666667  ...     0.000000     0.000000\n",
              "50%              20.000000             7.777778  ...     0.909091     0.000000\n",
              "75%              27.777778            16.111111  ...     2.366667     0.000000\n",
              "max              37.777778            25.555556  ...     9.000000     7.416667\n",
              "\n",
              "[8 rows x 15 columns]"
            ]
          },
          "metadata": {
            "tags": []
          },
          "execution_count": 5
        }
      ]
    },
    {
      "cell_type": "code",
      "metadata": {
        "id": "ScQgbFnSnD0d",
        "colab_type": "code",
        "colab": {}
      },
      "source": [
        "# Add year, month, day as integers \n",
        "features['year'] = features['Date'].dt.year\n",
        "features['month'] = features['Date'].dt.month\n",
        "features['day'] = features['Date'].dt.day"
      ],
      "execution_count": 0,
      "outputs": []
    },
    {
      "cell_type": "code",
      "metadata": {
        "id": "5q4PlS6cnOh5",
        "colab_type": "code",
        "colab": {}
      },
      "source": [
        "\n",
        "# The data we will be using to predict the labels\n",
        "new_features = features.drop(columns = ['Date', 'Max Hourly Temp (C)', 'Min Hourly Temp (C)', 'Max Wind Speed (m/s)', 'Daily Precip (mm)'], axis = 1)\n",
        "new_features_date = features.drop(columns = ['Max Hourly Temp (C)', 'Min Hourly Temp (C)', 'Max Wind Speed (m/s)', 'Daily Precip (mm)'], axis = 1)\n",
        "\n",
        "# Save feature list for later\n",
        "feature_list = list(new_features.columns)"
      ],
      "execution_count": 0,
      "outputs": []
    },
    {
      "cell_type": "code",
      "metadata": {
        "id": "Kka4W_sLnY6y",
        "colab_type": "code",
        "outputId": "24c37003-456b-4390-edcb-9331a42d3463",
        "colab": {
          "base_uri": "https://localhost:8080/",
          "height": 415
        }
      },
      "source": [
        "new_features"
      ],
      "execution_count": 8,
      "outputs": [
        {
          "output_type": "execute_result",
          "data": {
            "text/html": [
              "<div>\n",
              "<style scoped>\n",
              "    .dataframe tbody tr th:only-of-type {\n",
              "        vertical-align: middle;\n",
              "    }\n",
              "\n",
              "    .dataframe tbody tr th {\n",
              "        vertical-align: top;\n",
              "    }\n",
              "\n",
              "    .dataframe thead th {\n",
              "        text-align: right;\n",
              "    }\n",
              "</style>\n",
              "<table border=\"1\" class=\"dataframe\">\n",
              "  <thead>\n",
              "    <tr style=\"text-align: right;\">\n",
              "      <th></th>\n",
              "      <th>TMAX</th>\n",
              "      <th>TMIN</th>\n",
              "      <th>WMAX</th>\n",
              "      <th>RTOT</th>\n",
              "      <th>tmpc</th>\n",
              "      <th>dwpc</th>\n",
              "      <th>mslp</th>\n",
              "      <th>wdir</th>\n",
              "      <th>wspd</th>\n",
              "      <th>skct</th>\n",
              "      <th>pr1h</th>\n",
              "      <th>year</th>\n",
              "      <th>month</th>\n",
              "      <th>day</th>\n",
              "    </tr>\n",
              "  </thead>\n",
              "  <tbody>\n",
              "    <tr>\n",
              "      <th>0</th>\n",
              "      <td>-11.26</td>\n",
              "      <td>-16.46</td>\n",
              "      <td>7.323933</td>\n",
              "      <td>0.05</td>\n",
              "      <td>-7.590909</td>\n",
              "      <td>-11.154545</td>\n",
              "      <td>1022.190909</td>\n",
              "      <td>288.181818</td>\n",
              "      <td>7.036364</td>\n",
              "      <td>2.090909</td>\n",
              "      <td>0.000</td>\n",
              "      <td>2010</td>\n",
              "      <td>1</td>\n",
              "      <td>1</td>\n",
              "    </tr>\n",
              "    <tr>\n",
              "      <th>1</th>\n",
              "      <td>-10.16</td>\n",
              "      <td>-15.96</td>\n",
              "      <td>4.687217</td>\n",
              "      <td>0.00</td>\n",
              "      <td>-13.008333</td>\n",
              "      <td>-16.616667</td>\n",
              "      <td>1029.875000</td>\n",
              "      <td>290.833333</td>\n",
              "      <td>6.066667</td>\n",
              "      <td>3.583333</td>\n",
              "      <td>0.000</td>\n",
              "      <td>2010</td>\n",
              "      <td>1</td>\n",
              "      <td>2</td>\n",
              "    </tr>\n",
              "    <tr>\n",
              "      <th>2</th>\n",
              "      <td>-9.96</td>\n",
              "      <td>-14.36</td>\n",
              "      <td>5.941380</td>\n",
              "      <td>0.06</td>\n",
              "      <td>-17.091667</td>\n",
              "      <td>-20.558333</td>\n",
              "      <td>1032.716667</td>\n",
              "      <td>306.666667</td>\n",
              "      <td>4.108333</td>\n",
              "      <td>0.000000</td>\n",
              "      <td>0.000</td>\n",
              "      <td>2010</td>\n",
              "      <td>1</td>\n",
              "      <td>3</td>\n",
              "    </tr>\n",
              "    <tr>\n",
              "      <th>3</th>\n",
              "      <td>-8.46</td>\n",
              "      <td>-12.86</td>\n",
              "      <td>5.685068</td>\n",
              "      <td>0.17</td>\n",
              "      <td>-14.550000</td>\n",
              "      <td>-18.458333</td>\n",
              "      <td>1031.466667</td>\n",
              "      <td>304.166667</td>\n",
              "      <td>3.933333</td>\n",
              "      <td>0.166667</td>\n",
              "      <td>0.000</td>\n",
              "      <td>2010</td>\n",
              "      <td>1</td>\n",
              "      <td>4</td>\n",
              "    </tr>\n",
              "    <tr>\n",
              "      <th>4</th>\n",
              "      <td>-7.16</td>\n",
              "      <td>-11.06</td>\n",
              "      <td>3.794733</td>\n",
              "      <td>0.77</td>\n",
              "      <td>-12.908333</td>\n",
              "      <td>-16.408333</td>\n",
              "      <td>1027.250000</td>\n",
              "      <td>288.333333</td>\n",
              "      <td>7.341667</td>\n",
              "      <td>3.916667</td>\n",
              "      <td>0.000</td>\n",
              "      <td>2010</td>\n",
              "      <td>1</td>\n",
              "      <td>5</td>\n",
              "    </tr>\n",
              "    <tr>\n",
              "      <th>...</th>\n",
              "      <td>...</td>\n",
              "      <td>...</td>\n",
              "      <td>...</td>\n",
              "      <td>...</td>\n",
              "      <td>...</td>\n",
              "      <td>...</td>\n",
              "      <td>...</td>\n",
              "      <td>...</td>\n",
              "      <td>...</td>\n",
              "      <td>...</td>\n",
              "      <td>...</td>\n",
              "      <td>...</td>\n",
              "      <td>...</td>\n",
              "      <td>...</td>\n",
              "    </tr>\n",
              "    <tr>\n",
              "      <th>3608</th>\n",
              "      <td>11.84</td>\n",
              "      <td>3.84</td>\n",
              "      <td>4.301163</td>\n",
              "      <td>0.00</td>\n",
              "      <td>12.233333</td>\n",
              "      <td>8.241667</td>\n",
              "      <td>1013.433333</td>\n",
              "      <td>173.333333</td>\n",
              "      <td>5.741667</td>\n",
              "      <td>0.000000</td>\n",
              "      <td>0.000</td>\n",
              "      <td>2019</td>\n",
              "      <td>12</td>\n",
              "      <td>26</td>\n",
              "    </tr>\n",
              "    <tr>\n",
              "      <th>3609</th>\n",
              "      <td>13.94</td>\n",
              "      <td>3.54</td>\n",
              "      <td>8.819297</td>\n",
              "      <td>2.73</td>\n",
              "      <td>12.225000</td>\n",
              "      <td>10.358333</td>\n",
              "      <td>1017.009091</td>\n",
              "      <td>224.166667</td>\n",
              "      <td>4.366667</td>\n",
              "      <td>1.750000</td>\n",
              "      <td>0.000</td>\n",
              "      <td>2019</td>\n",
              "      <td>12</td>\n",
              "      <td>27</td>\n",
              "    </tr>\n",
              "    <tr>\n",
              "      <th>3610</th>\n",
              "      <td>15.94</td>\n",
              "      <td>9.34</td>\n",
              "      <td>9.701546</td>\n",
              "      <td>11.58</td>\n",
              "      <td>2.166667</td>\n",
              "      <td>0.383333</td>\n",
              "      <td>1025.200000</td>\n",
              "      <td>127.500000</td>\n",
              "      <td>2.066667</td>\n",
              "      <td>0.750000</td>\n",
              "      <td>0.000</td>\n",
              "      <td>2019</td>\n",
              "      <td>12</td>\n",
              "      <td>28</td>\n",
              "    </tr>\n",
              "    <tr>\n",
              "      <th>3611</th>\n",
              "      <td>7.24</td>\n",
              "      <td>-1.66</td>\n",
              "      <td>11.111256</td>\n",
              "      <td>2.57</td>\n",
              "      <td>11.258333</td>\n",
              "      <td>10.658333</td>\n",
              "      <td>1013.350000</td>\n",
              "      <td>119.166667</td>\n",
              "      <td>7.016667</td>\n",
              "      <td>9.000000</td>\n",
              "      <td>0.225</td>\n",
              "      <td>2019</td>\n",
              "      <td>12</td>\n",
              "      <td>29</td>\n",
              "    </tr>\n",
              "    <tr>\n",
              "      <th>3612</th>\n",
              "      <td>-0.36</td>\n",
              "      <td>-2.26</td>\n",
              "      <td>8.769265</td>\n",
              "      <td>0.04</td>\n",
              "      <td>10.591667</td>\n",
              "      <td>9.441667</td>\n",
              "      <td>1001.750000</td>\n",
              "      <td>186.666667</td>\n",
              "      <td>5.916667</td>\n",
              "      <td>1.000000</td>\n",
              "      <td>0.050</td>\n",
              "      <td>2019</td>\n",
              "      <td>12</td>\n",
              "      <td>30</td>\n",
              "    </tr>\n",
              "  </tbody>\n",
              "</table>\n",
              "<p>3279 rows × 14 columns</p>\n",
              "</div>"
            ],
            "text/plain": [
              "       TMAX   TMIN       WMAX   RTOT  ...   pr1h  year  month  day\n",
              "0    -11.26 -16.46   7.323933   0.05  ...  0.000  2010      1    1\n",
              "1    -10.16 -15.96   4.687217   0.00  ...  0.000  2010      1    2\n",
              "2     -9.96 -14.36   5.941380   0.06  ...  0.000  2010      1    3\n",
              "3     -8.46 -12.86   5.685068   0.17  ...  0.000  2010      1    4\n",
              "4     -7.16 -11.06   3.794733   0.77  ...  0.000  2010      1    5\n",
              "...     ...    ...        ...    ...  ...    ...   ...    ...  ...\n",
              "3608  11.84   3.84   4.301163   0.00  ...  0.000  2019     12   26\n",
              "3609  13.94   3.54   8.819297   2.73  ...  0.000  2019     12   27\n",
              "3610  15.94   9.34   9.701546  11.58  ...  0.000  2019     12   28\n",
              "3611   7.24  -1.66  11.111256   2.57  ...  0.225  2019     12   29\n",
              "3612  -0.36  -2.26   8.769265   0.04  ...  0.050  2019     12   30\n",
              "\n",
              "[3279 rows x 14 columns]"
            ]
          },
          "metadata": {
            "tags": []
          },
          "execution_count": 8
        }
      ]
    },
    {
      "cell_type": "markdown",
      "metadata": {
        "id": "JT4tYXfEDlig",
        "colab_type": "text"
      },
      "source": [
        "## Linear Regression with multiple variables; TMAX"
      ]
    },
    {
      "cell_type": "code",
      "metadata": {
        "id": "COAcoIlHDxb_",
        "colab_type": "code",
        "colab": {}
      },
      "source": [
        "# Get the verification data for training and for testing\n",
        "test_dates = np.array(new_features_date.query('year == 2019')['Date'])\n",
        "train_verification = np.array(features.query('year < 2019')['Max Hourly Temp (C)'])\n",
        "test_verification = np.array(features.query('year == 2019')['Max Hourly Temp (C)'])"
      ],
      "execution_count": 0,
      "outputs": []
    },
    {
      "cell_type": "code",
      "metadata": {
        "id": "-_vKu98dJKNj",
        "colab_type": "code",
        "colab": {
          "base_uri": "https://localhost:8080/",
          "height": 35
        },
        "outputId": "ba970b55-de44-4be5-e8c6-72d3c8391c23"
      },
      "source": [
        "# Import and set up the model\n",
        "from sklearn.linear_model import LinearRegression\n",
        "lrmax = LinearRegression(fit_intercept=True)\n",
        "\n",
        "column_names = ['TMAX','TMIN','tmpc'] # Choose the columns we want to use in the regression!!!\n",
        "train_vars = new_features.query('year < 2019')[column_names] # Get the columns for training\n",
        "test_vars = new_features.query('year == 2019')[column_names] # Get the columns for testing\n",
        "\n",
        "lrmax.fit(train_vars, train_verification) # Fit the model"
      ],
      "execution_count": 58,
      "outputs": [
        {
          "output_type": "execute_result",
          "data": {
            "text/plain": [
              "LinearRegression(copy_X=True, fit_intercept=True, n_jobs=None, normalize=False)"
            ]
          },
          "metadata": {
            "tags": []
          },
          "execution_count": 58
        }
      ]
    },
    {
      "cell_type": "code",
      "metadata": {
        "id": "T8IBbenjKiFY",
        "colab_type": "code",
        "colab": {
          "base_uri": "https://localhost:8080/",
          "height": 69
        },
        "outputId": "e8888b29-d053-4784-df1c-3b687a4edf6b"
      },
      "source": [
        "# Run the model to get predictions during the test period\n",
        "predictions = lrmax.predict(test_vars)\n",
        "\n",
        "# Print out the root mean square error (rmse), model slope, and model intercept\n",
        "print('Root Mean Square Error:', round(sqrt(mean_squared_error(test_verification, predictions)), 2), 'degrees C.')\n",
        "print(\"Model slope:    \", lrmax.coef_[0])\n",
        "print(\"Model intercept:\", lrmax.intercept_)"
      ],
      "execution_count": 59,
      "outputs": [
        {
          "output_type": "stream",
          "text": [
            "Root Mean Square Error: 3.01 degrees C.\n",
            "Model slope:     0.33822510292735897\n",
            "Model intercept: 3.5513848974641817\n"
          ],
          "name": "stdout"
        }
      ]
    },
    {
      "cell_type": "code",
      "metadata": {
        "id": "31DkTHPDRfhG",
        "colab_type": "code",
        "colab": {
          "base_uri": "https://localhost:8080/",
          "height": 285
        },
        "outputId": "a523cca8-2c67-42f4-e6a3-5644b93d61ed"
      },
      "source": [
        "# Make a plot of obs during the test period (red dots) and model prediction during the test period (blue line)\n",
        "plt.scatter(test_dates, test_verification, c='red')\n",
        "plt.plot(test_dates, predictions, c='blue')"
      ],
      "execution_count": 60,
      "outputs": [
        {
          "output_type": "execute_result",
          "data": {
            "text/plain": [
              "[<matplotlib.lines.Line2D at 0x7fe07a6cd9e8>]"
            ]
          },
          "metadata": {
            "tags": []
          },
          "execution_count": 60
        },
        {
          "output_type": "display_data",
          "data": {
            "image/png": "[encoded data removed]",
            "text/plain": [
              "<Figure size 432x288 with 1 Axes>"
            ]
          },
          "metadata": {
            "tags": []
          }
        }
      ]
    },
    {
      "cell_type": "markdown",
      "metadata": {
        "id": "esYkj86cyGrq",
        "colab_type": "text"
      },
      "source": [
        "### Linear Regression with multiple variables; TMIN"
      ]
    },
    {
      "cell_type": "code",
      "metadata": {
        "id": "Dw8CtMuYVdHr",
        "colab_type": "code",
        "colab": {}
      },
      "source": [
        "# Get the verification data for training and for testing\n",
        "test_dates = np.array(new_features_date.query('year == 2019')['Date'])\n",
        "train_verification = np.array(features.query('year < 2019')['Min Hourly Temp (C)'])\n",
        "test_verification = np.array(features.query('year == 2019')['Min Hourly Temp (C)'])"
      ],
      "execution_count": 0,
      "outputs": []
    },
    {
      "cell_type": "code",
      "metadata": {
        "id": "wIsDAXCXVfg6",
        "colab_type": "code",
        "colab": {
          "base_uri": "https://localhost:8080/",
          "height": 35
        },
        "outputId": "ecc983b7-abd3-4510-9f7f-697e43bd75eb"
      },
      "source": [
        "# Import and set up the model\n",
        "from sklearn.linear_model import LinearRegression\n",
        "lrmax = LinearRegression(fit_intercept=True)\n",
        "\n",
        "column_names = ['TMAX','TMIN','tmpc'] # Choose the columns we want to use in the regression!!!\n",
        "train_vars = new_features.query('year < 2019')[column_names] # Get the columns for training\n",
        "test_vars = new_features.query('year == 2019')[column_names] # Get the columns for testing\n",
        "\n",
        "lrmax.fit(train_vars, train_verification) # Fit the model"
      ],
      "execution_count": 62,
      "outputs": [
        {
          "output_type": "execute_result",
          "data": {
            "text/plain": [
              "LinearRegression(copy_X=True, fit_intercept=True, n_jobs=None, normalize=False)"
            ]
          },
          "metadata": {
            "tags": []
          },
          "execution_count": 62
        }
      ]
    },
    {
      "cell_type": "code",
      "metadata": {
        "id": "LY7Gk9zOVh-r",
        "colab_type": "code",
        "colab": {
          "base_uri": "https://localhost:8080/",
          "height": 69
        },
        "outputId": "610e5190-a193-4a82-9f33-40cd923d3521"
      },
      "source": [
        "# Run the model to get predictions during the test period\n",
        "predictions = lrmax.predict(test_vars)\n",
        "\n",
        "# Print out the root mean square error (rmse), model slope, and model intercept\n",
        "print('Root Mean Square Error:', round(sqrt(mean_squared_error(test_verification, predictions)), 2), 'degrees C.')\n",
        "print(\"Model slope:    \", lrmax.coef_[0])\n",
        "print(\"Model intercept:\", lrmax.intercept_)"
      ],
      "execution_count": 63,
      "outputs": [
        {
          "output_type": "stream",
          "text": [
            "Root Mean Square Error: 2.84 degrees C.\n",
            "Model slope:     -0.02875255048038343\n",
            "Model intercept: -4.112675866402335\n"
          ],
          "name": "stdout"
        }
      ]
    },
    {
      "cell_type": "code",
      "metadata": {
        "id": "vzmhWhVQVkOB",
        "colab_type": "code",
        "colab": {
          "base_uri": "https://localhost:8080/",
          "height": 285
        },
        "outputId": "a8177db7-b417-48b1-aae8-4d1c73b092cf"
      },
      "source": [
        "# Make a plot of obs during the test period (red dots) and model prediction during the test period (blue line)\n",
        "plt.scatter(test_dates, test_verification, c='red')\n",
        "plt.plot(test_dates, predictions, c='blue')"
      ],
      "execution_count": 64,
      "outputs": [
        {
          "output_type": "execute_result",
          "data": {
            "text/plain": [
              "[<matplotlib.lines.Line2D at 0x7fe07a6e6710>]"
            ]
          },
          "metadata": {
            "tags": []
          },
          "execution_count": 64
        },
        {
          "output_type": "display_data",
          "data": {
            "image/png": "[encoded data removed]",
            "text/plain": [
              "<Figure size 432x288 with 1 Axes>"
            ]
          },
          "metadata": {
            "tags": []
          }
        }
      ]
    },
    {
      "cell_type": "markdown",
      "metadata": {
        "id": "mOBevbrEzCQy",
        "colab_type": "text"
      },
      "source": [
        "### Linear Regression with multiple variables; Max Wind Speed"
      ]
    },
    {
      "cell_type": "code",
      "metadata": {
        "id": "Cn0d9t-PVpK_",
        "colab_type": "code",
        "colab": {}
      },
      "source": [
        "# Get the verification data for training and for testing\n",
        "test_dates = np.array(new_features_date.query('year == 2019')['Date'])\n",
        "train_verification = np.array(features.query('year < 2019')['Max Wind Speed (m/s)'])\n",
        "test_verification = np.array(features.query('year == 2019')['Max Wind Speed (m/s)'])"
      ],
      "execution_count": 0,
      "outputs": []
    },
    {
      "cell_type": "code",
      "metadata": {
        "id": "CyCoXLKNVqGR",
        "colab_type": "code",
        "colab": {
          "base_uri": "https://localhost:8080/",
          "height": 35
        },
        "outputId": "ddc1cf11-9211-4341-ccac-7eeb0693474f"
      },
      "source": [
        "# Import and set up the model\n",
        "from sklearn.linear_model import LinearRegression\n",
        "lrmax = LinearRegression(fit_intercept=True)\n",
        "\n",
        "column_names = ['WMAX','wspd'] # Choose the columns we want to use in the regression!!!\n",
        "train_vars = new_features.query('year < 2019')[column_names] # Get the columns for training\n",
        "test_vars = new_features.query('year == 2019')[column_names] # Get the columns for testing\n",
        "\n",
        "lrmax.fit(train_vars, train_verification) # Fit the model"
      ],
      "execution_count": 67,
      "outputs": [
        {
          "output_type": "execute_result",
          "data": {
            "text/plain": [
              "LinearRegression(copy_X=True, fit_intercept=True, n_jobs=None, normalize=False)"
            ]
          },
          "metadata": {
            "tags": []
          },
          "execution_count": 67
        }
      ]
    },
    {
      "cell_type": "code",
      "metadata": {
        "id": "7udIHO57Vs1y",
        "colab_type": "code",
        "colab": {
          "base_uri": "https://localhost:8080/",
          "height": 69
        },
        "outputId": "1037ba14-0630-443e-9030-440559867be4"
      },
      "source": [
        "# Run the model to get predictions during the test period\n",
        "predictions = lrmax.predict(test_vars)\n",
        "\n",
        "# Print out the root mean square error (rmse), model slope, and model intercept\n",
        "print('Root Mean Square Error:', round(sqrt(mean_squared_error(test_verification, predictions)), 2), 'm/s.')\n",
        "print(\"Model slope:    \", lrmax.coef_[0])\n",
        "print(\"Model intercept:\", lrmax.intercept_)"
      ],
      "execution_count": 69,
      "outputs": [
        {
          "output_type": "stream",
          "text": [
            "Root Mean Square Error: 2.42 m/s.\n",
            "Model slope:     0.4347642971723707\n",
            "Model intercept: 2.608581718487777\n"
          ],
          "name": "stdout"
        }
      ]
    },
    {
      "cell_type": "code",
      "metadata": {
        "id": "rjJ9AFl6Vuyj",
        "colab_type": "code",
        "colab": {
          "base_uri": "https://localhost:8080/",
          "height": 285
        },
        "outputId": "d0006bc9-3d91-4dd3-d5e2-6ec566ff9568"
      },
      "source": [
        "# Make a plot of obs during the test period (red dots) and model prediction during the test period (blue line)\n",
        "plt.scatter(test_dates, test_verification, c='red')\n",
        "plt.plot(test_dates, predictions, c='blue')"
      ],
      "execution_count": 70,
      "outputs": [
        {
          "output_type": "execute_result",
          "data": {
            "text/plain": [
              "[<matplotlib.lines.Line2D at 0x7fe07a688e10>]"
            ]
          },
          "metadata": {
            "tags": []
          },
          "execution_count": 70
        },
        {
          "output_type": "display_data",
          "data": {
            "image/png": "[encoded data removed]",
            "text/plain": [
              "<Figure size 432x288 with 1 Axes>"
            ]
          },
          "metadata": {
            "tags": []
          }
        }
      ]
    },
    {
      "cell_type": "markdown",
      "metadata": {
        "id": "oGKRHPN-0GlF",
        "colab_type": "text"
      },
      "source": [
        "### Linear Regression with multiple variables; Total Precipitation"
      ]
    },
    {
      "cell_type": "code",
      "metadata": {
        "id": "6MWTCPyu0qen",
        "colab_type": "code",
        "colab": {}
      },
      "source": [
        "# Get the verification data for training and for testing\n",
        "test_dates = np.array(new_features_date.query('year == 2019')['Date'])\n",
        "train_verification = np.array(features.query('year < 2019')['Daily Precip (mm)'])\n",
        "test_verification = np.array(features.query('year == 2019')['Daily Precip (mm)'])"
      ],
      "execution_count": 0,
      "outputs": []
    },
    {
      "cell_type": "code",
      "metadata": {
        "id": "OqXHYiEiVytL",
        "colab_type": "code",
        "colab": {
          "base_uri": "https://localhost:8080/",
          "height": 35
        },
        "outputId": "67ead46f-2a91-4da5-9bb5-2b853eed1bf1"
      },
      "source": [
        "# Import and set up the model\n",
        "from sklearn.linear_model import LinearRegression\n",
        "lrmax = LinearRegression(fit_intercept=True)\n",
        "\n",
        "column_names = ['RTOT','dwpc','mslp','skct'] # Choose the columns we want to use in the regression!!!\n",
        "train_vars = new_features.query('year < 2019')[column_names] # Get the columns for training\n",
        "test_vars = new_features.query('year == 2019')[column_names] # Get the columns for testing\n",
        "\n",
        "lrmax.fit(train_vars, train_verification) # Fit the model"
      ],
      "execution_count": 91,
      "outputs": [
        {
          "output_type": "execute_result",
          "data": {
            "text/plain": [
              "LinearRegression(copy_X=True, fit_intercept=True, n_jobs=None, normalize=False)"
            ]
          },
          "metadata": {
            "tags": []
          },
          "execution_count": 91
        }
      ]
    },
    {
      "cell_type": "code",
      "metadata": {
        "id": "GJhLncaiV0bR",
        "colab_type": "code",
        "colab": {
          "base_uri": "https://localhost:8080/",
          "height": 69
        },
        "outputId": "ddafdba4-3d25-421d-db7b-f824c18855c5"
      },
      "source": [
        "# Run the model to get predictions during the test period\n",
        "predictions = lrmax.predict(test_vars)\n",
        "\n",
        "# Print out the root mean square error (rmse), model slope, and model intercept\n",
        "print('Root Mean Square Error:', round(sqrt(mean_squared_error(test_verification, predictions)), 2), 'mm.')\n",
        "print(\"Model slope:    \", lrmax.coef_[0])\n",
        "print(\"Model intercept:\", lrmax.intercept_)"
      ],
      "execution_count": 92,
      "outputs": [
        {
          "output_type": "stream",
          "text": [
            "Root Mean Square Error: 4.89 mm.\n",
            "Model slope:     0.08886798521996155\n",
            "Model intercept: -1.7430856292508334\n"
          ],
          "name": "stdout"
        }
      ]
    },
    {
      "cell_type": "code",
      "metadata": {
        "id": "neW_m4NFV3UC",
        "colab_type": "code",
        "colab": {
          "base_uri": "https://localhost:8080/",
          "height": 285
        },
        "outputId": "d7e09465-669c-480b-d2a1-1b273bc9cdaa"
      },
      "source": [
        "# Make a plot of obs during the test period (red dots) and model prediction during the test period (blue line)\n",
        "plt.scatter(test_dates, test_verification, c='red')\n",
        "plt.plot(test_dates, predictions, c='blue')"
      ],
      "execution_count": 93,
      "outputs": [
        {
          "output_type": "execute_result",
          "data": {
            "text/plain": [
              "[<matplotlib.lines.Line2D at 0x7fe080817390>]"
            ]
          },
          "metadata": {
            "tags": []
          },
          "execution_count": 93
        },
        {
          "output_type": "display_data",
          "data": {
            "image/png": "[encoded data removed]",
            "text/plain": [
              "<Figure size 432x288 with 1 Axes>"
            ]
          },
          "metadata": {
            "tags": []
          }
        }
      ]
    },
    {
      "cell_type": "code",
      "metadata": {
        "id": "XwlVrtLmWvUd",
        "colab_type": "code",
        "colab": {}
      },
      "source": [
        ""
      ],
      "execution_count": 0,
      "outputs": []
    }
  ]
}