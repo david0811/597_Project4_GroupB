{
  "nbformat": 4,
  "nbformat_minor": 0,
  "metadata": {
    "colab": {
      "name": "Project4_LinearModel.ipynb",
      "provenance": [],
      "collapsed_sections": [],
      "mount_file_id": "1v6VvO4fF6GU8gGr3X0jeWCDXN2pFsvqh",
      "authorship_tag": "ABX9TyNzrVDRb/bTGHDvvwFvHmLe",
      "include_colab_link": true
    },
    "kernelspec": {
      "name": "python3",
      "display_name": "Python 3"
    }
  },
  "cells": [
    {
      "cell_type": "markdown",
      "metadata": {
        "id": "view-in-github",
        "colab_type": "text"
      },
      "source": [
        "<a href=\"https://colab.research.google.com/github/kevingray92/597_Project4_GroupB/blob/develop-linear-model/Project4_LinearModel.ipynb\" target=\"_parent\"><img src=\"https://colab.research.google.com/assets/colab-badge.svg\" alt=\"Open In Colab\"/></a>"
      ]
    },
    {
      "cell_type": "code",
      "metadata": {
        "id": "KMGkL7nBhxMw",
        "colab_type": "code",
        "colab": {}
      },
      "source": [
        "%matplotlib inline\n",
        "import matplotlib.pyplot as plt\n",
        "import seaborn as sns; sns.set()\n",
        "import numpy as np\n",
        "import pandas as pd\n",
        "from sklearn.metrics import mean_squared_error\n",
        "from math import sqrt"
      ],
      "execution_count": 0,
      "outputs": []
    },
    {
      "cell_type": "code",
      "metadata": {
        "id": "CriLPtD5iN8F",
        "colab_type": "code",
        "colab": {}
      },
      "source": [
        "#gfs = pd.read_csv('./raw_data/GFS_Daily_PredictVars_2010thru2019.csv', index_col = 'Date', usecols = ['Date', 'TMAX', 'TMIN', 'WMAX', 'RTOT'], parse_dates = True)\n",
        "gfs = pd.read_csv('drive/My Drive/GFS_Daily_PredictVars_2010thru2019.csv', index_col = 'Date', usecols = ['Date', 'TMAX', 'TMIN', 'WMAX', 'RTOT'], parse_dates = True)\n",
        "# gfsfs = pd.read_csv('./raw_data/GFS_Sfc_42hrFcst_2010thru2019.csv', skiprows=1, index_col = 'Date', parse_dates = True)\n",
        "\n",
        "#oldobs = pd.read_csv('./raw_data/KCMI_hourly_tidy.csv', index_col = 'Timestamp', parse_dates = True)\n",
        "oldobs = pd.read_csv('drive/My Drive/KCMI_hourly_tidy.csv', index_col = 'Timestamp', parse_dates = True)\n",
        "oldobs.index = oldobs.index + pd.DateOffset(hours=12)  # Align times\n",
        "\n",
        "#obs = pd.read_csv('./raw_data/KCMI_daily_tidy.csv', index_col = 'Date', parse_dates = True)\n",
        "obs = pd.read_csv('drive/My Drive/KCMI_daily_tidy.csv', index_col = 'Date', parse_dates = True)\n",
        "obs.index = obs.index + pd.DateOffset(hours=12)  # Align times"
      ],
      "execution_count": 0,
      "outputs": []
    },
    {
      "cell_type": "code",
      "metadata": {
        "id": "gK9isSu-l98G",
        "colab_type": "code",
        "colab": {}
      },
      "source": [
        "# Merge and drop all days with missing values \n",
        "features = pd.merge(obs.reset_index(), gfs.reset_index(), on = 'Date', how = 'inner')\n",
        "features = pd.merge(features, oldobs.reset_index(), left_on = 'Date', right_on = 'Timestamp', how = 'inner').drop(columns = 'Timestamp')\n",
        "features.dropna(inplace = True)  # There are some NaNs in the observations"
      ],
      "execution_count": 0,
      "outputs": []
    },
    {
      "cell_type": "code",
      "metadata": {
        "id": "jeDZZULMm3w3",
        "colab_type": "code",
        "colab": {
          "base_uri": "https://localhost:8080/",
          "height": 834
        },
        "outputId": "a63ec9c1-4076-4b08-b274-d5cd616f73df"
      },
      "source": [
        "features"
      ],
      "execution_count": 4,
      "outputs": [
        {
          "output_type": "execute_result",
          "data": {
            "text/html": [
              "<div>\n",
              "<style scoped>\n",
              "    .dataframe tbody tr th:only-of-type {\n",
              "        vertical-align: middle;\n",
              "    }\n",
              "\n",
              "    .dataframe tbody tr th {\n",
              "        vertical-align: top;\n",
              "    }\n",
              "\n",
              "    .dataframe thead th {\n",
              "        text-align: right;\n",
              "    }\n",
              "</style>\n",
              "<table border=\"1\" class=\"dataframe\">\n",
              "  <thead>\n",
              "    <tr style=\"text-align: right;\">\n",
              "      <th></th>\n",
              "      <th>Date</th>\n",
              "      <th>Max Hourly Temp (C)</th>\n",
              "      <th>Min Hourly Temp (C)</th>\n",
              "      <th>Max Wind Speed (m/s)</th>\n",
              "      <th>Daily Precip (mm)</th>\n",
              "      <th>TMAX</th>\n",
              "      <th>TMIN</th>\n",
              "      <th>WMAX</th>\n",
              "      <th>RTOT</th>\n",
              "      <th>tmpc</th>\n",
              "      <th>dwpc</th>\n",
              "      <th>mslp</th>\n",
              "      <th>wdir</th>\n",
              "      <th>wspd</th>\n",
              "      <th>skct</th>\n",
              "      <th>pr1h</th>\n",
              "    </tr>\n",
              "  </thead>\n",
              "  <tbody>\n",
              "    <tr>\n",
              "      <th>0</th>\n",
              "      <td>2010-01-01 12:00:00</td>\n",
              "      <td>-11.111111</td>\n",
              "      <td>-16.666667</td>\n",
              "      <td>6.70560</td>\n",
              "      <td>0.0</td>\n",
              "      <td>-11.26</td>\n",
              "      <td>-16.46</td>\n",
              "      <td>7.323933</td>\n",
              "      <td>0.05</td>\n",
              "      <td>-7.590909</td>\n",
              "      <td>-11.154545</td>\n",
              "      <td>1022.190909</td>\n",
              "      <td>288.181818</td>\n",
              "      <td>7.036364</td>\n",
              "      <td>2.090909</td>\n",
              "      <td>0.000</td>\n",
              "    </tr>\n",
              "    <tr>\n",
              "      <th>1</th>\n",
              "      <td>2010-01-02 12:00:00</td>\n",
              "      <td>-14.444444</td>\n",
              "      <td>-20.555556</td>\n",
              "      <td>6.70560</td>\n",
              "      <td>0.0</td>\n",
              "      <td>-10.16</td>\n",
              "      <td>-15.96</td>\n",
              "      <td>4.687217</td>\n",
              "      <td>0.00</td>\n",
              "      <td>-13.008333</td>\n",
              "      <td>-16.616667</td>\n",
              "      <td>1029.875000</td>\n",
              "      <td>290.833333</td>\n",
              "      <td>6.066667</td>\n",
              "      <td>3.583333</td>\n",
              "      <td>0.000</td>\n",
              "    </tr>\n",
              "    <tr>\n",
              "      <th>2</th>\n",
              "      <td>2010-01-03 12:00:00</td>\n",
              "      <td>-12.222222</td>\n",
              "      <td>-21.111111</td>\n",
              "      <td>4.91744</td>\n",
              "      <td>0.0</td>\n",
              "      <td>-9.96</td>\n",
              "      <td>-14.36</td>\n",
              "      <td>5.941380</td>\n",
              "      <td>0.06</td>\n",
              "      <td>-17.091667</td>\n",
              "      <td>-20.558333</td>\n",
              "      <td>1032.716667</td>\n",
              "      <td>306.666667</td>\n",
              "      <td>4.108333</td>\n",
              "      <td>0.000000</td>\n",
              "      <td>0.000</td>\n",
              "    </tr>\n",
              "    <tr>\n",
              "      <th>3</th>\n",
              "      <td>2010-01-04 12:00:00</td>\n",
              "      <td>-11.666667</td>\n",
              "      <td>-18.888889</td>\n",
              "      <td>8.94080</td>\n",
              "      <td>0.0</td>\n",
              "      <td>-8.46</td>\n",
              "      <td>-12.86</td>\n",
              "      <td>5.685068</td>\n",
              "      <td>0.17</td>\n",
              "      <td>-14.550000</td>\n",
              "      <td>-18.458333</td>\n",
              "      <td>1031.466667</td>\n",
              "      <td>304.166667</td>\n",
              "      <td>3.933333</td>\n",
              "      <td>0.166667</td>\n",
              "      <td>0.000</td>\n",
              "    </tr>\n",
              "    <tr>\n",
              "      <th>4</th>\n",
              "      <td>2010-01-05 12:00:00</td>\n",
              "      <td>-12.222222</td>\n",
              "      <td>-18.333333</td>\n",
              "      <td>7.15264</td>\n",
              "      <td>0.0</td>\n",
              "      <td>-7.16</td>\n",
              "      <td>-11.06</td>\n",
              "      <td>3.794733</td>\n",
              "      <td>0.77</td>\n",
              "      <td>-12.908333</td>\n",
              "      <td>-16.408333</td>\n",
              "      <td>1027.250000</td>\n",
              "      <td>288.333333</td>\n",
              "      <td>7.341667</td>\n",
              "      <td>3.916667</td>\n",
              "      <td>0.000</td>\n",
              "    </tr>\n",
              "    <tr>\n",
              "      <th>...</th>\n",
              "      <td>...</td>\n",
              "      <td>...</td>\n",
              "      <td>...</td>\n",
              "      <td>...</td>\n",
              "      <td>...</td>\n",
              "      <td>...</td>\n",
              "      <td>...</td>\n",
              "      <td>...</td>\n",
              "      <td>...</td>\n",
              "      <td>...</td>\n",
              "      <td>...</td>\n",
              "      <td>...</td>\n",
              "      <td>...</td>\n",
              "      <td>...</td>\n",
              "      <td>...</td>\n",
              "      <td>...</td>\n",
              "    </tr>\n",
              "    <tr>\n",
              "      <th>3608</th>\n",
              "      <td>2019-12-26 12:00:00</td>\n",
              "      <td>16.666667</td>\n",
              "      <td>7.777778</td>\n",
              "      <td>8.04672</td>\n",
              "      <td>0.0</td>\n",
              "      <td>11.84</td>\n",
              "      <td>3.84</td>\n",
              "      <td>4.301163</td>\n",
              "      <td>0.00</td>\n",
              "      <td>12.233333</td>\n",
              "      <td>8.241667</td>\n",
              "      <td>1013.433333</td>\n",
              "      <td>173.333333</td>\n",
              "      <td>5.741667</td>\n",
              "      <td>0.000000</td>\n",
              "      <td>0.000</td>\n",
              "    </tr>\n",
              "    <tr>\n",
              "      <th>3609</th>\n",
              "      <td>2019-12-27 12:00:00</td>\n",
              "      <td>6.111111</td>\n",
              "      <td>0.000000</td>\n",
              "      <td>6.70560</td>\n",
              "      <td>0.0</td>\n",
              "      <td>13.94</td>\n",
              "      <td>3.54</td>\n",
              "      <td>8.819297</td>\n",
              "      <td>2.73</td>\n",
              "      <td>12.225000</td>\n",
              "      <td>10.358333</td>\n",
              "      <td>1017.009091</td>\n",
              "      <td>224.166667</td>\n",
              "      <td>4.366667</td>\n",
              "      <td>1.750000</td>\n",
              "      <td>0.000</td>\n",
              "    </tr>\n",
              "    <tr>\n",
              "      <th>3610</th>\n",
              "      <td>2019-12-28 12:00:00</td>\n",
              "      <td>13.333333</td>\n",
              "      <td>0.000000</td>\n",
              "      <td>10.28192</td>\n",
              "      <td>2.7</td>\n",
              "      <td>15.94</td>\n",
              "      <td>9.34</td>\n",
              "      <td>9.701546</td>\n",
              "      <td>11.58</td>\n",
              "      <td>2.166667</td>\n",
              "      <td>0.383333</td>\n",
              "      <td>1025.200000</td>\n",
              "      <td>127.500000</td>\n",
              "      <td>2.066667</td>\n",
              "      <td>0.750000</td>\n",
              "      <td>0.000</td>\n",
              "    </tr>\n",
              "    <tr>\n",
              "      <th>3611</th>\n",
              "      <td>2019-12-29 12:00:00</td>\n",
              "      <td>15.000000</td>\n",
              "      <td>5.000000</td>\n",
              "      <td>10.28192</td>\n",
              "      <td>4.0</td>\n",
              "      <td>7.24</td>\n",
              "      <td>-1.66</td>\n",
              "      <td>11.111256</td>\n",
              "      <td>2.57</td>\n",
              "      <td>11.258333</td>\n",
              "      <td>10.658333</td>\n",
              "      <td>1013.350000</td>\n",
              "      <td>119.166667</td>\n",
              "      <td>7.016667</td>\n",
              "      <td>9.000000</td>\n",
              "      <td>0.225</td>\n",
              "    </tr>\n",
              "    <tr>\n",
              "      <th>3612</th>\n",
              "      <td>2019-12-30 12:00:00</td>\n",
              "      <td>3.333333</td>\n",
              "      <td>-0.555556</td>\n",
              "      <td>11.62304</td>\n",
              "      <td>0.4</td>\n",
              "      <td>-0.36</td>\n",
              "      <td>-2.26</td>\n",
              "      <td>8.769265</td>\n",
              "      <td>0.04</td>\n",
              "      <td>10.591667</td>\n",
              "      <td>9.441667</td>\n",
              "      <td>1001.750000</td>\n",
              "      <td>186.666667</td>\n",
              "      <td>5.916667</td>\n",
              "      <td>1.000000</td>\n",
              "      <td>0.050</td>\n",
              "    </tr>\n",
              "  </tbody>\n",
              "</table>\n",
              "<p>3279 rows × 16 columns</p>\n",
              "</div>"
            ],
            "text/plain": [
              "                    Date  Max Hourly Temp (C)  ...      skct   pr1h\n",
              "0    2010-01-01 12:00:00           -11.111111  ...  2.090909  0.000\n",
              "1    2010-01-02 12:00:00           -14.444444  ...  3.583333  0.000\n",
              "2    2010-01-03 12:00:00           -12.222222  ...  0.000000  0.000\n",
              "3    2010-01-04 12:00:00           -11.666667  ...  0.166667  0.000\n",
              "4    2010-01-05 12:00:00           -12.222222  ...  3.916667  0.000\n",
              "...                  ...                  ...  ...       ...    ...\n",
              "3608 2019-12-26 12:00:00            16.666667  ...  0.000000  0.000\n",
              "3609 2019-12-27 12:00:00             6.111111  ...  1.750000  0.000\n",
              "3610 2019-12-28 12:00:00            13.333333  ...  0.750000  0.000\n",
              "3611 2019-12-29 12:00:00            15.000000  ...  9.000000  0.225\n",
              "3612 2019-12-30 12:00:00             3.333333  ...  1.000000  0.050\n",
              "\n",
              "[3279 rows x 16 columns]"
            ]
          },
          "metadata": {
            "tags": []
          },
          "execution_count": 4
        }
      ]
    },
    {
      "cell_type": "code",
      "metadata": {
        "id": "DGaGydgNm6fc",
        "colab_type": "code",
        "colab": {
          "base_uri": "https://localhost:8080/",
          "height": 349
        },
        "outputId": "a71ad343-b768-431d-d158-b97e2411b0fa"
      },
      "source": [
        "features.describe()"
      ],
      "execution_count": 5,
      "outputs": [
        {
          "output_type": "execute_result",
          "data": {
            "text/html": [
              "<div>\n",
              "<style scoped>\n",
              "    .dataframe tbody tr th:only-of-type {\n",
              "        vertical-align: middle;\n",
              "    }\n",
              "\n",
              "    .dataframe tbody tr th {\n",
              "        vertical-align: top;\n",
              "    }\n",
              "\n",
              "    .dataframe thead th {\n",
              "        text-align: right;\n",
              "    }\n",
              "</style>\n",
              "<table border=\"1\" class=\"dataframe\">\n",
              "  <thead>\n",
              "    <tr style=\"text-align: right;\">\n",
              "      <th></th>\n",
              "      <th>Max Hourly Temp (C)</th>\n",
              "      <th>Min Hourly Temp (C)</th>\n",
              "      <th>Max Wind Speed (m/s)</th>\n",
              "      <th>Daily Precip (mm)</th>\n",
              "      <th>TMAX</th>\n",
              "      <th>TMIN</th>\n",
              "      <th>WMAX</th>\n",
              "      <th>RTOT</th>\n",
              "      <th>tmpc</th>\n",
              "      <th>dwpc</th>\n",
              "      <th>mslp</th>\n",
              "      <th>wdir</th>\n",
              "      <th>wspd</th>\n",
              "      <th>skct</th>\n",
              "      <th>pr1h</th>\n",
              "    </tr>\n",
              "  </thead>\n",
              "  <tbody>\n",
              "    <tr>\n",
              "      <th>count</th>\n",
              "      <td>3279.000000</td>\n",
              "      <td>3279.000000</td>\n",
              "      <td>3279.000000</td>\n",
              "      <td>3279.000000</td>\n",
              "      <td>3279.000000</td>\n",
              "      <td>3279.000000</td>\n",
              "      <td>3279.000000</td>\n",
              "      <td>3279.000000</td>\n",
              "      <td>3279.000000</td>\n",
              "      <td>3279.000000</td>\n",
              "      <td>3279.000000</td>\n",
              "      <td>3279.000000</td>\n",
              "      <td>3279.000000</td>\n",
              "      <td>3279.000000</td>\n",
              "      <td>3279.000000</td>\n",
              "    </tr>\n",
              "    <tr>\n",
              "      <th>mean</th>\n",
              "      <td>17.537698</td>\n",
              "      <td>6.489445</td>\n",
              "      <td>7.598453</td>\n",
              "      <td>2.078561</td>\n",
              "      <td>16.103403</td>\n",
              "      <td>7.178365</td>\n",
              "      <td>5.768162</td>\n",
              "      <td>3.347643</td>\n",
              "      <td>13.784983</td>\n",
              "      <td>6.969115</td>\n",
              "      <td>1016.964704</td>\n",
              "      <td>183.175597</td>\n",
              "      <td>4.658326</td>\n",
              "      <td>1.856453</td>\n",
              "      <td>0.075684</td>\n",
              "    </tr>\n",
              "    <tr>\n",
              "      <th>std</th>\n",
              "      <td>11.936209</td>\n",
              "      <td>10.837186</td>\n",
              "      <td>2.923450</td>\n",
              "      <td>6.274578</td>\n",
              "      <td>11.222346</td>\n",
              "      <td>10.004560</td>\n",
              "      <td>2.338025</td>\n",
              "      <td>7.179312</td>\n",
              "      <td>11.618374</td>\n",
              "      <td>10.832349</td>\n",
              "      <td>6.915968</td>\n",
              "      <td>75.123158</td>\n",
              "      <td>2.175907</td>\n",
              "      <td>2.405758</td>\n",
              "      <td>0.330217</td>\n",
              "    </tr>\n",
              "    <tr>\n",
              "      <th>min</th>\n",
              "      <td>-21.111111</td>\n",
              "      <td>-26.666667</td>\n",
              "      <td>2.235200</td>\n",
              "      <td>0.000000</td>\n",
              "      <td>-18.760000</td>\n",
              "      <td>-25.060000</td>\n",
              "      <td>1.431782</td>\n",
              "      <td>0.000000</td>\n",
              "      <td>-22.766667</td>\n",
              "      <td>-26.991667</td>\n",
              "      <td>992.290909</td>\n",
              "      <td>7.272727</td>\n",
              "      <td>0.250000</td>\n",
              "      <td>0.000000</td>\n",
              "      <td>-0.100000</td>\n",
              "    </tr>\n",
              "    <tr>\n",
              "      <th>25%</th>\n",
              "      <td>8.333333</td>\n",
              "      <td>-1.666667</td>\n",
              "      <td>5.811520</td>\n",
              "      <td>0.000000</td>\n",
              "      <td>7.140000</td>\n",
              "      <td>-0.660000</td>\n",
              "      <td>3.984972</td>\n",
              "      <td>0.000000</td>\n",
              "      <td>4.450000</td>\n",
              "      <td>-1.262500</td>\n",
              "      <td>1012.704167</td>\n",
              "      <td>130.833333</td>\n",
              "      <td>3.043561</td>\n",
              "      <td>0.000000</td>\n",
              "      <td>0.000000</td>\n",
              "    </tr>\n",
              "    <tr>\n",
              "      <th>50%</th>\n",
              "      <td>20.000000</td>\n",
              "      <td>7.777778</td>\n",
              "      <td>7.152640</td>\n",
              "      <td>0.000000</td>\n",
              "      <td>18.140000</td>\n",
              "      <td>8.440000</td>\n",
              "      <td>5.393515</td>\n",
              "      <td>0.310000</td>\n",
              "      <td>15.875000</td>\n",
              "      <td>7.541667</td>\n",
              "      <td>1016.516667</td>\n",
              "      <td>185.833333</td>\n",
              "      <td>4.333333</td>\n",
              "      <td>0.909091</td>\n",
              "      <td>0.000000</td>\n",
              "    </tr>\n",
              "    <tr>\n",
              "      <th>75%</th>\n",
              "      <td>27.777778</td>\n",
              "      <td>16.111111</td>\n",
              "      <td>9.387840</td>\n",
              "      <td>0.500000</td>\n",
              "      <td>25.940000</td>\n",
              "      <td>15.540000</td>\n",
              "      <td>7.185750</td>\n",
              "      <td>3.345000</td>\n",
              "      <td>24.025000</td>\n",
              "      <td>16.570833</td>\n",
              "      <td>1020.937500</td>\n",
              "      <td>239.166667</td>\n",
              "      <td>5.925000</td>\n",
              "      <td>2.366667</td>\n",
              "      <td>0.000000</td>\n",
              "    </tr>\n",
              "    <tr>\n",
              "      <th>max</th>\n",
              "      <td>37.777778</td>\n",
              "      <td>25.555556</td>\n",
              "      <td>23.246080</td>\n",
              "      <td>89.000000</td>\n",
              "      <td>37.140000</td>\n",
              "      <td>25.040000</td>\n",
              "      <td>16.413714</td>\n",
              "      <td>94.690000</td>\n",
              "      <td>33.941667</td>\n",
              "      <td>26.433333</td>\n",
              "      <td>1044.875000</td>\n",
              "      <td>352.500000</td>\n",
              "      <td>15.775000</td>\n",
              "      <td>9.000000</td>\n",
              "      <td>7.416667</td>\n",
              "    </tr>\n",
              "  </tbody>\n",
              "</table>\n",
              "</div>"
            ],
            "text/plain": [
              "       Max Hourly Temp (C)  Min Hourly Temp (C)  ...         skct         pr1h\n",
              "count          3279.000000          3279.000000  ...  3279.000000  3279.000000\n",
              "mean             17.537698             6.489445  ...     1.856453     0.075684\n",
              "std              11.936209            10.837186  ...     2.405758     0.330217\n",
              "min             -21.111111           -26.666667  ...     0.000000    -0.100000\n",
              "25%               8.333333            -1.666667  ...     0.000000     0.000000\n",
              "50%              20.000000             7.777778  ...     0.909091     0.000000\n",
              "75%              27.777778            16.111111  ...     2.366667     0.000000\n",
              "max              37.777778            25.555556  ...     9.000000     7.416667\n",
              "\n",
              "[8 rows x 15 columns]"
            ]
          },
          "metadata": {
            "tags": []
          },
          "execution_count": 5
        }
      ]
    },
    {
      "cell_type": "code",
      "metadata": {
        "id": "ScQgbFnSnD0d",
        "colab_type": "code",
        "colab": {}
      },
      "source": [
        "# Add year, month, day as integers \n",
        "features['year'] = features['Date'].dt.year\n",
        "features['month'] = features['Date'].dt.month\n",
        "features['day'] = features['Date'].dt.day"
      ],
      "execution_count": 0,
      "outputs": []
    },
    {
      "cell_type": "code",
      "metadata": {
        "id": "5q4PlS6cnOh5",
        "colab_type": "code",
        "colab": {}
      },
      "source": [
        "\n",
        "# The data we will be using to predict the labels\n",
        "new_features = features.drop(columns = ['Date', 'Max Hourly Temp (C)', 'Min Hourly Temp (C)', 'Max Wind Speed (m/s)', 'Daily Precip (mm)'], axis = 1)\n",
        "new_features_date = features.drop(columns = ['Max Hourly Temp (C)', 'Min Hourly Temp (C)', 'Max Wind Speed (m/s)', 'Daily Precip (mm)'], axis = 1)\n",
        "\n",
        "# Save feature list for later\n",
        "feature_list = list(new_features.columns)"
      ],
      "execution_count": 0,
      "outputs": []
    },
    {
      "cell_type": "code",
      "metadata": {
        "id": "Kka4W_sLnY6y",
        "colab_type": "code",
        "colab": {
          "base_uri": "https://localhost:8080/",
          "height": 415
        },
        "outputId": "4d88014f-0d95-48d7-89f6-a5f1ff2b3dcd"
      },
      "source": [
        "new_features"
      ],
      "execution_count": 14,
      "outputs": [
        {
          "output_type": "execute_result",
          "data": {
            "text/html": [
              "<div>\n",
              "<style scoped>\n",
              "    .dataframe tbody tr th:only-of-type {\n",
              "        vertical-align: middle;\n",
              "    }\n",
              "\n",
              "    .dataframe tbody tr th {\n",
              "        vertical-align: top;\n",
              "    }\n",
              "\n",
              "    .dataframe thead th {\n",
              "        text-align: right;\n",
              "    }\n",
              "</style>\n",
              "<table border=\"1\" class=\"dataframe\">\n",
              "  <thead>\n",
              "    <tr style=\"text-align: right;\">\n",
              "      <th></th>\n",
              "      <th>TMAX</th>\n",
              "      <th>TMIN</th>\n",
              "      <th>WMAX</th>\n",
              "      <th>RTOT</th>\n",
              "      <th>tmpc</th>\n",
              "      <th>dwpc</th>\n",
              "      <th>mslp</th>\n",
              "      <th>wdir</th>\n",
              "      <th>wspd</th>\n",
              "      <th>skct</th>\n",
              "      <th>pr1h</th>\n",
              "      <th>year</th>\n",
              "      <th>month</th>\n",
              "      <th>day</th>\n",
              "    </tr>\n",
              "  </thead>\n",
              "  <tbody>\n",
              "    <tr>\n",
              "      <th>0</th>\n",
              "      <td>-11.26</td>\n",
              "      <td>-16.46</td>\n",
              "      <td>7.323933</td>\n",
              "      <td>0.05</td>\n",
              "      <td>-7.590909</td>\n",
              "      <td>-11.154545</td>\n",
              "      <td>1022.190909</td>\n",
              "      <td>288.181818</td>\n",
              "      <td>7.036364</td>\n",
              "      <td>2.090909</td>\n",
              "      <td>0.000</td>\n",
              "      <td>2010</td>\n",
              "      <td>1</td>\n",
              "      <td>1</td>\n",
              "    </tr>\n",
              "    <tr>\n",
              "      <th>1</th>\n",
              "      <td>-10.16</td>\n",
              "      <td>-15.96</td>\n",
              "      <td>4.687217</td>\n",
              "      <td>0.00</td>\n",
              "      <td>-13.008333</td>\n",
              "      <td>-16.616667</td>\n",
              "      <td>1029.875000</td>\n",
              "      <td>290.833333</td>\n",
              "      <td>6.066667</td>\n",
              "      <td>3.583333</td>\n",
              "      <td>0.000</td>\n",
              "      <td>2010</td>\n",
              "      <td>1</td>\n",
              "      <td>2</td>\n",
              "    </tr>\n",
              "    <tr>\n",
              "      <th>2</th>\n",
              "      <td>-9.96</td>\n",
              "      <td>-14.36</td>\n",
              "      <td>5.941380</td>\n",
              "      <td>0.06</td>\n",
              "      <td>-17.091667</td>\n",
              "      <td>-20.558333</td>\n",
              "      <td>1032.716667</td>\n",
              "      <td>306.666667</td>\n",
              "      <td>4.108333</td>\n",
              "      <td>0.000000</td>\n",
              "      <td>0.000</td>\n",
              "      <td>2010</td>\n",
              "      <td>1</td>\n",
              "      <td>3</td>\n",
              "    </tr>\n",
              "    <tr>\n",
              "      <th>3</th>\n",
              "      <td>-8.46</td>\n",
              "      <td>-12.86</td>\n",
              "      <td>5.685068</td>\n",
              "      <td>0.17</td>\n",
              "      <td>-14.550000</td>\n",
              "      <td>-18.458333</td>\n",
              "      <td>1031.466667</td>\n",
              "      <td>304.166667</td>\n",
              "      <td>3.933333</td>\n",
              "      <td>0.166667</td>\n",
              "      <td>0.000</td>\n",
              "      <td>2010</td>\n",
              "      <td>1</td>\n",
              "      <td>4</td>\n",
              "    </tr>\n",
              "    <tr>\n",
              "      <th>4</th>\n",
              "      <td>-7.16</td>\n",
              "      <td>-11.06</td>\n",
              "      <td>3.794733</td>\n",
              "      <td>0.77</td>\n",
              "      <td>-12.908333</td>\n",
              "      <td>-16.408333</td>\n",
              "      <td>1027.250000</td>\n",
              "      <td>288.333333</td>\n",
              "      <td>7.341667</td>\n",
              "      <td>3.916667</td>\n",
              "      <td>0.000</td>\n",
              "      <td>2010</td>\n",
              "      <td>1</td>\n",
              "      <td>5</td>\n",
              "    </tr>\n",
              "    <tr>\n",
              "      <th>...</th>\n",
              "      <td>...</td>\n",
              "      <td>...</td>\n",
              "      <td>...</td>\n",
              "      <td>...</td>\n",
              "      <td>...</td>\n",
              "      <td>...</td>\n",
              "      <td>...</td>\n",
              "      <td>...</td>\n",
              "      <td>...</td>\n",
              "      <td>...</td>\n",
              "      <td>...</td>\n",
              "      <td>...</td>\n",
              "      <td>...</td>\n",
              "      <td>...</td>\n",
              "    </tr>\n",
              "    <tr>\n",
              "      <th>3608</th>\n",
              "      <td>11.84</td>\n",
              "      <td>3.84</td>\n",
              "      <td>4.301163</td>\n",
              "      <td>0.00</td>\n",
              "      <td>12.233333</td>\n",
              "      <td>8.241667</td>\n",
              "      <td>1013.433333</td>\n",
              "      <td>173.333333</td>\n",
              "      <td>5.741667</td>\n",
              "      <td>0.000000</td>\n",
              "      <td>0.000</td>\n",
              "      <td>2019</td>\n",
              "      <td>12</td>\n",
              "      <td>26</td>\n",
              "    </tr>\n",
              "    <tr>\n",
              "      <th>3609</th>\n",
              "      <td>13.94</td>\n",
              "      <td>3.54</td>\n",
              "      <td>8.819297</td>\n",
              "      <td>2.73</td>\n",
              "      <td>12.225000</td>\n",
              "      <td>10.358333</td>\n",
              "      <td>1017.009091</td>\n",
              "      <td>224.166667</td>\n",
              "      <td>4.366667</td>\n",
              "      <td>1.750000</td>\n",
              "      <td>0.000</td>\n",
              "      <td>2019</td>\n",
              "      <td>12</td>\n",
              "      <td>27</td>\n",
              "    </tr>\n",
              "    <tr>\n",
              "      <th>3610</th>\n",
              "      <td>15.94</td>\n",
              "      <td>9.34</td>\n",
              "      <td>9.701546</td>\n",
              "      <td>11.58</td>\n",
              "      <td>2.166667</td>\n",
              "      <td>0.383333</td>\n",
              "      <td>1025.200000</td>\n",
              "      <td>127.500000</td>\n",
              "      <td>2.066667</td>\n",
              "      <td>0.750000</td>\n",
              "      <td>0.000</td>\n",
              "      <td>2019</td>\n",
              "      <td>12</td>\n",
              "      <td>28</td>\n",
              "    </tr>\n",
              "    <tr>\n",
              "      <th>3611</th>\n",
              "      <td>7.24</td>\n",
              "      <td>-1.66</td>\n",
              "      <td>11.111256</td>\n",
              "      <td>2.57</td>\n",
              "      <td>11.258333</td>\n",
              "      <td>10.658333</td>\n",
              "      <td>1013.350000</td>\n",
              "      <td>119.166667</td>\n",
              "      <td>7.016667</td>\n",
              "      <td>9.000000</td>\n",
              "      <td>0.225</td>\n",
              "      <td>2019</td>\n",
              "      <td>12</td>\n",
              "      <td>29</td>\n",
              "    </tr>\n",
              "    <tr>\n",
              "      <th>3612</th>\n",
              "      <td>-0.36</td>\n",
              "      <td>-2.26</td>\n",
              "      <td>8.769265</td>\n",
              "      <td>0.04</td>\n",
              "      <td>10.591667</td>\n",
              "      <td>9.441667</td>\n",
              "      <td>1001.750000</td>\n",
              "      <td>186.666667</td>\n",
              "      <td>5.916667</td>\n",
              "      <td>1.000000</td>\n",
              "      <td>0.050</td>\n",
              "      <td>2019</td>\n",
              "      <td>12</td>\n",
              "      <td>30</td>\n",
              "    </tr>\n",
              "  </tbody>\n",
              "</table>\n",
              "<p>3279 rows × 14 columns</p>\n",
              "</div>"
            ],
            "text/plain": [
              "       TMAX   TMIN       WMAX   RTOT  ...   pr1h  year  month  day\n",
              "0    -11.26 -16.46   7.323933   0.05  ...  0.000  2010      1    1\n",
              "1    -10.16 -15.96   4.687217   0.00  ...  0.000  2010      1    2\n",
              "2     -9.96 -14.36   5.941380   0.06  ...  0.000  2010      1    3\n",
              "3     -8.46 -12.86   5.685068   0.17  ...  0.000  2010      1    4\n",
              "4     -7.16 -11.06   3.794733   0.77  ...  0.000  2010      1    5\n",
              "...     ...    ...        ...    ...  ...    ...   ...    ...  ...\n",
              "3608  11.84   3.84   4.301163   0.00  ...  0.000  2019     12   26\n",
              "3609  13.94   3.54   8.819297   2.73  ...  0.000  2019     12   27\n",
              "3610  15.94   9.34   9.701546  11.58  ...  0.000  2019     12   28\n",
              "3611   7.24  -1.66  11.111256   2.57  ...  0.225  2019     12   29\n",
              "3612  -0.36  -2.26   8.769265   0.04  ...  0.050  2019     12   30\n",
              "\n",
              "[3279 rows x 14 columns]"
            ]
          },
          "metadata": {
            "tags": []
          },
          "execution_count": 14
        }
      ]
    },
    {
      "cell_type": "markdown",
      "metadata": {
        "id": "zCoG-DDwvZuo",
        "colab_type": "text"
      },
      "source": [
        "### Run the Linear Regression Model for TMAX"
      ]
    },
    {
      "cell_type": "code",
      "metadata": {
        "id": "kj9ygBTHncIf",
        "colab_type": "code",
        "colab": {}
      },
      "source": [
        "# Split the data into training and testing sets\n",
        "#train_features = np.array(new_features.query('year < 2019'))\n",
        "#test_features = np.array(new_features.query('year == 2019'))\n",
        "train_features = np.array(new_features.query('year < 2019')['TMAX'])\n",
        "test_features = np.array(new_features.query('year == 2019')['TMAX'])\n",
        "train_labels = np.array(features.query('year < 2019')['Max Hourly Temp (C)'])\n",
        "test_labels = np.array(features.query('year == 2019')['Max Hourly Temp (C)'])"
      ],
      "execution_count": 0,
      "outputs": []
    },
    {
      "cell_type": "code",
      "metadata": {
        "id": "v1Wp-iKVnkJ5",
        "colab_type": "code",
        "colab": {
          "base_uri": "https://localhost:8080/",
          "height": 35
        },
        "outputId": "0d740cb6-e9ad-4457-d566-ed78abb064e0"
      },
      "source": [
        "# Let's check how well the GFS forecast does. This will be our 'base prediction'\n",
        "print('Root Mean Square Error:', round(sqrt(mean_squared_error(test_labels, new_features.query('year == 2019')['TMAX'].values)), 2), 'degrees C.')"
      ],
      "execution_count": 67,
      "outputs": [
        {
          "output_type": "stream",
          "text": [
            "Root Mean Square Error: 4.42 degrees C.\n"
          ],
          "name": "stdout"
        }
      ]
    },
    {
      "cell_type": "code",
      "metadata": {
        "id": "WS2cqSU3ns44",
        "colab_type": "code",
        "colab": {
          "base_uri": "https://localhost:8080/",
          "height": 87
        },
        "outputId": "95a7c20f-289d-4492-9089-2c08c3ee56e0"
      },
      "source": [
        "print('Training Features Shape:', train_features.shape)\n",
        "print('Training Labels Shape:', train_labels.shape)\n",
        "print('Testing Features Shape:', test_features.shape)\n",
        "print('Testing Labels Shape:', test_labels.shape)"
      ],
      "execution_count": 68,
      "outputs": [
        {
          "output_type": "stream",
          "text": [
            "Training Features Shape: (2965,)\n",
            "Training Labels Shape: (2965,)\n",
            "Testing Features Shape: (314,)\n",
            "Testing Labels Shape: (314,)\n"
          ],
          "name": "stdout"
        }
      ]
    },
    {
      "cell_type": "code",
      "metadata": {
        "id": "RU4WfQOKnvrK",
        "colab_type": "code",
        "colab": {
          "base_uri": "https://localhost:8080/",
          "height": 35
        },
        "outputId": "1f8e52a3-f553-4c5a-fbb9-55ad68ee67c9"
      },
      "source": [
        "from sklearn.linear_model import LinearRegression\n",
        "lrmax = LinearRegression(fit_intercept=True)\n",
        "\n",
        "lrmax.fit(train_features[:, np.newaxis], train_labels)"
      ],
      "execution_count": 70,
      "outputs": [
        {
          "output_type": "execute_result",
          "data": {
            "text/plain": [
              "LinearRegression(copy_X=True, fit_intercept=True, n_jobs=None, normalize=False)"
            ]
          },
          "metadata": {
            "tags": []
          },
          "execution_count": 70
        }
      ]
    },
    {
      "cell_type": "code",
      "metadata": {
        "id": "GgrpeoaCoM9W",
        "colab_type": "code",
        "colab": {
          "base_uri": "https://localhost:8080/",
          "height": 35
        },
        "outputId": "fdd04118-2f08-4643-a915-3ccba4ed433c"
      },
      "source": [
        "predictions = lrmax.predict(test_features[:, np.newaxis])\n",
        "# Print out the root mean square error (rmse)\n",
        "print('Root Mean Square Error:', round(sqrt(mean_squared_error(test_labels, predictions)), 2), 'degrees C.')"
      ],
      "execution_count": 72,
      "outputs": [
        {
          "output_type": "stream",
          "text": [
            "Root Mean Square Error: 4.36 degrees C.\n"
          ],
          "name": "stdout"
        }
      ]
    },
    {
      "cell_type": "code",
      "metadata": {
        "id": "y-sapOFNpqBj",
        "colab_type": "code",
        "colab": {
          "base_uri": "https://localhost:8080/",
          "height": 52
        },
        "outputId": "95a80377-8d5d-4c2c-a626-7b258485a395"
      },
      "source": [
        "print(\"Model slope:    \", lrmax.coef_[0])\n",
        "print(\"Model intercept:\", lrmax.intercept_)"
      ],
      "execution_count": 73,
      "outputs": [
        {
          "output_type": "stream",
          "text": [
            "Model slope:     0.9904579777155287\n",
            "Model intercept: 1.6400241657102477\n"
          ],
          "name": "stdout"
        }
      ]
    },
    {
      "cell_type": "code",
      "metadata": {
        "id": "eEvC9xTctD2U",
        "colab_type": "code",
        "colab": {}
      },
      "source": [
        "#new_features_date['Date'].shape\n",
        "#test_labels.shape\n",
        "test_dates = np.array(new_features_date.query('year == 2019')['Date'])\n",
        "#test_dates"
      ],
      "execution_count": 0,
      "outputs": []
    },
    {
      "cell_type": "code",
      "metadata": {
        "id": "M0L4OOCIqM42",
        "colab_type": "code",
        "colab": {
          "base_uri": "https://localhost:8080/",
          "height": 285
        },
        "outputId": "72e56ea4-f28f-4be3-9b6c-13fe4248422c"
      },
      "source": [
        "plt.scatter(test_dates, test_labels, c='red')\n",
        "plt.plot(test_dates, predictions, c='blue')"
      ],
      "execution_count": 75,
      "outputs": [
        {
          "output_type": "execute_result",
          "data": {
            "text/plain": [
              "[<matplotlib.lines.Line2D at 0x7f5133520198>]"
            ]
          },
          "metadata": {
            "tags": []
          },
          "execution_count": 75
        },
        {
          "output_type": "display_data",
          "data": {
            "image/png": "[encoded data removed]",
            "text/plain": [
              "<Figure size 432x288 with 1 Axes>"
            ]
          },
          "metadata": {
            "tags": []
          }
        }
      ]
    },
    {
      "cell_type": "markdown",
      "metadata": {
        "id": "esYkj86cyGrq",
        "colab_type": "text"
      },
      "source": [
        "### Run the Linear Regression Model for TMIN"
      ]
    },
    {
      "cell_type": "code",
      "metadata": {
        "id": "_m8jxhtZr18I",
        "colab_type": "code",
        "colab": {}
      },
      "source": [
        "# Split the data into training and testing sets\n",
        "#train_features = np.array(new_features.query('year < 2019'))\n",
        "#test_features = np.array(new_features.query('year == 2019'))\n",
        "train_features = np.array(new_features.query('year < 2019')['TMIN'])\n",
        "test_features = np.array(new_features.query('year == 2019')['TMIN'])\n",
        "train_labels = np.array(features.query('year < 2019')['Min Hourly Temp (C)'])\n",
        "test_labels = np.array(features.query('year == 2019')['Min Hourly Temp (C)'])"
      ],
      "execution_count": 0,
      "outputs": []
    },
    {
      "cell_type": "code",
      "metadata": {
        "id": "Jh2v1BIbySmz",
        "colab_type": "code",
        "colab": {
          "base_uri": "https://localhost:8080/",
          "height": 35
        },
        "outputId": "44062c3c-8bb2-4171-ac2d-5731703d1eda"
      },
      "source": [
        "# Let's check how well the GFS forecast does. This will be our 'base prediction'\n",
        "print('Root Mean Square Error:', round(sqrt(mean_squared_error(test_labels, new_features.query('year == 2019')['TMIN'].values)), 2), 'degrees C.')"
      ],
      "execution_count": 77,
      "outputs": [
        {
          "output_type": "stream",
          "text": [
            "Root Mean Square Error: 4.3 degrees C.\n"
          ],
          "name": "stdout"
        }
      ]
    },
    {
      "cell_type": "code",
      "metadata": {
        "id": "r-rmlxgGyYQl",
        "colab_type": "code",
        "colab": {
          "base_uri": "https://localhost:8080/",
          "height": 35
        },
        "outputId": "a01c3089-0274-4c67-94ed-d6712e368ef5"
      },
      "source": [
        "from sklearn.linear_model import LinearRegression\n",
        "lrmax = LinearRegression(fit_intercept=True)\n",
        "\n",
        "lrmax.fit(train_features[:, np.newaxis], train_labels)"
      ],
      "execution_count": 78,
      "outputs": [
        {
          "output_type": "execute_result",
          "data": {
            "text/plain": [
              "LinearRegression(copy_X=True, fit_intercept=True, n_jobs=None, normalize=False)"
            ]
          },
          "metadata": {
            "tags": []
          },
          "execution_count": 78
        }
      ]
    },
    {
      "cell_type": "code",
      "metadata": {
        "id": "PJy4zTGPyg5b",
        "colab_type": "code",
        "colab": {
          "base_uri": "https://localhost:8080/",
          "height": 35
        },
        "outputId": "65df218d-4b21-4ace-8777-534b76bda477"
      },
      "source": [
        "predictions = lrmax.predict(test_features[:, np.newaxis])\n",
        "# Print out the root mean square error (rmse)\n",
        "print('Root Mean Square Error:', round(sqrt(mean_squared_error(test_labels, predictions)), 2), 'degrees C.')"
      ],
      "execution_count": 79,
      "outputs": [
        {
          "output_type": "stream",
          "text": [
            "Root Mean Square Error: 4.22 degrees C.\n"
          ],
          "name": "stdout"
        }
      ]
    },
    {
      "cell_type": "code",
      "metadata": {
        "id": "4tclbtP7ykSL",
        "colab_type": "code",
        "colab": {
          "base_uri": "https://localhost:8080/",
          "height": 52
        },
        "outputId": "94ade0b6-cacf-487a-f1d7-7e7d9a19ee81"
      },
      "source": [
        "print(\"Model slope:    \", lrmax.coef_[0])\n",
        "print(\"Model intercept:\", lrmax.intercept_)"
      ],
      "execution_count": 80,
      "outputs": [
        {
          "output_type": "stream",
          "text": [
            "Model slope:     1.003285425685588\n",
            "Model intercept: -0.6984030017556284\n"
          ],
          "name": "stdout"
        }
      ]
    },
    {
      "cell_type": "code",
      "metadata": {
        "id": "WvkmcaCaym_A",
        "colab_type": "code",
        "colab": {
          "base_uri": "https://localhost:8080/",
          "height": 285
        },
        "outputId": "8cc09d76-671d-4a8c-dd04-52e47a536326"
      },
      "source": [
        "plt.scatter(test_dates, test_labels, c='red')\n",
        "plt.plot(test_dates, predictions, c='blue')"
      ],
      "execution_count": 81,
      "outputs": [
        {
          "output_type": "execute_result",
          "data": {
            "text/plain": [
              "[<matplotlib.lines.Line2D at 0x7f51339b5518>]"
            ]
          },
          "metadata": {
            "tags": []
          },
          "execution_count": 81
        },
        {
          "output_type": "display_data",
          "data": {
            "image/png": "[encoded data removed]",
            "text/plain": [
              "<Figure size 432x288 with 1 Axes>"
            ]
          },
          "metadata": {
            "tags": []
          }
        }
      ]
    },
    {
      "cell_type": "markdown",
      "metadata": {
        "id": "mOBevbrEzCQy",
        "colab_type": "text"
      },
      "source": [
        "### Run the Linear Regression Model for Max Wind Speed"
      ]
    },
    {
      "cell_type": "code",
      "metadata": {
        "id": "ZVe79bXLysCZ",
        "colab_type": "code",
        "colab": {}
      },
      "source": [
        "# Split the data into training and testing sets\n",
        "#train_features = np.array(new_features.query('year < 2019'))\n",
        "#test_features = np.array(new_features.query('year == 2019'))\n",
        "train_features = np.array(new_features.query('year < 2019')['WMAX'])\n",
        "test_features = np.array(new_features.query('year == 2019')['WMAX'])\n",
        "train_labels = np.array(features.query('year < 2019')['Max Wind Speed (m/s)'])\n",
        "test_labels = np.array(features.query('year == 2019')['Max Wind Speed (m/s)'])"
      ],
      "execution_count": 0,
      "outputs": []
    },
    {
      "cell_type": "code",
      "metadata": {
        "id": "damb8DFrzkhs",
        "colab_type": "code",
        "colab": {
          "base_uri": "https://localhost:8080/",
          "height": 35
        },
        "outputId": "7af49306-bc08-41a0-98ab-1f1bca5333c9"
      },
      "source": [
        "# Let's check how well the GFS forecast does. This will be our 'base prediction'\n",
        "print('Root Mean Square Error:', round(sqrt(mean_squared_error(test_labels, new_features.query('year == 2019')['WMAX'].values)), 2), 'm/s.')"
      ],
      "execution_count": 83,
      "outputs": [
        {
          "output_type": "stream",
          "text": [
            "Root Mean Square Error: 3.28 m/s.\n"
          ],
          "name": "stdout"
        }
      ]
    },
    {
      "cell_type": "code",
      "metadata": {
        "id": "ZzagCUPPzoEx",
        "colab_type": "code",
        "colab": {
          "base_uri": "https://localhost:8080/",
          "height": 35
        },
        "outputId": "98787acf-b581-418e-8451-efcd1e815174"
      },
      "source": [
        "from sklearn.linear_model import LinearRegression\n",
        "lrmax = LinearRegression(fit_intercept=True)\n",
        "\n",
        "lrmax.fit(train_features[:, np.newaxis], train_labels)"
      ],
      "execution_count": 84,
      "outputs": [
        {
          "output_type": "execute_result",
          "data": {
            "text/plain": [
              "LinearRegression(copy_X=True, fit_intercept=True, n_jobs=None, normalize=False)"
            ]
          },
          "metadata": {
            "tags": []
          },
          "execution_count": 84
        }
      ]
    },
    {
      "cell_type": "code",
      "metadata": {
        "id": "DbXGVUfdzxkg",
        "colab_type": "code",
        "colab": {
          "base_uri": "https://localhost:8080/",
          "height": 35
        },
        "outputId": "8fd7d782-f6e0-4560-ba22-fae39d12ba67"
      },
      "source": [
        "predictions = lrmax.predict(test_features[:, np.newaxis])\n",
        "# Print out the root mean square error (rmse)\n",
        "print('Root Mean Square Error:', round(sqrt(mean_squared_error(test_labels, predictions)), 2), 'm/s.')"
      ],
      "execution_count": 86,
      "outputs": [
        {
          "output_type": "stream",
          "text": [
            "Root Mean Square Error: 2.74 m/s.\n"
          ],
          "name": "stdout"
        }
      ]
    },
    {
      "cell_type": "code",
      "metadata": {
        "id": "Mizm4Z0rz2vL",
        "colab_type": "code",
        "colab": {
          "base_uri": "https://localhost:8080/",
          "height": 52
        },
        "outputId": "6dd62989-66a6-4f09-f1d9-650103fe3d24"
      },
      "source": [
        "print(\"Model slope:    \", lrmax.coef_[0])\n",
        "print(\"Model intercept:\", lrmax.intercept_)"
      ],
      "execution_count": 87,
      "outputs": [
        {
          "output_type": "stream",
          "text": [
            "Model slope:     0.5473614844589794\n",
            "Model intercept: 4.470488864944006\n"
          ],
          "name": "stdout"
        }
      ]
    },
    {
      "cell_type": "code",
      "metadata": {
        "id": "1H_TCFe0z6EN",
        "colab_type": "code",
        "colab": {
          "base_uri": "https://localhost:8080/",
          "height": 285
        },
        "outputId": "ccd3d29a-b31e-4f22-fda3-a0f18c5b6871"
      },
      "source": [
        "plt.scatter(test_dates, test_labels, c='red')\n",
        "plt.plot(test_dates, predictions, c='blue')"
      ],
      "execution_count": 88,
      "outputs": [
        {
          "output_type": "execute_result",
          "data": {
            "text/plain": [
              "[<matplotlib.lines.Line2D at 0x7f5133a504a8>]"
            ]
          },
          "metadata": {
            "tags": []
          },
          "execution_count": 88
        },
        {
          "output_type": "display_data",
          "data": {
            "image/png": "[encoded data removed]",
            "text/plain": [
              "<Figure size 432x288 with 1 Axes>"
            ]
          },
          "metadata": {
            "tags": []
          }
        }
      ]
    },
    {
      "cell_type": "markdown",
      "metadata": {
        "id": "oGKRHPN-0GlF",
        "colab_type": "text"
      },
      "source": [
        "### Run the Linear Regression Model for Total Precipitation"
      ]
    },
    {
      "cell_type": "code",
      "metadata": {
        "id": "k6KojYM_z_KG",
        "colab_type": "code",
        "colab": {}
      },
      "source": [
        "# Split the data into training and testing sets\n",
        "#train_features = np.array(new_features.query('year < 2019'))\n",
        "#test_features = np.array(new_features.query('year == 2019'))\n",
        "train_features = np.array(new_features.query('year < 2019')['RTOT'])\n",
        "test_features = np.array(new_features.query('year == 2019')['RTOT'])\n",
        "train_labels = np.array(features.query('year < 2019')['Daily Precip (mm)'])\n",
        "test_labels = np.array(features.query('year == 2019')['Daily Precip (mm)'])"
      ],
      "execution_count": 0,
      "outputs": []
    },
    {
      "cell_type": "code",
      "metadata": {
        "id": "us244rCP0Y5U",
        "colab_type": "code",
        "colab": {
          "base_uri": "https://localhost:8080/",
          "height": 35
        },
        "outputId": "143d1bff-253e-4b9b-b69a-f316f081973f"
      },
      "source": [
        "# Let's check how well the GFS forecast does. This will be our 'base prediction'\n",
        "print('Root Mean Square Error:', round(sqrt(mean_squared_error(test_labels, new_features.query('year == 2019')['RTOT'].values)), 2), 'mm.')"
      ],
      "execution_count": 90,
      "outputs": [
        {
          "output_type": "stream",
          "text": [
            "Root Mean Square Error: 7.9 mm.\n"
          ],
          "name": "stdout"
        }
      ]
    },
    {
      "cell_type": "code",
      "metadata": {
        "id": "NHhmYvD50eec",
        "colab_type": "code",
        "colab": {
          "base_uri": "https://localhost:8080/",
          "height": 35
        },
        "outputId": "1c792d10-3c1a-49f8-c0f7-c4a3408d0365"
      },
      "source": [
        "from sklearn.linear_model import LinearRegression\n",
        "lrmax = LinearRegression(fit_intercept=True)\n",
        "\n",
        "lrmax.fit(train_features[:, np.newaxis], train_labels)"
      ],
      "execution_count": 91,
      "outputs": [
        {
          "output_type": "execute_result",
          "data": {
            "text/plain": [
              "LinearRegression(copy_X=True, fit_intercept=True, n_jobs=None, normalize=False)"
            ]
          },
          "metadata": {
            "tags": []
          },
          "execution_count": 91
        }
      ]
    },
    {
      "cell_type": "code",
      "metadata": {
        "id": "TnKO3-860hsU",
        "colab_type": "code",
        "colab": {
          "base_uri": "https://localhost:8080/",
          "height": 35
        },
        "outputId": "df755fb8-e3eb-46df-d7dc-f7a71a8af8b6"
      },
      "source": [
        "predictions = lrmax.predict(test_features[:, np.newaxis])\n",
        "# Print out the root mean square error (rmse)\n",
        "print('Root Mean Square Error:', round(sqrt(mean_squared_error(test_labels, predictions)), 2), 'mm.')"
      ],
      "execution_count": 92,
      "outputs": [
        {
          "output_type": "stream",
          "text": [
            "Root Mean Square Error: 4.93 mm.\n"
          ],
          "name": "stdout"
        }
      ]
    },
    {
      "cell_type": "code",
      "metadata": {
        "id": "bpmUo0Bt0jvs",
        "colab_type": "code",
        "colab": {
          "base_uri": "https://localhost:8080/",
          "height": 52
        },
        "outputId": "4db59f14-73cf-4c75-8ec2-194783ea07eb"
      },
      "source": [
        "print(\"Model slope:    \", lrmax.coef_[0])\n",
        "print(\"Model intercept:\", lrmax.intercept_)"
      ],
      "execution_count": 93,
      "outputs": [
        {
          "output_type": "stream",
          "text": [
            "Model slope:     0.10191262925131268\n",
            "Model intercept: 1.7487485544605212\n"
          ],
          "name": "stdout"
        }
      ]
    },
    {
      "cell_type": "code",
      "metadata": {
        "id": "Iu7GVwiS0nzK",
        "colab_type": "code",
        "colab": {
          "base_uri": "https://localhost:8080/",
          "height": 285
        },
        "outputId": "5fffc146-0e87-4995-869a-516e57d7462c"
      },
      "source": [
        "plt.scatter(test_dates, test_labels, c='red')\n",
        "plt.plot(test_dates, predictions, c='blue')"
      ],
      "execution_count": 94,
      "outputs": [
        {
          "output_type": "execute_result",
          "data": {
            "text/plain": [
              "[<matplotlib.lines.Line2D at 0x7f513a075f98>]"
            ]
          },
          "metadata": {
            "tags": []
          },
          "execution_count": 94
        },
        {
          "output_type": "display_data",
          "data": {
            "image/png": "[encoded data removed]",
            "text/plain": [
              "<Figure size 432x288 with 1 Axes>"
            ]
          },
          "metadata": {
            "tags": []
          }
        }
      ]
    },
    {
      "cell_type": "code",
      "metadata": {
        "id": "6MWTCPyu0qen",
        "colab_type": "code",
        "colab": {}
      },
      "source": [
        ""
      ],
      "execution_count": 0,
      "outputs": []
    }
  ]
}