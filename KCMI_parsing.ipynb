{
  "nbformat": 4,
  "nbformat_minor": 0,
  "metadata": {
    "colab": {
      "name": "Project4.ipynb",
      "provenance": [],
      "collapsed_sections": [],
      "include_colab_link": true
    },
    "kernelspec": {
      "display_name": "Python 3",
      "language": "python",
      "name": "python3"
    },
    "language_info": {
      "codemirror_mode": {
        "name": "ipython",
        "version": 3
      },
      "file_extension": ".py",
      "mimetype": "text/x-python",
      "name": "python",
      "nbconvert_exporter": "python",
      "pygments_lexer": "ipython3",
      "version": "3.7.6"
    }
  },
  "cells": [
    {
      "cell_type": "markdown",
      "metadata": {
        "id": "view-in-github",
        "colab_type": "text"
      },
      "source": [
        "<a href=\"https://colab.research.google.com/github/kevingray92/597_Project4_GroupB/blob/checkwithnewCMI_hourly_and_GFS_sfc/KCMI_parsing.ipynb\" target=\"_parent\"><img src=\"https://colab.research.google.com/assets/colab-badge.svg\" alt=\"Open In Colab\"/></a>"
      ]
    },
    {
      "cell_type": "code",
      "metadata": {
        "colab_type": "code",
        "id": "SIDqFJflWspn",
        "colab": {}
      },
      "source": [
        "import numpy as np\n",
        "import pandas as pd\n",
        "import os\n",
        "# import tarfile"
      ],
      "execution_count": 0,
      "outputs": []
    },
    {
      "cell_type": "markdown",
      "metadata": {
        "id": "2853zUfcuolj",
        "colab_type": "text"
      },
      "source": [
        "### Adding hourly KCMI precip to the daily data"
      ]
    },
    {
      "cell_type": "code",
      "metadata": {
        "id": "n5jZJheSuw27",
        "colab_type": "code",
        "colab": {
          "base_uri": "https://localhost:8080/",
          "height": 124
        },
        "outputId": "fe91628b-c154-49ab-e868-6451a26999f2"
      },
      "source": [
        "from google.colab import drive\n",
        "drive.mount('/content/drive')"
      ],
      "execution_count": 2,
      "outputs": [
        {
          "output_type": "stream",
          "text": [
            "Go to this URL in a browser: https://accounts.google.com/o/oauth2/auth?client_id=947318989803-6bn6qk8qdgf4n4g3pfee6491hc0brc4i.apps.googleusercontent.com&redirect_uri=urn%3aietf%3awg%3aoauth%3a2.0%3aoob&response_type=code&scope=email%20https%3a%2f%2fwww.googleapis.com%2fauth%2fdocs.test%20https%3a%2f%2fwww.googleapis.com%2fauth%2fdrive%20https%3a%2f%2fwww.googleapis.com%2fauth%2fdrive.photos.readonly%20https%3a%2f%2fwww.googleapis.com%2fauth%2fpeopleapi.readonly\n",
            "\n",
            "Enter your authorization code:\n",
            "··········\n",
            "Mounted at /content/drive\n"
          ],
          "name": "stdout"
        }
      ]
    },
    {
      "cell_type": "code",
      "metadata": {
        "colab_type": "code",
        "id": "5JDyuqpqW4z9",
        "colab": {
          "base_uri": "https://localhost:8080/",
          "height": 208
        },
        "outputId": "3cf0e98d-ebc7-4ca2-8906-c2eef42d1168"
      },
      "source": [
        "#Download the data\n",
        "!wget https://raw.githubusercontent.com/swnesbitt/ATMS-597-SP-2020/master/ATMS-597-SP-2020-Project-4/KCMI_hourly.csv"
      ],
      "execution_count": 3,
      "outputs": [
        {
          "output_type": "stream",
          "text": [
            "--2020-03-30 18:44:48--  https://raw.githubusercontent.com/swnesbitt/ATMS-597-SP-2020/master/ATMS-597-SP-2020-Project-4/KCMI_hourly.csv\n",
            "Resolving raw.githubusercontent.com (raw.githubusercontent.com)... 151.101.0.133, 151.101.64.133, 151.101.128.133, ...\n",
            "Connecting to raw.githubusercontent.com (raw.githubusercontent.com)|151.101.0.133|:443... connected.\n",
            "HTTP request sent, awaiting response... 200 OK\n",
            "Length: 7611908 (7.3M) [text/plain]\n",
            "Saving to: ‘KCMI_hourly.csv’\n",
            "\n",
            "KCMI_hourly.csv     100%[===================>]   7.26M  --.-KB/s    in 0.1s    \n",
            "\n",
            "2020-03-30 18:44:49 (58.6 MB/s) - ‘KCMI_hourly.csv’ saved [7611908/7611908]\n",
            "\n"
          ],
          "name": "stdout"
        }
      ]
    },
    {
      "cell_type": "code",
      "metadata": {
        "colab_type": "code",
        "id": "Mo-4HVm-cXwv",
        "colab": {}
      },
      "source": [
        "#Used to unzip the .tar.gz files\n",
        "!gunzip drive/My\\ Drive/Colab\\ Notebooks/ATMS-597/Module04/Project04/sfc.tar.gz"
      ],
      "execution_count": 0,
      "outputs": []
    },
    {
      "cell_type": "code",
      "metadata": {
        "colab_type": "code",
        "id": "-BvTAxfLeY4Y",
        "colab": {}
      },
      "source": [
        "#Use this to untar the .tar files\n",
        "#Looks like it will send all of these to a new remote directory called 'bufkit'\n",
        "#Might want to specify a destination folder in the future\n",
        "!tar -xvf drive/My\\ Drive/Colab\\ Notebooks/ATMS-597/Module04/Project04/sfc.tar"
      ],
      "execution_count": 0,
      "outputs": []
    },
    {
      "cell_type": "code",
      "metadata": {
        "colab_type": "code",
        "id": "dvpoaLyuexXI",
        "outputId": "bb5e6479-c22f-4177-8b9b-c3c664126eed",
        "colab": {
          "base_uri": "https://localhost:8080/",
          "height": 415
        }
      },
      "source": [
        " dailyobs = pd.read_csv('drive/My Drive/KCMI_dailyNOFOOTER.csv', header=8)  # Read the daily obs (removed the footer in the original file)\n",
        "#dailyobs = pd.read_csv('./raw_data/KCMI_dailyNOFOOTER.csv', header=8)  # (David) Read the daily obs (removed the footer in the original file)\n",
        "dailyobs.drop(['Total Precip (in)'],axis=1)  # Drop the daily precip column that we are going to replace\n",
        "dailyobs"
      ],
      "execution_count": 4,
      "outputs": [
        {
          "output_type": "execute_result",
          "data": {
            "text/html": [
              "<div>\n",
              "<style scoped>\n",
              "    .dataframe tbody tr th:only-of-type {\n",
              "        vertical-align: middle;\n",
              "    }\n",
              "\n",
              "    .dataframe tbody tr th {\n",
              "        vertical-align: top;\n",
              "    }\n",
              "\n",
              "    .dataframe thead th {\n",
              "        text-align: right;\n",
              "    }\n",
              "</style>\n",
              "<table border=\"1\" class=\"dataframe\">\n",
              "  <thead>\n",
              "    <tr style=\"text-align: right;\">\n",
              "      <th></th>\n",
              "      <th>Date</th>\n",
              "      <th>Max Hourly Temp (F)</th>\n",
              "      <th>Min Hourly Temp (F)</th>\n",
              "      <th>Max Wind Speed (mph)</th>\n",
              "      <th>Total Precip (in)</th>\n",
              "    </tr>\n",
              "  </thead>\n",
              "  <tbody>\n",
              "    <tr>\n",
              "      <th>0</th>\n",
              "      <td>1/1/2010</td>\n",
              "      <td>12</td>\n",
              "      <td>2</td>\n",
              "      <td>15</td>\n",
              "      <td>M</td>\n",
              "    </tr>\n",
              "    <tr>\n",
              "      <th>1</th>\n",
              "      <td>1/2/2010</td>\n",
              "      <td>6</td>\n",
              "      <td>-5</td>\n",
              "      <td>15</td>\n",
              "      <td>0</td>\n",
              "    </tr>\n",
              "    <tr>\n",
              "      <th>2</th>\n",
              "      <td>1/3/2010</td>\n",
              "      <td>10</td>\n",
              "      <td>-6</td>\n",
              "      <td>11</td>\n",
              "      <td>0</td>\n",
              "    </tr>\n",
              "    <tr>\n",
              "      <th>3</th>\n",
              "      <td>1/4/2010</td>\n",
              "      <td>11</td>\n",
              "      <td>-2</td>\n",
              "      <td>20</td>\n",
              "      <td>0</td>\n",
              "    </tr>\n",
              "    <tr>\n",
              "      <th>4</th>\n",
              "      <td>1/5/2010</td>\n",
              "      <td>10</td>\n",
              "      <td>-1</td>\n",
              "      <td>16</td>\n",
              "      <td>M</td>\n",
              "    </tr>\n",
              "    <tr>\n",
              "      <th>...</th>\n",
              "      <td>...</td>\n",
              "      <td>...</td>\n",
              "      <td>...</td>\n",
              "      <td>...</td>\n",
              "      <td>...</td>\n",
              "    </tr>\n",
              "    <tr>\n",
              "      <th>3647</th>\n",
              "      <td>12/27/2019</td>\n",
              "      <td>43</td>\n",
              "      <td>32</td>\n",
              "      <td>15</td>\n",
              "      <td>0</td>\n",
              "    </tr>\n",
              "    <tr>\n",
              "      <th>3648</th>\n",
              "      <td>12/28/2019</td>\n",
              "      <td>56</td>\n",
              "      <td>32</td>\n",
              "      <td>23</td>\n",
              "      <td>0.23</td>\n",
              "    </tr>\n",
              "    <tr>\n",
              "      <th>3649</th>\n",
              "      <td>12/29/2019</td>\n",
              "      <td>59</td>\n",
              "      <td>41</td>\n",
              "      <td>23</td>\n",
              "      <td>0.22</td>\n",
              "    </tr>\n",
              "    <tr>\n",
              "      <th>3650</th>\n",
              "      <td>12/30/2019</td>\n",
              "      <td>38</td>\n",
              "      <td>31</td>\n",
              "      <td>26</td>\n",
              "      <td>0.01</td>\n",
              "    </tr>\n",
              "    <tr>\n",
              "      <th>3651</th>\n",
              "      <td>12/31/2019</td>\n",
              "      <td>33</td>\n",
              "      <td>30</td>\n",
              "      <td>29</td>\n",
              "      <td>0</td>\n",
              "    </tr>\n",
              "  </tbody>\n",
              "</table>\n",
              "<p>3652 rows × 5 columns</p>\n",
              "</div>"
            ],
            "text/plain": [
              "            Date Max Hourly Temp (F)  ... Max Wind Speed (mph) Total Precip (in)\n",
              "0       1/1/2010                  12  ...                   15                 M\n",
              "1       1/2/2010                   6  ...                   15                 0\n",
              "2       1/3/2010                  10  ...                   11                 0\n",
              "3       1/4/2010                  11  ...                   20                 0\n",
              "4       1/5/2010                  10  ...                   16                 M\n",
              "...          ...                 ...  ...                  ...               ...\n",
              "3647  12/27/2019                  43  ...                   15                 0\n",
              "3648  12/28/2019                  56  ...                   23              0.23\n",
              "3649  12/29/2019                  59  ...                   23              0.22\n",
              "3650  12/30/2019                  38  ...                   26              0.01\n",
              "3651  12/31/2019                  33  ...                   29                 0\n",
              "\n",
              "[3652 rows x 5 columns]"
            ]
          },
          "metadata": {
            "tags": []
          },
          "execution_count": 4
        }
      ]
    },
    {
      "cell_type": "code",
      "metadata": {
        "colab_type": "code",
        "id": "HUvMrDdSin7E",
        "colab": {}
      },
      "source": [
        " hourlyobs = pd.read_csv('drive/My Drive/KCMI_hourly.csv')  # Read the hourly file\n",
        "#hourlyobs = pd.read_csv('./raw_data//KCMI_hourly.csv')  # (David) Read the hourly file\n",
        "hourlyprecip = hourlyobs.drop(['tmpc','dwpc','mslp','wdir','wspd','skct','pr6h','doy','woy'],axis=1)  # Only keep precip column\n",
        "hourlyprecip.set_index('Timestamp')  # Make the index be the timestamp\n",
        "hourlyprecip.index = pd.to_datetime(hourlyprecip['Timestamp'])  # Make the index be a datetime\n",
        "dailyprecip = hourlyprecip.resample('d').sum()  # Resample to daily\n",
        "dailyprecip.columns = ['Daily Precip (mm)']  # Rename the column"
      ],
      "execution_count": 0,
      "outputs": []
    },
    {
      "cell_type": "code",
      "metadata": {
        "id": "Kq3BFg1PuomG",
        "colab_type": "code",
        "colab": {
          "base_uri": "https://localhost:8080/",
          "height": 233
        },
        "outputId": "fd20bd74-90e6-4af5-b326-7954340148f9"
      },
      "source": [
        "dailyprecip.head()"
      ],
      "execution_count": 7,
      "outputs": [
        {
          "output_type": "execute_result",
          "data": {
            "text/html": [
              "<div>\n",
              "<style scoped>\n",
              "    .dataframe tbody tr th:only-of-type {\n",
              "        vertical-align: middle;\n",
              "    }\n",
              "\n",
              "    .dataframe tbody tr th {\n",
              "        vertical-align: top;\n",
              "    }\n",
              "\n",
              "    .dataframe thead th {\n",
              "        text-align: right;\n",
              "    }\n",
              "</style>\n",
              "<table border=\"1\" class=\"dataframe\">\n",
              "  <thead>\n",
              "    <tr style=\"text-align: right;\">\n",
              "      <th></th>\n",
              "      <th>Daily Precip (mm)</th>\n",
              "    </tr>\n",
              "    <tr>\n",
              "      <th>Timestamp</th>\n",
              "      <th></th>\n",
              "    </tr>\n",
              "  </thead>\n",
              "  <tbody>\n",
              "    <tr>\n",
              "      <th>2006-01-01</th>\n",
              "      <td>0.0</td>\n",
              "    </tr>\n",
              "    <tr>\n",
              "      <th>2006-01-02</th>\n",
              "      <td>2.3</td>\n",
              "    </tr>\n",
              "    <tr>\n",
              "      <th>2006-01-03</th>\n",
              "      <td>-0.1</td>\n",
              "    </tr>\n",
              "    <tr>\n",
              "      <th>2006-01-04</th>\n",
              "      <td>0.3</td>\n",
              "    </tr>\n",
              "    <tr>\n",
              "      <th>2006-01-05</th>\n",
              "      <td>0.0</td>\n",
              "    </tr>\n",
              "  </tbody>\n",
              "</table>\n",
              "</div>"
            ],
            "text/plain": [
              "            Daily Precip (mm)\n",
              "Timestamp                    \n",
              "2006-01-01                0.0\n",
              "2006-01-02                2.3\n",
              "2006-01-03               -0.1\n",
              "2006-01-04                0.3\n",
              "2006-01-05                0.0"
            ]
          },
          "metadata": {
            "tags": []
          },
          "execution_count": 7
        }
      ]
    },
    {
      "cell_type": "code",
      "metadata": {
        "colab_type": "code",
        "id": "zfma-0CPu6xh",
        "outputId": "21f288c5-d0b5-4d2f-8eb3-22d2a9489322",
        "colab": {
          "base_uri": "https://localhost:8080/",
          "height": 415
        }
      },
      "source": [
        "dailyprecipshort = dailyprecip[(dailyprecip.index>'2009-12-31') & (dailyprecip.index<'2020-01-01')]  # Only get 2010 to 2019\n",
        "dailyobs['Daily Precip (mm)'] = dailyprecipshort['Daily Precip (mm)'].values  # Put the new calculated daily precip in the dailyobs dataframe\n",
        "dailyobs  # This should be the final dataframe used as the predictands"
      ],
      "execution_count": 8,
      "outputs": [
        {
          "output_type": "execute_result",
          "data": {
            "text/html": [
              "<div>\n",
              "<style scoped>\n",
              "    .dataframe tbody tr th:only-of-type {\n",
              "        vertical-align: middle;\n",
              "    }\n",
              "\n",
              "    .dataframe tbody tr th {\n",
              "        vertical-align: top;\n",
              "    }\n",
              "\n",
              "    .dataframe thead th {\n",
              "        text-align: right;\n",
              "    }\n",
              "</style>\n",
              "<table border=\"1\" class=\"dataframe\">\n",
              "  <thead>\n",
              "    <tr style=\"text-align: right;\">\n",
              "      <th></th>\n",
              "      <th>Date</th>\n",
              "      <th>Max Hourly Temp (F)</th>\n",
              "      <th>Min Hourly Temp (F)</th>\n",
              "      <th>Max Wind Speed (mph)</th>\n",
              "      <th>Total Precip (in)</th>\n",
              "      <th>Daily Precip (mm)</th>\n",
              "    </tr>\n",
              "  </thead>\n",
              "  <tbody>\n",
              "    <tr>\n",
              "      <th>0</th>\n",
              "      <td>1/1/2010</td>\n",
              "      <td>12</td>\n",
              "      <td>2</td>\n",
              "      <td>15</td>\n",
              "      <td>M</td>\n",
              "      <td>0.0</td>\n",
              "    </tr>\n",
              "    <tr>\n",
              "      <th>1</th>\n",
              "      <td>1/2/2010</td>\n",
              "      <td>6</td>\n",
              "      <td>-5</td>\n",
              "      <td>15</td>\n",
              "      <td>0</td>\n",
              "      <td>0.0</td>\n",
              "    </tr>\n",
              "    <tr>\n",
              "      <th>2</th>\n",
              "      <td>1/3/2010</td>\n",
              "      <td>10</td>\n",
              "      <td>-6</td>\n",
              "      <td>11</td>\n",
              "      <td>0</td>\n",
              "      <td>0.0</td>\n",
              "    </tr>\n",
              "    <tr>\n",
              "      <th>3</th>\n",
              "      <td>1/4/2010</td>\n",
              "      <td>11</td>\n",
              "      <td>-2</td>\n",
              "      <td>20</td>\n",
              "      <td>0</td>\n",
              "      <td>0.0</td>\n",
              "    </tr>\n",
              "    <tr>\n",
              "      <th>4</th>\n",
              "      <td>1/5/2010</td>\n",
              "      <td>10</td>\n",
              "      <td>-1</td>\n",
              "      <td>16</td>\n",
              "      <td>M</td>\n",
              "      <td>-0.1</td>\n",
              "    </tr>\n",
              "    <tr>\n",
              "      <th>...</th>\n",
              "      <td>...</td>\n",
              "      <td>...</td>\n",
              "      <td>...</td>\n",
              "      <td>...</td>\n",
              "      <td>...</td>\n",
              "      <td>...</td>\n",
              "    </tr>\n",
              "    <tr>\n",
              "      <th>3647</th>\n",
              "      <td>12/27/2019</td>\n",
              "      <td>43</td>\n",
              "      <td>32</td>\n",
              "      <td>15</td>\n",
              "      <td>0</td>\n",
              "      <td>0.0</td>\n",
              "    </tr>\n",
              "    <tr>\n",
              "      <th>3648</th>\n",
              "      <td>12/28/2019</td>\n",
              "      <td>56</td>\n",
              "      <td>32</td>\n",
              "      <td>23</td>\n",
              "      <td>0.23</td>\n",
              "      <td>0.0</td>\n",
              "    </tr>\n",
              "    <tr>\n",
              "      <th>3649</th>\n",
              "      <td>12/29/2019</td>\n",
              "      <td>59</td>\n",
              "      <td>41</td>\n",
              "      <td>23</td>\n",
              "      <td>0.22</td>\n",
              "      <td>6.1</td>\n",
              "    </tr>\n",
              "    <tr>\n",
              "      <th>3650</th>\n",
              "      <td>12/30/2019</td>\n",
              "      <td>38</td>\n",
              "      <td>31</td>\n",
              "      <td>26</td>\n",
              "      <td>0.01</td>\n",
              "      <td>1.0</td>\n",
              "    </tr>\n",
              "    <tr>\n",
              "      <th>3651</th>\n",
              "      <td>12/31/2019</td>\n",
              "      <td>33</td>\n",
              "      <td>30</td>\n",
              "      <td>29</td>\n",
              "      <td>0</td>\n",
              "      <td>0.0</td>\n",
              "    </tr>\n",
              "  </tbody>\n",
              "</table>\n",
              "<p>3652 rows × 6 columns</p>\n",
              "</div>"
            ],
            "text/plain": [
              "            Date Max Hourly Temp (F)  ... Total Precip (in) Daily Precip (mm)\n",
              "0       1/1/2010                  12  ...                 M               0.0\n",
              "1       1/2/2010                   6  ...                 0               0.0\n",
              "2       1/3/2010                  10  ...                 0               0.0\n",
              "3       1/4/2010                  11  ...                 0               0.0\n",
              "4       1/5/2010                  10  ...                 M              -0.1\n",
              "...          ...                 ...  ...               ...               ...\n",
              "3647  12/27/2019                  43  ...                 0               0.0\n",
              "3648  12/28/2019                  56  ...              0.23               0.0\n",
              "3649  12/29/2019                  59  ...              0.22               6.1\n",
              "3650  12/30/2019                  38  ...              0.01               1.0\n",
              "3651  12/31/2019                  33  ...                 0               0.0\n",
              "\n",
              "[3652 rows x 6 columns]"
            ]
          },
          "metadata": {
            "tags": []
          },
          "execution_count": 8
        }
      ]
    },
    {
      "cell_type": "code",
      "metadata": {
        "id": "IYVOiVmjuomV",
        "colab_type": "code",
        "colab": {}
      },
      "source": [
        "dailyobs = dailyobs.drop(columns = ['Total Precip (in)']).replace('M', np.nan)"
      ],
      "execution_count": 0,
      "outputs": []
    },
    {
      "cell_type": "code",
      "metadata": {
        "id": "ACDSqu7luomZ",
        "colab_type": "code",
        "colab": {}
      },
      "source": [
        "dailyobs = dailyobs.interpolate()"
      ],
      "execution_count": 0,
      "outputs": []
    },
    {
      "cell_type": "code",
      "metadata": {
        "colab_type": "code",
        "id": "n15px0gkw5_N",
        "colab": {}
      },
      "source": [
        "# Convert to deg C, m/s, and set negative precip values to zero\n",
        "dailyobs['Max Hourly Temp (F)'] = (dailyobs['Max Hourly Temp (F)'].astype(float) - 32.) * 5./9.\n",
        "dailyobs['Min Hourly Temp (F)'] = (dailyobs['Min Hourly Temp (F)'].astype(float) - 32.) * 5./9.\n",
        "dailyobs['Max Wind Speed (mph)'] = dailyobs['Max Wind Speed (mph)'].astype(float) * 0.44704\n",
        "dailyobs['Daily Precip (mm)'] = dailyobs['Daily Precip (mm)'].astype(float).apply(lambda x: 0.0 if x < 0.0 else x)"
      ],
      "execution_count": 0,
      "outputs": []
    },
    {
      "cell_type": "code",
      "metadata": {
        "id": "e95NgdlJuomh",
        "colab_type": "code",
        "colab": {}
      },
      "source": [
        "# Rename columns\n",
        "dailyobs.rename(columns = {'Max Hourly Temp (F)' : 'Max Hourly Temp (C)', 'Min Hourly Temp (F)' : 'Min Hourly Temp (C)', 'Max Wind Speed (mph)' : 'Max Wind Speed (m/s)'}, inplace = True)"
      ],
      "execution_count": 0,
      "outputs": []
    },
    {
      "cell_type": "code",
      "metadata": {
        "id": "aEFGBofauoml",
        "colab_type": "code",
        "colab": {
          "base_uri": "https://localhost:8080/",
          "height": 415
        },
        "outputId": "aee3323b-b577-419d-9354-bc13ca5afc1f"
      },
      "source": [
        "dailyobs"
      ],
      "execution_count": 13,
      "outputs": [
        {
          "output_type": "execute_result",
          "data": {
            "text/html": [
              "<div>\n",
              "<style scoped>\n",
              "    .dataframe tbody tr th:only-of-type {\n",
              "        vertical-align: middle;\n",
              "    }\n",
              "\n",
              "    .dataframe tbody tr th {\n",
              "        vertical-align: top;\n",
              "    }\n",
              "\n",
              "    .dataframe thead th {\n",
              "        text-align: right;\n",
              "    }\n",
              "</style>\n",
              "<table border=\"1\" class=\"dataframe\">\n",
              "  <thead>\n",
              "    <tr style=\"text-align: right;\">\n",
              "      <th></th>\n",
              "      <th>Date</th>\n",
              "      <th>Max Hourly Temp (C)</th>\n",
              "      <th>Min Hourly Temp (C)</th>\n",
              "      <th>Max Wind Speed (m/s)</th>\n",
              "      <th>Daily Precip (mm)</th>\n",
              "    </tr>\n",
              "  </thead>\n",
              "  <tbody>\n",
              "    <tr>\n",
              "      <th>0</th>\n",
              "      <td>1/1/2010</td>\n",
              "      <td>-11.111111</td>\n",
              "      <td>-16.666667</td>\n",
              "      <td>6.70560</td>\n",
              "      <td>0.0</td>\n",
              "    </tr>\n",
              "    <tr>\n",
              "      <th>1</th>\n",
              "      <td>1/2/2010</td>\n",
              "      <td>-14.444444</td>\n",
              "      <td>-20.555556</td>\n",
              "      <td>6.70560</td>\n",
              "      <td>0.0</td>\n",
              "    </tr>\n",
              "    <tr>\n",
              "      <th>2</th>\n",
              "      <td>1/3/2010</td>\n",
              "      <td>-12.222222</td>\n",
              "      <td>-21.111111</td>\n",
              "      <td>4.91744</td>\n",
              "      <td>0.0</td>\n",
              "    </tr>\n",
              "    <tr>\n",
              "      <th>3</th>\n",
              "      <td>1/4/2010</td>\n",
              "      <td>-11.666667</td>\n",
              "      <td>-18.888889</td>\n",
              "      <td>8.94080</td>\n",
              "      <td>0.0</td>\n",
              "    </tr>\n",
              "    <tr>\n",
              "      <th>4</th>\n",
              "      <td>1/5/2010</td>\n",
              "      <td>-12.222222</td>\n",
              "      <td>-18.333333</td>\n",
              "      <td>7.15264</td>\n",
              "      <td>0.0</td>\n",
              "    </tr>\n",
              "    <tr>\n",
              "      <th>...</th>\n",
              "      <td>...</td>\n",
              "      <td>...</td>\n",
              "      <td>...</td>\n",
              "      <td>...</td>\n",
              "      <td>...</td>\n",
              "    </tr>\n",
              "    <tr>\n",
              "      <th>3647</th>\n",
              "      <td>12/27/2019</td>\n",
              "      <td>6.111111</td>\n",
              "      <td>0.000000</td>\n",
              "      <td>6.70560</td>\n",
              "      <td>0.0</td>\n",
              "    </tr>\n",
              "    <tr>\n",
              "      <th>3648</th>\n",
              "      <td>12/28/2019</td>\n",
              "      <td>13.333333</td>\n",
              "      <td>0.000000</td>\n",
              "      <td>10.28192</td>\n",
              "      <td>0.0</td>\n",
              "    </tr>\n",
              "    <tr>\n",
              "      <th>3649</th>\n",
              "      <td>12/29/2019</td>\n",
              "      <td>15.000000</td>\n",
              "      <td>5.000000</td>\n",
              "      <td>10.28192</td>\n",
              "      <td>6.1</td>\n",
              "    </tr>\n",
              "    <tr>\n",
              "      <th>3650</th>\n",
              "      <td>12/30/2019</td>\n",
              "      <td>3.333333</td>\n",
              "      <td>-0.555556</td>\n",
              "      <td>11.62304</td>\n",
              "      <td>1.0</td>\n",
              "    </tr>\n",
              "    <tr>\n",
              "      <th>3651</th>\n",
              "      <td>12/31/2019</td>\n",
              "      <td>0.555556</td>\n",
              "      <td>-1.111111</td>\n",
              "      <td>12.96416</td>\n",
              "      <td>0.0</td>\n",
              "    </tr>\n",
              "  </tbody>\n",
              "</table>\n",
              "<p>3652 rows × 5 columns</p>\n",
              "</div>"
            ],
            "text/plain": [
              "            Date  Max Hourly Temp (C)  ...  Max Wind Speed (m/s)  Daily Precip (mm)\n",
              "0       1/1/2010           -11.111111  ...               6.70560                0.0\n",
              "1       1/2/2010           -14.444444  ...               6.70560                0.0\n",
              "2       1/3/2010           -12.222222  ...               4.91744                0.0\n",
              "3       1/4/2010           -11.666667  ...               8.94080                0.0\n",
              "4       1/5/2010           -12.222222  ...               7.15264                0.0\n",
              "...          ...                  ...  ...                   ...                ...\n",
              "3647  12/27/2019             6.111111  ...               6.70560                0.0\n",
              "3648  12/28/2019            13.333333  ...              10.28192                0.0\n",
              "3649  12/29/2019            15.000000  ...              10.28192                6.1\n",
              "3650  12/30/2019             3.333333  ...              11.62304                1.0\n",
              "3651  12/31/2019             0.555556  ...              12.96416                0.0\n",
              "\n",
              "[3652 rows x 5 columns]"
            ]
          },
          "metadata": {
            "tags": []
          },
          "execution_count": 13
        }
      ]
    },
    {
      "cell_type": "code",
      "metadata": {
        "id": "bzOql6qvuomp",
        "colab_type": "code",
        "colab": {}
      },
      "source": [
        "# Save to csv\n",
        "#dailyobs.to_csv('./raw_data/KCMI_daily_tidy.csv', index = False)\n",
        "dailyobs.to_csv('drive/My Drive/KCMI_daily_tidy.csv', index = False)"
      ],
      "execution_count": 0,
      "outputs": []
    },
    {
      "cell_type": "markdown",
      "metadata": {
        "id": "4NwwzA5xuomt",
        "colab_type": "text"
      },
      "source": [
        "### Parsing the hourly data"
      ]
    },
    {
      "cell_type": "code",
      "metadata": {
        "id": "EX0wPax-uomu",
        "colab_type": "code",
        "colab": {}
      },
      "source": [
        "# Hourly data\n",
        " hourlyobs = pd.read_csv('drive/My Drive/KCMI_hourly.csv')  # Read the hourly file\n",
        "#hourlyobs = pd.read_csv('./raw_data//KCMI_hourly.csv')  # (David) Read the hourly file"
      ],
      "execution_count": 0,
      "outputs": []
    },
    {
      "cell_type": "code",
      "metadata": {
        "id": "HSRBavWnuom2",
        "colab_type": "code",
        "colab": {}
      },
      "source": [
        "hourlyobs['Timestamp'] = pd.to_datetime(hourlyobs['Timestamp'])\n",
        "hourlyobs.set_index('Timestamp', inplace = True)"
      ],
      "execution_count": 0,
      "outputs": []
    },
    {
      "cell_type": "code",
      "metadata": {
        "id": "RZHjkzTl00Po",
        "colab_type": "code",
        "colab": {}
      },
      "source": [
        "hourlyobs = hourlyobs[(hourlyobs.index.hour >= 12) & (hourlyobs.index.hour <= 23)]"
      ],
      "execution_count": 0,
      "outputs": []
    },
    {
      "cell_type": "code",
      "metadata": {
        "id": "t5o7qA-Puom7",
        "colab_type": "code",
        "colab": {}
      },
      "source": [
        "hourlyobs = hourlyobs.resample('D').mean()"
      ],
      "execution_count": 0,
      "outputs": []
    },
    {
      "cell_type": "code",
      "metadata": {
        "id": "tlDlGnpSuonB",
        "colab_type": "code",
        "colab": {}
      },
      "source": [
        "hourlyobs.index = hourlyobs.index + pd.DateOffset(days = 1)"
      ],
      "execution_count": 0,
      "outputs": []
    },
    {
      "cell_type": "code",
      "metadata": {
        "id": "jJ_2Z5nJuonE",
        "colab_type": "code",
        "colab": {}
      },
      "source": [
        "hourlyobs = hourlyobs[(hourlyobs.index > '2009-12-31') & (hourlyobs.index < '2020-01-01')]"
      ],
      "execution_count": 0,
      "outputs": []
    },
    {
      "cell_type": "code",
      "metadata": {
        "id": "l5W23t8muonH",
        "colab_type": "code",
        "colab": {}
      },
      "source": [
        "hourlyobs = hourlyobs.drop(columns = ['pr6h', 'doy', 'woy'])"
      ],
      "execution_count": 0,
      "outputs": []
    },
    {
      "cell_type": "code",
      "metadata": {
        "id": "dHnggp-kuonK",
        "colab_type": "code",
        "colab": {}
      },
      "source": [
        "hourlyobs.to_csv('drive/My Drive/KCMI_hourly_tidy.csv')\n",
        "# hourlyobs.to_csv('./raw_data/KCMI_hourly_tidy.csv')"
      ],
      "execution_count": 0,
      "outputs": []
    },
    {
      "cell_type": "code",
      "metadata": {
        "id": "3eQADxujuonO",
        "colab_type": "code",
        "colab": {
          "base_uri": "https://localhost:8080/",
          "height": 446
        },
        "outputId": "e175432a-d001-4660-d343-9c1ef9280f41"
      },
      "source": [
        "hourlyobs"
      ],
      "execution_count": 56,
      "outputs": [
        {
          "output_type": "execute_result",
          "data": {
            "text/html": [
              "<div>\n",
              "<style scoped>\n",
              "    .dataframe tbody tr th:only-of-type {\n",
              "        vertical-align: middle;\n",
              "    }\n",
              "\n",
              "    .dataframe tbody tr th {\n",
              "        vertical-align: top;\n",
              "    }\n",
              "\n",
              "    .dataframe thead th {\n",
              "        text-align: right;\n",
              "    }\n",
              "</style>\n",
              "<table border=\"1\" class=\"dataframe\">\n",
              "  <thead>\n",
              "    <tr style=\"text-align: right;\">\n",
              "      <th></th>\n",
              "      <th>tmpc</th>\n",
              "      <th>dwpc</th>\n",
              "      <th>mslp</th>\n",
              "      <th>wdir</th>\n",
              "      <th>wspd</th>\n",
              "      <th>skct</th>\n",
              "      <th>pr1h</th>\n",
              "    </tr>\n",
              "    <tr>\n",
              "      <th>Timestamp</th>\n",
              "      <th></th>\n",
              "      <th></th>\n",
              "      <th></th>\n",
              "      <th></th>\n",
              "      <th></th>\n",
              "      <th></th>\n",
              "      <th></th>\n",
              "    </tr>\n",
              "  </thead>\n",
              "  <tbody>\n",
              "    <tr>\n",
              "      <th>2010-01-01</th>\n",
              "      <td>-1.975000</td>\n",
              "      <td>-4.183333</td>\n",
              "      <td>1018.208333</td>\n",
              "      <td>279.166667</td>\n",
              "      <td>6.183333</td>\n",
              "      <td>6.000000</td>\n",
              "      <td>0.000000</td>\n",
              "    </tr>\n",
              "    <tr>\n",
              "      <th>2010-01-02</th>\n",
              "      <td>-13.325000</td>\n",
              "      <td>-16.933333</td>\n",
              "      <td>1029.316667</td>\n",
              "      <td>286.666667</td>\n",
              "      <td>5.591667</td>\n",
              "      <td>2.250000</td>\n",
              "      <td>0.000000</td>\n",
              "    </tr>\n",
              "    <tr>\n",
              "      <th>2010-01-03</th>\n",
              "      <td>-16.525000</td>\n",
              "      <td>-19.816667</td>\n",
              "      <td>1032.991667</td>\n",
              "      <td>296.666667</td>\n",
              "      <td>4.633333</td>\n",
              "      <td>0.000000</td>\n",
              "      <td>0.000000</td>\n",
              "    </tr>\n",
              "    <tr>\n",
              "      <th>2010-01-04</th>\n",
              "      <td>-15.325000</td>\n",
              "      <td>-19.858333</td>\n",
              "      <td>1032.250000</td>\n",
              "      <td>305.833333</td>\n",
              "      <td>3.641667</td>\n",
              "      <td>0.000000</td>\n",
              "      <td>0.000000</td>\n",
              "    </tr>\n",
              "    <tr>\n",
              "      <th>2010-01-05</th>\n",
              "      <td>-14.441667</td>\n",
              "      <td>-17.700000</td>\n",
              "      <td>1028.141667</td>\n",
              "      <td>290.833333</td>\n",
              "      <td>6.300000</td>\n",
              "      <td>1.333333</td>\n",
              "      <td>0.000000</td>\n",
              "    </tr>\n",
              "    <tr>\n",
              "      <th>...</th>\n",
              "      <td>...</td>\n",
              "      <td>...</td>\n",
              "      <td>...</td>\n",
              "      <td>...</td>\n",
              "      <td>...</td>\n",
              "      <td>...</td>\n",
              "      <td>...</td>\n",
              "    </tr>\n",
              "    <tr>\n",
              "      <th>2019-12-27</th>\n",
              "      <td>13.466667</td>\n",
              "      <td>11.141667</td>\n",
              "      <td>1016.258333</td>\n",
              "      <td>200.833333</td>\n",
              "      <td>6.125000</td>\n",
              "      <td>1.090909</td>\n",
              "      <td>0.000000</td>\n",
              "    </tr>\n",
              "    <tr>\n",
              "      <th>2019-12-28</th>\n",
              "      <td>2.816667</td>\n",
              "      <td>0.725000</td>\n",
              "      <td>1025.341667</td>\n",
              "      <td>242.500000</td>\n",
              "      <td>2.775000</td>\n",
              "      <td>0.666667</td>\n",
              "      <td>0.000000</td>\n",
              "    </tr>\n",
              "    <tr>\n",
              "      <th>2019-12-29</th>\n",
              "      <td>7.141667</td>\n",
              "      <td>6.866667</td>\n",
              "      <td>1018.491667</td>\n",
              "      <td>105.833333</td>\n",
              "      <td>5.975000</td>\n",
              "      <td>9.000000</td>\n",
              "      <td>0.000000</td>\n",
              "    </tr>\n",
              "    <tr>\n",
              "      <th>2019-12-30</th>\n",
              "      <td>12.266667</td>\n",
              "      <td>11.400000</td>\n",
              "      <td>1003.950000</td>\n",
              "      <td>181.666667</td>\n",
              "      <td>5.658333</td>\n",
              "      <td>1.000000</td>\n",
              "      <td>0.025000</td>\n",
              "    </tr>\n",
              "    <tr>\n",
              "      <th>2019-12-31</th>\n",
              "      <td>0.341667</td>\n",
              "      <td>-2.766667</td>\n",
              "      <td>1004.300000</td>\n",
              "      <td>240.833333</td>\n",
              "      <td>9.375000</td>\n",
              "      <td>NaN</td>\n",
              "      <td>-0.016667</td>\n",
              "    </tr>\n",
              "  </tbody>\n",
              "</table>\n",
              "<p>3652 rows × 7 columns</p>\n",
              "</div>"
            ],
            "text/plain": [
              "                 tmpc       dwpc         mslp  ...      wspd      skct      pr1h\n",
              "Timestamp                                      ...                              \n",
              "2010-01-01  -1.975000  -4.183333  1018.208333  ...  6.183333  6.000000  0.000000\n",
              "2010-01-02 -13.325000 -16.933333  1029.316667  ...  5.591667  2.250000  0.000000\n",
              "2010-01-03 -16.525000 -19.816667  1032.991667  ...  4.633333  0.000000  0.000000\n",
              "2010-01-04 -15.325000 -19.858333  1032.250000  ...  3.641667  0.000000  0.000000\n",
              "2010-01-05 -14.441667 -17.700000  1028.141667  ...  6.300000  1.333333  0.000000\n",
              "...               ...        ...          ...  ...       ...       ...       ...\n",
              "2019-12-27  13.466667  11.141667  1016.258333  ...  6.125000  1.090909  0.000000\n",
              "2019-12-28   2.816667   0.725000  1025.341667  ...  2.775000  0.666667  0.000000\n",
              "2019-12-29   7.141667   6.866667  1018.491667  ...  5.975000  9.000000  0.000000\n",
              "2019-12-30  12.266667  11.400000  1003.950000  ...  5.658333  1.000000  0.025000\n",
              "2019-12-31   0.341667  -2.766667  1004.300000  ...  9.375000       NaN -0.016667\n",
              "\n",
              "[3652 rows x 7 columns]"
            ]
          },
          "metadata": {
            "tags": []
          },
          "execution_count": 56
        }
      ]
    },
    {
      "cell_type": "code",
      "metadata": {
        "id": "fQyNMBqquonT",
        "colab_type": "code",
        "colab": {}
      },
      "source": [
        ""
      ],
      "execution_count": 0,
      "outputs": []
    }
  ]
}