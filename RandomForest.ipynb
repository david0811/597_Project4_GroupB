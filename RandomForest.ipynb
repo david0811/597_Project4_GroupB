{
 "cells": [
  {
   "cell_type": "markdown",
   "metadata": {},
   "source": [
    "## First, get the data into a useful format"
   ]
  },
  {
   "cell_type": "code",
   "execution_count": 292,
   "metadata": {},
   "outputs": [],
   "source": [
    "import numpy as np\n",
    "import pandas as pd\n",
    "from sklearn.metrics import mean_squared_error\n",
    "from math import sqrt\n",
    "import matplotlib.pyplot as plt"
   ]
  },
  {
   "cell_type": "code",
   "execution_count": 261,
   "metadata": {},
   "outputs": [],
   "source": [
    "# Read in datafiles\n",
    "gfs = pd.read_csv('./raw_data/GFS_Daily_PredictVars_2010thru2019.csv', index_col = 'Date', usecols = ['Date', 'TMAX', 'TMIN', 'WMAX', 'RTOT'], parse_dates = True)\n",
    "# gfsfs = pd.read_csv('./raw_data/GFS_Sfc_42hrFcst_2010thru2019.csv', skiprows=1, index_col = 'Date', parse_dates = True)\n",
    "hourly = pd.read_csv('./raw_data/KCMI_hourly_tidy.csv', index_col = 'Timestamp', parse_dates = True)\n",
    "hourly.index = hourly.index + pd.DateOffset(hours=12)  # Align times\n",
    "\n",
    "obs = pd.read_csv('./raw_data/KCMI_daily_tidy.csv', index_col = 'Date', parse_dates = True)\n",
    "obs.index = obs.index + pd.DateOffset(hours=12)  # Align times\n",
    "\n",
    "sfc = pd.read_csv('./raw_data/GFS_Sfc_06Zto06ZAvgMinMax_AdditionalVars_2010thru2019.csv',  index_col = 'Unnamed: 0', parse_dates = True)\n",
    "prof = pd.read_csv('./raw_data/GFS_Prof_06Zto06ZAvgMinMax_2010thru2019.csv',  index_col = 'Unnamed: 0', parse_dates = True)"
   ]
  },
  {
   "cell_type": "code",
   "execution_count": 262,
   "metadata": {},
   "outputs": [
    {
     "name": "stdout",
     "output_type": "stream",
     "text": [
      "(3614, 4)\n",
      "(3652, 7)\n",
      "(3652, 4)\n",
      "(3652, 15)\n",
      "(3652, 24)\n"
     ]
    }
   ],
   "source": [
    "# There is some missing data from the GFS forecasts!\n",
    "print(gfs.shape)\n",
    "print(hourly.shape)\n",
    "print(obs.shape)\n",
    "print(sfc.shape)\n",
    "print(prof.shape)"
   ]
  },
  {
   "cell_type": "code",
   "execution_count": 263,
   "metadata": {},
   "outputs": [],
   "source": [
    "# Merge and drop all days with missing values \n",
    "features = pd.merge(obs.reset_index().dropna(), gfs.reset_index(), on = 'Date', how = 'inner')\n",
    "features = pd.merge(features, hourly.reset_index(), left_on = 'Date', right_on = 'Timestamp', how = 'inner').drop(columns = 'Timestamp')\n",
    "features = pd.merge(features, prof.reset_index(), left_on = 'Date', right_on = 'index', how = 'inner').drop(columns = 'index')\n",
    "features = pd.merge(features, sfc.reset_index(), left_on = 'Date', right_on = 'index', how = 'inner').drop(columns = 'index')\n",
    "features.dropna(inplace = True)  # There are some NaNs in the observations"
   ]
  },
  {
   "cell_type": "code",
   "execution_count": 264,
   "metadata": {},
   "outputs": [
    {
     "data": {
      "text/html": [
       "<div>\n",
       "<style scoped>\n",
       "    .dataframe tbody tr th:only-of-type {\n",
       "        vertical-align: middle;\n",
       "    }\n",
       "\n",
       "    .dataframe tbody tr th {\n",
       "        vertical-align: top;\n",
       "    }\n",
       "\n",
       "    .dataframe thead th {\n",
       "        text-align: right;\n",
       "    }\n",
       "</style>\n",
       "<table border=\"1\" class=\"dataframe\">\n",
       "  <thead>\n",
       "    <tr style=\"text-align: right;\">\n",
       "      <th></th>\n",
       "      <th>Max Hourly Temp (C)</th>\n",
       "      <th>Min Hourly Temp (C)</th>\n",
       "      <th>Max Wind Speed (m/s)</th>\n",
       "      <th>Daily Precip (mm)</th>\n",
       "      <th>TMAX</th>\n",
       "      <th>TMIN</th>\n",
       "      <th>WMAX</th>\n",
       "      <th>RTOT</th>\n",
       "      <th>tmpc</th>\n",
       "      <th>dwpc</th>\n",
       "      <th>...</th>\n",
       "      <th>Max LCLD(%)</th>\n",
       "      <th>Avg MCLD(%)</th>\n",
       "      <th>Min MCLD(%)</th>\n",
       "      <th>Max MCLD(%)</th>\n",
       "      <th>Avg HCLD(%)</th>\n",
       "      <th>Min HCLD(%)</th>\n",
       "      <th>Max HCLD(%)</th>\n",
       "      <th>Avg PRES(hPa)</th>\n",
       "      <th>Min PRES(hPa)</th>\n",
       "      <th>Max PRES(hPa)</th>\n",
       "    </tr>\n",
       "  </thead>\n",
       "  <tbody>\n",
       "    <tr>\n",
       "      <th>count</th>\n",
       "      <td>3250.000000</td>\n",
       "      <td>3250.000000</td>\n",
       "      <td>3250.000000</td>\n",
       "      <td>3250.000000</td>\n",
       "      <td>3250.000000</td>\n",
       "      <td>3250.000000</td>\n",
       "      <td>3250.000000</td>\n",
       "      <td>3250.000000</td>\n",
       "      <td>3250.000000</td>\n",
       "      <td>3250.000000</td>\n",
       "      <td>...</td>\n",
       "      <td>3250.000000</td>\n",
       "      <td>3250.000000</td>\n",
       "      <td>3250.000000</td>\n",
       "      <td>3250.000000</td>\n",
       "      <td>3250.000000</td>\n",
       "      <td>3250.000000</td>\n",
       "      <td>3250.000000</td>\n",
       "      <td>3250.000000</td>\n",
       "      <td>3250.000000</td>\n",
       "      <td>3250.000000</td>\n",
       "    </tr>\n",
       "    <tr>\n",
       "      <th>mean</th>\n",
       "      <td>17.570085</td>\n",
       "      <td>6.539316</td>\n",
       "      <td>7.603119</td>\n",
       "      <td>2.043569</td>\n",
       "      <td>16.133231</td>\n",
       "      <td>7.189600</td>\n",
       "      <td>5.776690</td>\n",
       "      <td>3.321560</td>\n",
       "      <td>13.899792</td>\n",
       "      <td>6.843898</td>\n",
       "      <td>...</td>\n",
       "      <td>47.372615</td>\n",
       "      <td>17.484215</td>\n",
       "      <td>1.295077</td>\n",
       "      <td>46.980615</td>\n",
       "      <td>36.581607</td>\n",
       "      <td>9.204923</td>\n",
       "      <td>69.846769</td>\n",
       "      <td>989.323877</td>\n",
       "      <td>986.365477</td>\n",
       "      <td>992.130831</td>\n",
       "    </tr>\n",
       "    <tr>\n",
       "      <th>std</th>\n",
       "      <td>11.910837</td>\n",
       "      <td>10.792472</td>\n",
       "      <td>2.934958</td>\n",
       "      <td>5.943913</td>\n",
       "      <td>11.223867</td>\n",
       "      <td>10.017805</td>\n",
       "      <td>2.350468</td>\n",
       "      <td>7.026024</td>\n",
       "      <td>11.954424</td>\n",
       "      <td>10.982953</td>\n",
       "      <td>...</td>\n",
       "      <td>43.113048</td>\n",
       "      <td>21.919502</td>\n",
       "      <td>8.249943</td>\n",
       "      <td>42.475564</td>\n",
       "      <td>30.457270</td>\n",
       "      <td>22.024983</td>\n",
       "      <td>37.728133</td>\n",
       "      <td>6.114703</td>\n",
       "      <td>6.613935</td>\n",
       "      <td>6.037432</td>\n",
       "    </tr>\n",
       "    <tr>\n",
       "      <th>min</th>\n",
       "      <td>-21.111111</td>\n",
       "      <td>-26.666667</td>\n",
       "      <td>2.235200</td>\n",
       "      <td>0.000000</td>\n",
       "      <td>-18.760000</td>\n",
       "      <td>-25.060000</td>\n",
       "      <td>1.431782</td>\n",
       "      <td>0.000000</td>\n",
       "      <td>-23.366667</td>\n",
       "      <td>-28.575000</td>\n",
       "      <td>...</td>\n",
       "      <td>0.000000</td>\n",
       "      <td>0.000000</td>\n",
       "      <td>0.000000</td>\n",
       "      <td>0.000000</td>\n",
       "      <td>0.000000</td>\n",
       "      <td>0.000000</td>\n",
       "      <td>0.000000</td>\n",
       "      <td>962.566667</td>\n",
       "      <td>955.300000</td>\n",
       "      <td>970.300000</td>\n",
       "    </tr>\n",
       "    <tr>\n",
       "      <th>25%</th>\n",
       "      <td>8.333333</td>\n",
       "      <td>-1.111111</td>\n",
       "      <td>5.811520</td>\n",
       "      <td>0.000000</td>\n",
       "      <td>7.140000</td>\n",
       "      <td>-0.560000</td>\n",
       "      <td>4.001250</td>\n",
       "      <td>0.000000</td>\n",
       "      <td>4.400000</td>\n",
       "      <td>-1.429167</td>\n",
       "      <td>...</td>\n",
       "      <td>0.000000</td>\n",
       "      <td>0.000000</td>\n",
       "      <td>0.000000</td>\n",
       "      <td>0.000000</td>\n",
       "      <td>7.555556</td>\n",
       "      <td>0.000000</td>\n",
       "      <td>40.000000</td>\n",
       "      <td>985.622222</td>\n",
       "      <td>982.700000</td>\n",
       "      <td>988.200000</td>\n",
       "    </tr>\n",
       "    <tr>\n",
       "      <th>50%</th>\n",
       "      <td>20.000000</td>\n",
       "      <td>7.777778</td>\n",
       "      <td>7.152640</td>\n",
       "      <td>0.000000</td>\n",
       "      <td>18.140000</td>\n",
       "      <td>8.440000</td>\n",
       "      <td>5.393515</td>\n",
       "      <td>0.310000</td>\n",
       "      <td>16.008333</td>\n",
       "      <td>7.404167</td>\n",
       "      <td>...</td>\n",
       "      <td>41.500000</td>\n",
       "      <td>7.555556</td>\n",
       "      <td>0.000000</td>\n",
       "      <td>44.500000</td>\n",
       "      <td>32.611111</td>\n",
       "      <td>0.000000</td>\n",
       "      <td>92.000000</td>\n",
       "      <td>989.150000</td>\n",
       "      <td>986.700000</td>\n",
       "      <td>991.500000</td>\n",
       "    </tr>\n",
       "    <tr>\n",
       "      <th>75%</th>\n",
       "      <td>27.777778</td>\n",
       "      <td>16.111111</td>\n",
       "      <td>9.387840</td>\n",
       "      <td>0.400000</td>\n",
       "      <td>25.940000</td>\n",
       "      <td>15.540000</td>\n",
       "      <td>7.196698</td>\n",
       "      <td>3.327500</td>\n",
       "      <td>24.447917</td>\n",
       "      <td>16.381250</td>\n",
       "      <td>...</td>\n",
       "      <td>97.000000</td>\n",
       "      <td>28.750000</td>\n",
       "      <td>0.000000</td>\n",
       "      <td>95.000000</td>\n",
       "      <td>60.416667</td>\n",
       "      <td>1.000000</td>\n",
       "      <td>100.000000</td>\n",
       "      <td>992.966667</td>\n",
       "      <td>990.400000</td>\n",
       "      <td>995.800000</td>\n",
       "    </tr>\n",
       "    <tr>\n",
       "      <th>max</th>\n",
       "      <td>37.777778</td>\n",
       "      <td>25.555556</td>\n",
       "      <td>23.246080</td>\n",
       "      <td>85.900000</td>\n",
       "      <td>37.140000</td>\n",
       "      <td>25.040000</td>\n",
       "      <td>16.413714</td>\n",
       "      <td>81.010000</td>\n",
       "      <td>34.716667</td>\n",
       "      <td>26.391667</td>\n",
       "      <td>...</td>\n",
       "      <td>101.000000</td>\n",
       "      <td>100.000000</td>\n",
       "      <td>100.000000</td>\n",
       "      <td>101.000000</td>\n",
       "      <td>100.000000</td>\n",
       "      <td>100.000000</td>\n",
       "      <td>101.000000</td>\n",
       "      <td>1012.800000</td>\n",
       "      <td>1010.400000</td>\n",
       "      <td>1016.400000</td>\n",
       "    </tr>\n",
       "  </tbody>\n",
       "</table>\n",
       "<p>8 rows × 54 columns</p>\n",
       "</div>"
      ],
      "text/plain": [
       "       Max Hourly Temp (C)  Min Hourly Temp (C)  Max Wind Speed (m/s)  \\\n",
       "count          3250.000000          3250.000000           3250.000000   \n",
       "mean             17.570085             6.539316              7.603119   \n",
       "std              11.910837            10.792472              2.934958   \n",
       "min             -21.111111           -26.666667              2.235200   \n",
       "25%               8.333333            -1.111111              5.811520   \n",
       "50%              20.000000             7.777778              7.152640   \n",
       "75%              27.777778            16.111111              9.387840   \n",
       "max              37.777778            25.555556             23.246080   \n",
       "\n",
       "       Daily Precip (mm)         TMAX         TMIN         WMAX         RTOT  \\\n",
       "count        3250.000000  3250.000000  3250.000000  3250.000000  3250.000000   \n",
       "mean            2.043569    16.133231     7.189600     5.776690     3.321560   \n",
       "std             5.943913    11.223867    10.017805     2.350468     7.026024   \n",
       "min             0.000000   -18.760000   -25.060000     1.431782     0.000000   \n",
       "25%             0.000000     7.140000    -0.560000     4.001250     0.000000   \n",
       "50%             0.000000    18.140000     8.440000     5.393515     0.310000   \n",
       "75%             0.400000    25.940000    15.540000     7.196698     3.327500   \n",
       "max            85.900000    37.140000    25.040000    16.413714    81.010000   \n",
       "\n",
       "              tmpc         dwpc  ...  Max LCLD(%)  Avg MCLD(%)  Min MCLD(%)  \\\n",
       "count  3250.000000  3250.000000  ...  3250.000000  3250.000000  3250.000000   \n",
       "mean     13.899792     6.843898  ...    47.372615    17.484215     1.295077   \n",
       "std      11.954424    10.982953  ...    43.113048    21.919502     8.249943   \n",
       "min     -23.366667   -28.575000  ...     0.000000     0.000000     0.000000   \n",
       "25%       4.400000    -1.429167  ...     0.000000     0.000000     0.000000   \n",
       "50%      16.008333     7.404167  ...    41.500000     7.555556     0.000000   \n",
       "75%      24.447917    16.381250  ...    97.000000    28.750000     0.000000   \n",
       "max      34.716667    26.391667  ...   101.000000   100.000000   100.000000   \n",
       "\n",
       "       Max MCLD(%)  Avg HCLD(%)  Min HCLD(%)  Max HCLD(%)  Avg PRES(hPa)  \\\n",
       "count  3250.000000  3250.000000  3250.000000  3250.000000    3250.000000   \n",
       "mean     46.980615    36.581607     9.204923    69.846769     989.323877   \n",
       "std      42.475564    30.457270    22.024983    37.728133       6.114703   \n",
       "min       0.000000     0.000000     0.000000     0.000000     962.566667   \n",
       "25%       0.000000     7.555556     0.000000    40.000000     985.622222   \n",
       "50%      44.500000    32.611111     0.000000    92.000000     989.150000   \n",
       "75%      95.000000    60.416667     1.000000   100.000000     992.966667   \n",
       "max     101.000000   100.000000   100.000000   101.000000    1012.800000   \n",
       "\n",
       "       Min PRES(hPa)  Max PRES(hPa)  \n",
       "count    3250.000000    3250.000000  \n",
       "mean      986.365477     992.130831  \n",
       "std         6.613935       6.037432  \n",
       "min       955.300000     970.300000  \n",
       "25%       982.700000     988.200000  \n",
       "50%       986.700000     991.500000  \n",
       "75%       990.400000     995.800000  \n",
       "max      1010.400000    1016.400000  \n",
       "\n",
       "[8 rows x 54 columns]"
      ]
     },
     "execution_count": 264,
     "metadata": {},
     "output_type": "execute_result"
    }
   ],
   "source": [
    "features.describe()"
   ]
  },
  {
   "cell_type": "code",
   "execution_count": 265,
   "metadata": {},
   "outputs": [],
   "source": [
    "# Add year, month, day as integers \n",
    "features['year'] = features['Date'].dt.year\n",
    "features['month'] = features['Date'].dt.month\n",
    "features['day'] = features['Date'].dt.day"
   ]
  },
  {
   "cell_type": "code",
   "execution_count": 266,
   "metadata": {},
   "outputs": [],
   "source": [
    "# The data we will be using to predict the labels\n",
    "new_features = features.drop(columns = ['Date', 'Max Hourly Temp (C)', 'Min Hourly Temp (C)', 'Max Wind Speed (m/s)', 'Daily Precip (mm)'], axis = 1)\n",
    "\n",
    "# Save feature list for later\n",
    "feature_list = list(new_features.columns)"
   ]
  },
  {
   "cell_type": "code",
   "execution_count": 267,
   "metadata": {},
   "outputs": [
    {
     "data": {
      "text/plain": [
       "['TMAX',\n",
       " 'TMIN',\n",
       " 'WMAX',\n",
       " 'RTOT',\n",
       " 'tmpc',\n",
       " 'dwpc',\n",
       " 'mslp',\n",
       " 'wdir',\n",
       " 'wspd',\n",
       " 'skct',\n",
       " 'pr1h',\n",
       " 'Avg 850hPa DWPDEP(C)',\n",
       " 'Min 850hPa DWPDEP(C)',\n",
       " 'Max 850hPa DWPDEP(C)',\n",
       " 'Avg 925hPa DWPDEP(C)',\n",
       " 'Min 925hPa DWPDEP(C)',\n",
       " 'Max 925hPa DWPDEP(C)',\n",
       " 'Avg 250hPa HGT(m)',\n",
       " 'Min 250hPa HGT(m)',\n",
       " 'Max 250hPa HGT(m)',\n",
       " 'Avg 500hPa HGT(m)',\n",
       " 'Min 500hPa HGT(m)',\n",
       " 'Max 500hPa HGT(m)',\n",
       " 'Min 850hPa TMPC',\n",
       " 'Max 850hPa TMPC',\n",
       " 'Min 925hPa TMPC',\n",
       " 'Max 925hPa TMPC',\n",
       " 'Min 250hPa WSPD(m/s)',\n",
       " 'Max 250hPa WSPD(m/s)',\n",
       " 'Min 500hPa WSPD(m/s)',\n",
       " 'Max 500hPa WSPD(m/s)',\n",
       " 'Min 850hPa WSPD(m/s)',\n",
       " 'Max 850hPa WSPD(m/s)',\n",
       " 'Min 925hPa WSPD(m/s)',\n",
       " 'Max 925hPa WSPD(m/s)',\n",
       " 'Avg DWPDEP(C)',\n",
       " 'Min DWPDEP(C)',\n",
       " 'Max DWPDEP(C)',\n",
       " 'Avg LCLD(%)',\n",
       " 'Min LCLD(%)',\n",
       " 'Max LCLD(%)',\n",
       " 'Avg MCLD(%)',\n",
       " 'Min MCLD(%)',\n",
       " 'Max MCLD(%)',\n",
       " 'Avg HCLD(%)',\n",
       " 'Min HCLD(%)',\n",
       " 'Max HCLD(%)',\n",
       " 'Avg PRES(hPa)',\n",
       " 'Min PRES(hPa)',\n",
       " 'Max PRES(hPa)',\n",
       " 'year',\n",
       " 'month',\n",
       " 'day']"
      ]
     },
     "execution_count": 267,
     "metadata": {},
     "output_type": "execute_result"
    }
   ],
   "source": [
    "feature_list"
   ]
  },
  {
   "cell_type": "markdown",
   "metadata": {},
   "source": [
    "## Now run the model!"
   ]
  },
  {
   "cell_type": "markdown",
   "metadata": {},
   "source": [
    "### Maximum Temperature"
   ]
  },
  {
   "cell_type": "code",
   "execution_count": 268,
   "metadata": {},
   "outputs": [],
   "source": [
    "# Split the data into training and testing sets\n",
    "train_features = np.array(new_features.query('year < 2019'))\n",
    "test_features = np.array(new_features.query('year == 2019'))\n",
    "train_labels = np.array(features.query('year < 2019')['Max Hourly Temp (C)'])\n",
    "test_labels = np.array(features.query('year == 2019')['Max Hourly Temp (C)'])"
   ]
  },
  {
   "cell_type": "code",
   "execution_count": 270,
   "metadata": {},
   "outputs": [
    {
     "data": {
      "text/plain": [
       "TMAX                    0\n",
       "TMIN                    0\n",
       "WMAX                    0\n",
       "RTOT                    0\n",
       "tmpc                    0\n",
       "dwpc                    0\n",
       "mslp                    0\n",
       "wdir                    0\n",
       "wspd                    0\n",
       "skct                    0\n",
       "pr1h                    0\n",
       "Avg 850hPa DWPDEP(C)    0\n",
       "Min 850hPa DWPDEP(C)    0\n",
       "Max 850hPa DWPDEP(C)    0\n",
       "Avg 925hPa DWPDEP(C)    0\n",
       "Min 925hPa DWPDEP(C)    0\n",
       "Max 925hPa DWPDEP(C)    0\n",
       "Avg 250hPa HGT(m)       0\n",
       "Min 250hPa HGT(m)       0\n",
       "Max 250hPa HGT(m)       0\n",
       "Avg 500hPa HGT(m)       0\n",
       "Min 500hPa HGT(m)       0\n",
       "Max 500hPa HGT(m)       0\n",
       "Min 850hPa TMPC         0\n",
       "Max 850hPa TMPC         0\n",
       "Min 925hPa TMPC         0\n",
       "Max 925hPa TMPC         0\n",
       "Min 250hPa WSPD(m/s)    0\n",
       "Max 250hPa WSPD(m/s)    0\n",
       "Min 500hPa WSPD(m/s)    0\n",
       "Max 500hPa WSPD(m/s)    0\n",
       "Min 850hPa WSPD(m/s)    0\n",
       "Max 850hPa WSPD(m/s)    0\n",
       "Min 925hPa WSPD(m/s)    0\n",
       "Max 925hPa WSPD(m/s)    0\n",
       "Avg DWPDEP(C)           0\n",
       "Min DWPDEP(C)           0\n",
       "Max DWPDEP(C)           0\n",
       "Avg LCLD(%)             0\n",
       "Min LCLD(%)             0\n",
       "Max LCLD(%)             0\n",
       "Avg MCLD(%)             0\n",
       "Min MCLD(%)             0\n",
       "Max MCLD(%)             0\n",
       "Avg HCLD(%)             0\n",
       "Min HCLD(%)             0\n",
       "Max HCLD(%)             0\n",
       "Avg PRES(hPa)           0\n",
       "Min PRES(hPa)           0\n",
       "Max PRES(hPa)           0\n",
       "year                    0\n",
       "month                   0\n",
       "day                     0\n",
       "dtype: int64"
      ]
     },
     "execution_count": 270,
     "metadata": {},
     "output_type": "execute_result"
    }
   ],
   "source": [
    "# Check if any NaNs exist\n",
    "new_features.query('year < 2019').isna().sum()"
   ]
  },
  {
   "cell_type": "code",
   "execution_count": 271,
   "metadata": {},
   "outputs": [
    {
     "data": {
      "text/plain": [
       "0"
      ]
     },
     "execution_count": 271,
     "metadata": {},
     "output_type": "execute_result"
    }
   ],
   "source": [
    "# Check if any NaNs exist\n",
    "features.query('year == 2019')['Max Hourly Temp (C)'].isna().sum()"
   ]
  },
  {
   "cell_type": "code",
   "execution_count": 272,
   "metadata": {},
   "outputs": [
    {
     "name": "stdout",
     "output_type": "stream",
     "text": [
      "Root Mean Square Error: 4.52 degrees C.\n"
     ]
    }
   ],
   "source": [
    "# Let's check how well the GFS forecast does. This will be our 'base prediction'\n",
    "print('Root Mean Square Error:', round(sqrt(mean_squared_error(test_labels, new_features.query('year == 2019')['TMAX'].values)), 2), 'degrees C.')"
   ]
  },
  {
   "cell_type": "code",
   "execution_count": 273,
   "metadata": {},
   "outputs": [
    {
     "name": "stdout",
     "output_type": "stream",
     "text": [
      "Training Features Shape: (2942, 53)\n",
      "Training Labels Shape: (2942,)\n",
      "Testing Features Shape: (308, 53)\n",
      "Testing Labels Shape: (308,)\n"
     ]
    }
   ],
   "source": [
    "print('Training Features Shape:', train_features.shape)\n",
    "print('Training Labels Shape:', train_labels.shape)\n",
    "print('Testing Features Shape:', test_features.shape)\n",
    "print('Testing Labels Shape:', test_labels.shape)"
   ]
  },
  {
   "cell_type": "code",
   "execution_count": 274,
   "metadata": {},
   "outputs": [],
   "source": [
    "# Import the model we are using\n",
    "from sklearn.ensemble import RandomForestRegressor\n",
    "\n",
    "# Instantiate model with 1000 decision trees\n",
    "rfmax = RandomForestRegressor(n_estimators = 2000, random_state = 42)\n",
    "\n",
    "# Train the model on training data\n",
    "rfmax.fit(train_features, train_labels);"
   ]
  },
  {
   "cell_type": "code",
   "execution_count": 275,
   "metadata": {},
   "outputs": [
    {
     "name": "stdout",
     "output_type": "stream",
     "text": [
      "Root Mean Square Error: 3.02 degrees C.\n"
     ]
    }
   ],
   "source": [
    "# Use the forest's predict method on the test data\n",
    "predictions = rfmax.predict(test_features)\n",
    "\n",
    "# Print out the root mean square error (rmse)\n",
    "print('Root Mean Square Error:', round(sqrt(mean_squared_error(test_labels, predictions)), 2), 'degrees C.')"
   ]
  },
  {
   "cell_type": "code",
   "execution_count": 276,
   "metadata": {},
   "outputs": [
    {
     "name": "stdout",
     "output_type": "stream",
     "text": [
      "Variable: TMIN                 Importance: 0.69\n",
      "Variable: TMAX                 Importance: 0.11\n",
      "Variable: tmpc                 Importance: 0.1\n",
      "Variable: Max 925hPa TMPC      Importance: 0.02\n",
      "Variable: Min 925hPa TMPC      Importance: 0.01\n",
      "Variable: WMAX                 Importance: 0.0\n",
      "Variable: RTOT                 Importance: 0.0\n",
      "Variable: dwpc                 Importance: 0.0\n",
      "Variable: mslp                 Importance: 0.0\n",
      "Variable: wdir                 Importance: 0.0\n",
      "Variable: wspd                 Importance: 0.0\n",
      "Variable: skct                 Importance: 0.0\n",
      "Variable: pr1h                 Importance: 0.0\n",
      "Variable: Avg 850hPa DWPDEP(C) Importance: 0.0\n",
      "Variable: Min 850hPa DWPDEP(C) Importance: 0.0\n",
      "Variable: Max 850hPa DWPDEP(C) Importance: 0.0\n",
      "Variable: Avg 925hPa DWPDEP(C) Importance: 0.0\n",
      "Variable: Min 925hPa DWPDEP(C) Importance: 0.0\n",
      "Variable: Max 925hPa DWPDEP(C) Importance: 0.0\n",
      "Variable: Avg 250hPa HGT(m)    Importance: 0.0\n",
      "Variable: Min 250hPa HGT(m)    Importance: 0.0\n",
      "Variable: Max 250hPa HGT(m)    Importance: 0.0\n",
      "Variable: Avg 500hPa HGT(m)    Importance: 0.0\n",
      "Variable: Min 500hPa HGT(m)    Importance: 0.0\n",
      "Variable: Max 500hPa HGT(m)    Importance: 0.0\n",
      "Variable: Min 850hPa TMPC      Importance: 0.0\n",
      "Variable: Max 850hPa TMPC      Importance: 0.0\n",
      "Variable: Min 250hPa WSPD(m/s) Importance: 0.0\n",
      "Variable: Max 250hPa WSPD(m/s) Importance: 0.0\n",
      "Variable: Min 500hPa WSPD(m/s) Importance: 0.0\n",
      "Variable: Max 500hPa WSPD(m/s) Importance: 0.0\n",
      "Variable: Min 850hPa WSPD(m/s) Importance: 0.0\n",
      "Variable: Max 850hPa WSPD(m/s) Importance: 0.0\n",
      "Variable: Min 925hPa WSPD(m/s) Importance: 0.0\n",
      "Variable: Max 925hPa WSPD(m/s) Importance: 0.0\n",
      "Variable: Avg DWPDEP(C)        Importance: 0.0\n",
      "Variable: Min DWPDEP(C)        Importance: 0.0\n",
      "Variable: Max DWPDEP(C)        Importance: 0.0\n",
      "Variable: Avg LCLD(%)          Importance: 0.0\n",
      "Variable: Min LCLD(%)          Importance: 0.0\n",
      "Variable: Max LCLD(%)          Importance: 0.0\n",
      "Variable: Avg MCLD(%)          Importance: 0.0\n",
      "Variable: Min MCLD(%)          Importance: 0.0\n",
      "Variable: Max MCLD(%)          Importance: 0.0\n",
      "Variable: Avg HCLD(%)          Importance: 0.0\n",
      "Variable: Min HCLD(%)          Importance: 0.0\n",
      "Variable: Max HCLD(%)          Importance: 0.0\n",
      "Variable: Avg PRES(hPa)        Importance: 0.0\n",
      "Variable: Min PRES(hPa)        Importance: 0.0\n",
      "Variable: Max PRES(hPa)        Importance: 0.0\n",
      "Variable: year                 Importance: 0.0\n",
      "Variable: month                Importance: 0.0\n",
      "Variable: day                  Importance: 0.0\n"
     ]
    }
   ],
   "source": [
    "# Get numerical feature importances\n",
    "importances = list(rfmax.feature_importances_)\n",
    "\n",
    "# List of tuples with variable and importance\n",
    "feature_importances = [(feature, round(importance, 2)) for feature, importance in zip(feature_list, importances)]\n",
    "\n",
    "# Sort the feature importances by most important first\n",
    "feature_importances = sorted(feature_importances, key = lambda x: x[1], reverse = True)\n",
    "\n",
    "# Print out the feature and importances \n",
    "[print('Variable: {:20} Importance: {}'.format(*pair)) for pair in feature_importances];"
   ]
  },
  {
   "cell_type": "markdown",
   "metadata": {},
   "source": [
    "### Minimum Temperature"
   ]
  },
  {
   "cell_type": "code",
   "execution_count": 277,
   "metadata": {},
   "outputs": [],
   "source": [
    "# New labels, features remain the same\n",
    "train_labels = np.array(features.query('year < 2019')['Min Hourly Temp (C)'])\n",
    "test_labels = np.array(features.query('year == 2019')['Min Hourly Temp (C)'])"
   ]
  },
  {
   "cell_type": "code",
   "execution_count": 278,
   "metadata": {},
   "outputs": [
    {
     "name": "stdout",
     "output_type": "stream",
     "text": [
      "Root Mean Square Error: 4.25 degrees C.\n"
     ]
    }
   ],
   "source": [
    "# Let's check how well the GFS forecast does. This will be our 'base prediction'\n",
    "print('Root Mean Square Error:', round(sqrt(mean_squared_error(test_labels, new_features.query('year == 2019')['TMIN'].values)), 2), 'degrees C.')"
   ]
  },
  {
   "cell_type": "code",
   "execution_count": 279,
   "metadata": {},
   "outputs": [],
   "source": [
    "# Instantiate model with 1000 decision trees\n",
    "rfmin = RandomForestRegressor(n_estimators = 2000, random_state = 42)\n",
    "\n",
    "# Train the model on training data\n",
    "rfmin.fit(train_features, train_labels);"
   ]
  },
  {
   "cell_type": "code",
   "execution_count": 280,
   "metadata": {},
   "outputs": [
    {
     "name": "stdout",
     "output_type": "stream",
     "text": [
      "Root Mean Square Error: 2.61 degrees C.\n"
     ]
    }
   ],
   "source": [
    "# Use the forest's predict method on the test data\n",
    "predictions = rfmin.predict(test_features)\n",
    "\n",
    "# Print out the root mean square error (rmse)\n",
    "print('Root Mean Square Error:', round(sqrt(mean_squared_error(test_labels, predictions)), 2), 'degrees C.')"
   ]
  },
  {
   "cell_type": "code",
   "execution_count": 281,
   "metadata": {},
   "outputs": [
    {
     "name": "stdout",
     "output_type": "stream",
     "text": [
      "Variable: tmpc                 Importance: 0.71\n",
      "Variable: TMIN                 Importance: 0.2\n",
      "Variable: dwpc                 Importance: 0.02\n",
      "Variable: TMAX                 Importance: 0.01\n",
      "Variable: wdir                 Importance: 0.01\n",
      "Variable: WMAX                 Importance: 0.0\n",
      "Variable: RTOT                 Importance: 0.0\n",
      "Variable: mslp                 Importance: 0.0\n",
      "Variable: wspd                 Importance: 0.0\n",
      "Variable: skct                 Importance: 0.0\n",
      "Variable: pr1h                 Importance: 0.0\n",
      "Variable: Avg 850hPa DWPDEP(C) Importance: 0.0\n",
      "Variable: Min 850hPa DWPDEP(C) Importance: 0.0\n",
      "Variable: Max 850hPa DWPDEP(C) Importance: 0.0\n",
      "Variable: Avg 925hPa DWPDEP(C) Importance: 0.0\n",
      "Variable: Min 925hPa DWPDEP(C) Importance: 0.0\n",
      "Variable: Max 925hPa DWPDEP(C) Importance: 0.0\n",
      "Variable: Avg 250hPa HGT(m)    Importance: 0.0\n",
      "Variable: Min 250hPa HGT(m)    Importance: 0.0\n",
      "Variable: Max 250hPa HGT(m)    Importance: 0.0\n",
      "Variable: Avg 500hPa HGT(m)    Importance: 0.0\n",
      "Variable: Min 500hPa HGT(m)    Importance: 0.0\n",
      "Variable: Max 500hPa HGT(m)    Importance: 0.0\n",
      "Variable: Min 850hPa TMPC      Importance: 0.0\n",
      "Variable: Max 850hPa TMPC      Importance: 0.0\n",
      "Variable: Min 925hPa TMPC      Importance: 0.0\n",
      "Variable: Max 925hPa TMPC      Importance: 0.0\n",
      "Variable: Min 250hPa WSPD(m/s) Importance: 0.0\n",
      "Variable: Max 250hPa WSPD(m/s) Importance: 0.0\n",
      "Variable: Min 500hPa WSPD(m/s) Importance: 0.0\n",
      "Variable: Max 500hPa WSPD(m/s) Importance: 0.0\n",
      "Variable: Min 850hPa WSPD(m/s) Importance: 0.0\n",
      "Variable: Max 850hPa WSPD(m/s) Importance: 0.0\n",
      "Variable: Min 925hPa WSPD(m/s) Importance: 0.0\n",
      "Variable: Max 925hPa WSPD(m/s) Importance: 0.0\n",
      "Variable: Avg DWPDEP(C)        Importance: 0.0\n",
      "Variable: Min DWPDEP(C)        Importance: 0.0\n",
      "Variable: Max DWPDEP(C)        Importance: 0.0\n",
      "Variable: Avg LCLD(%)          Importance: 0.0\n",
      "Variable: Min LCLD(%)          Importance: 0.0\n",
      "Variable: Max LCLD(%)          Importance: 0.0\n",
      "Variable: Avg MCLD(%)          Importance: 0.0\n",
      "Variable: Min MCLD(%)          Importance: 0.0\n",
      "Variable: Max MCLD(%)          Importance: 0.0\n",
      "Variable: Avg HCLD(%)          Importance: 0.0\n",
      "Variable: Min HCLD(%)          Importance: 0.0\n",
      "Variable: Max HCLD(%)          Importance: 0.0\n",
      "Variable: Avg PRES(hPa)        Importance: 0.0\n",
      "Variable: Min PRES(hPa)        Importance: 0.0\n",
      "Variable: Max PRES(hPa)        Importance: 0.0\n",
      "Variable: year                 Importance: 0.0\n",
      "Variable: month                Importance: 0.0\n",
      "Variable: day                  Importance: 0.0\n"
     ]
    }
   ],
   "source": [
    "# Get numerical feature importances\n",
    "importances = list(rfmin.feature_importances_)\n",
    "\n",
    "# List of tuples with variable and importance\n",
    "feature_importances = [(feature, round(importance, 2)) for feature, importance in zip(feature_list, importances)]\n",
    "\n",
    "# Sort the feature importances by most important first\n",
    "feature_importances = sorted(feature_importances, key = lambda x: x[1], reverse = True)\n",
    "\n",
    "# Print out the feature and importances \n",
    "[print('Variable: {:20} Importance: {}'.format(*pair)) for pair in feature_importances];"
   ]
  },
  {
   "cell_type": "markdown",
   "metadata": {},
   "source": [
    "### Max Wind Speed"
   ]
  },
  {
   "cell_type": "code",
   "execution_count": 282,
   "metadata": {},
   "outputs": [],
   "source": [
    "# New labels, features remain the same\n",
    "train_labels = np.array(features.query('year < 2019')['Max Wind Speed (m/s)'])\n",
    "test_labels = np.array(features.query('year == 2019')['Max Wind Speed (m/s)'])"
   ]
  },
  {
   "cell_type": "code",
   "execution_count": 283,
   "metadata": {},
   "outputs": [
    {
     "name": "stdout",
     "output_type": "stream",
     "text": [
      "Root Mean Square Error: 3.34 m/s.\n"
     ]
    }
   ],
   "source": [
    "# Let's check how well the GFS forecast does. This will be our 'base prediction'\n",
    "print('Root Mean Square Error:', round(sqrt(mean_squared_error(test_labels, new_features.query('year == 2019')['WMAX'].values)), 2), 'm/s.')"
   ]
  },
  {
   "cell_type": "code",
   "execution_count": 284,
   "metadata": {},
   "outputs": [],
   "source": [
    "# Instantiate model with 1000 decision trees\n",
    "rfwind = RandomForestRegressor(n_estimators = 2000, random_state = 42)\n",
    "\n",
    "# Train the model on training data\n",
    "rfwind.fit(train_features, train_labels);"
   ]
  },
  {
   "cell_type": "code",
   "execution_count": 285,
   "metadata": {},
   "outputs": [
    {
     "name": "stdout",
     "output_type": "stream",
     "text": [
      "Root Mean Square Error: 2.26 m/s.\n"
     ]
    }
   ],
   "source": [
    "# Use the forest's predict method on the test data\n",
    "predictions = rfwind.predict(test_features)\n",
    "\n",
    "# Print out the root mean square error (rmse)\n",
    "print('Root Mean Square Error:', round(sqrt(mean_squared_error(test_labels, predictions)), 2), 'm/s.')"
   ]
  },
  {
   "cell_type": "code",
   "execution_count": 286,
   "metadata": {},
   "outputs": [
    {
     "name": "stdout",
     "output_type": "stream",
     "text": [
      "Variable: Max 500hPa WSPD(m/s) Importance: 0.2\n",
      "Variable: Max 850hPa WSPD(m/s) Importance: 0.06\n",
      "Variable: month                Importance: 0.06\n",
      "Variable: wdir                 Importance: 0.04\n",
      "Variable: wspd                 Importance: 0.04\n",
      "Variable: WMAX                 Importance: 0.03\n",
      "Variable: mslp                 Importance: 0.03\n",
      "Variable: Max 925hPa WSPD(m/s) Importance: 0.03\n",
      "Variable: Min DWPDEP(C)        Importance: 0.03\n",
      "Variable: tmpc                 Importance: 0.02\n",
      "Variable: dwpc                 Importance: 0.02\n",
      "Variable: Avg 500hPa HGT(m)    Importance: 0.02\n",
      "Variable: Min 925hPa TMPC      Importance: 0.02\n",
      "Variable: Min 500hPa WSPD(m/s) Importance: 0.02\n",
      "Variable: Min 850hPa WSPD(m/s) Importance: 0.02\n",
      "Variable: Min 925hPa WSPD(m/s) Importance: 0.02\n",
      "Variable: Avg DWPDEP(C)        Importance: 0.02\n",
      "Variable: TMAX                 Importance: 0.01\n",
      "Variable: TMIN                 Importance: 0.01\n",
      "Variable: RTOT                 Importance: 0.01\n",
      "Variable: skct                 Importance: 0.01\n",
      "Variable: pr1h                 Importance: 0.01\n",
      "Variable: Avg 850hPa DWPDEP(C) Importance: 0.01\n",
      "Variable: Min 850hPa DWPDEP(C) Importance: 0.01\n",
      "Variable: Max 850hPa DWPDEP(C) Importance: 0.01\n",
      "Variable: Avg 925hPa DWPDEP(C) Importance: 0.01\n",
      "Variable: Min 925hPa DWPDEP(C) Importance: 0.01\n",
      "Variable: Max 925hPa DWPDEP(C) Importance: 0.01\n",
      "Variable: Avg 250hPa HGT(m)    Importance: 0.01\n",
      "Variable: Min 250hPa HGT(m)    Importance: 0.01\n",
      "Variable: Max 250hPa HGT(m)    Importance: 0.01\n",
      "Variable: Min 500hPa HGT(m)    Importance: 0.01\n",
      "Variable: Max 500hPa HGT(m)    Importance: 0.01\n",
      "Variable: Min 850hPa TMPC      Importance: 0.01\n",
      "Variable: Max 850hPa TMPC      Importance: 0.01\n",
      "Variable: Max 925hPa TMPC      Importance: 0.01\n",
      "Variable: Min 250hPa WSPD(m/s) Importance: 0.01\n",
      "Variable: Max 250hPa WSPD(m/s) Importance: 0.01\n",
      "Variable: Max DWPDEP(C)        Importance: 0.01\n",
      "Variable: Avg LCLD(%)          Importance: 0.01\n",
      "Variable: Max LCLD(%)          Importance: 0.01\n",
      "Variable: Avg MCLD(%)          Importance: 0.01\n",
      "Variable: Max MCLD(%)          Importance: 0.01\n",
      "Variable: Avg HCLD(%)          Importance: 0.01\n",
      "Variable: Max HCLD(%)          Importance: 0.01\n",
      "Variable: Avg PRES(hPa)        Importance: 0.01\n",
      "Variable: Min PRES(hPa)        Importance: 0.01\n",
      "Variable: Max PRES(hPa)        Importance: 0.01\n",
      "Variable: year                 Importance: 0.01\n",
      "Variable: day                  Importance: 0.01\n",
      "Variable: Min LCLD(%)          Importance: 0.0\n",
      "Variable: Min MCLD(%)          Importance: 0.0\n",
      "Variable: Min HCLD(%)          Importance: 0.0\n"
     ]
    }
   ],
   "source": [
    "# Get numerical feature importances\n",
    "importances = list(rfwind.feature_importances_)\n",
    "\n",
    "# List of tuples with variable and importance\n",
    "feature_importances = [(feature, round(importance, 2)) for feature, importance in zip(feature_list, importances)]\n",
    "\n",
    "# Sort the feature importances by most important first\n",
    "feature_importances = sorted(feature_importances, key = lambda x: x[1], reverse = True)\n",
    "\n",
    "# Print out the feature and importances \n",
    "[print('Variable: {:20} Importance: {}'.format(*pair)) for pair in feature_importances];"
   ]
  },
  {
   "cell_type": "markdown",
   "metadata": {},
   "source": [
    "### Total Precipitation"
   ]
  },
  {
   "cell_type": "code",
   "execution_count": 287,
   "metadata": {},
   "outputs": [],
   "source": [
    "# New labels, features remain the same\n",
    "train_labels = np.array(features.query('year < 2019')['Daily Precip (mm)'])\n",
    "test_labels = np.array(features.query('year == 2019')['Daily Precip (mm)'])"
   ]
  },
  {
   "cell_type": "code",
   "execution_count": 288,
   "metadata": {},
   "outputs": [
    {
     "name": "stdout",
     "output_type": "stream",
     "text": [
      "Root Mean Square Error: 8.58 mm.\n"
     ]
    }
   ],
   "source": [
    "# Let's check how well the GFS forecast does. This will be our 'base prediction'\n",
    "print('Root Mean Square Error:', round(sqrt(mean_squared_error(test_labels, new_features.query('year == 2019')['RTOT'].values)), 2), 'mm.')"
   ]
  },
  {
   "cell_type": "code",
   "execution_count": 289,
   "metadata": {},
   "outputs": [],
   "source": [
    "# Instantiate model with 1000 decision trees\n",
    "rfprecip = RandomForestRegressor(n_estimators = 2000, random_state = 42)\n",
    "\n",
    "# Train the model on training data\n",
    "rfprecip.fit(train_features, train_labels);"
   ]
  },
  {
   "cell_type": "code",
   "execution_count": 290,
   "metadata": {},
   "outputs": [
    {
     "name": "stdout",
     "output_type": "stream",
     "text": [
      "Root Mean Square Error: 5.22 mm.\n"
     ]
    }
   ],
   "source": [
    "# Use the forest's predict method on the test data\n",
    "predictions = rfprecip.predict(test_features)\n",
    "\n",
    "# Print out the root mean square error (rmse)\n",
    "print('Root Mean Square Error:', round(sqrt(mean_squared_error(test_labels, predictions)), 2), 'mm.')"
   ]
  },
  {
   "cell_type": "code",
   "execution_count": 298,
   "metadata": {},
   "outputs": [
    {
     "data": {
      "image/png": "[encoded data removed]",
      "text/plain": [
       "<Figure size 720x720 with 1 Axes>"
      ]
     },
     "metadata": {
      "needs_background": "light"
     },
     "output_type": "display_data"
    }
   ],
   "source": [
    "# Do the plot\n",
    "fig, ax = plt.subplots(figsize = (10,10))\n",
    "ax.plot(predictions, 'b-')\n",
    "ax.plot(test_labels, 'ro')\n",
    "ax.set_xlabel('Day of Year')\n",
    "ax.set_ylabel('Total Precipitation (mm)')\n",
    "plt.show()"
   ]
  },
  {
   "cell_type": "code",
   "execution_count": 291,
   "metadata": {},
   "outputs": [
    {
     "name": "stdout",
     "output_type": "stream",
     "text": [
      "Variable: pr1h                 Importance: 0.08\n",
      "Variable: dwpc                 Importance: 0.05\n",
      "Variable: wdir                 Importance: 0.04\n",
      "Variable: RTOT                 Importance: 0.03\n",
      "Variable: mslp                 Importance: 0.03\n",
      "Variable: wspd                 Importance: 0.03\n",
      "Variable: skct                 Importance: 0.03\n",
      "Variable: Avg MCLD(%)          Importance: 0.03\n",
      "Variable: Min PRES(hPa)        Importance: 0.03\n",
      "Variable: Max PRES(hPa)        Importance: 0.03\n",
      "Variable: WMAX                 Importance: 0.02\n",
      "Variable: tmpc                 Importance: 0.02\n",
      "Variable: Avg 850hPa DWPDEP(C) Importance: 0.02\n",
      "Variable: Min 850hPa DWPDEP(C) Importance: 0.02\n",
      "Variable: Max 850hPa DWPDEP(C) Importance: 0.02\n",
      "Variable: Avg 925hPa DWPDEP(C) Importance: 0.02\n",
      "Variable: Min 925hPa DWPDEP(C) Importance: 0.02\n",
      "Variable: Max 925hPa DWPDEP(C) Importance: 0.02\n",
      "Variable: Max 850hPa TMPC      Importance: 0.02\n",
      "Variable: Min 250hPa WSPD(m/s) Importance: 0.02\n",
      "Variable: Max 250hPa WSPD(m/s) Importance: 0.02\n",
      "Variable: Min 500hPa WSPD(m/s) Importance: 0.02\n",
      "Variable: Max 500hPa WSPD(m/s) Importance: 0.02\n",
      "Variable: Min 850hPa WSPD(m/s) Importance: 0.02\n",
      "Variable: Min 925hPa WSPD(m/s) Importance: 0.02\n",
      "Variable: Min DWPDEP(C)        Importance: 0.02\n",
      "Variable: Avg HCLD(%)          Importance: 0.02\n",
      "Variable: Avg PRES(hPa)        Importance: 0.02\n",
      "Variable: day                  Importance: 0.02\n",
      "Variable: TMAX                 Importance: 0.01\n",
      "Variable: TMIN                 Importance: 0.01\n",
      "Variable: Avg 250hPa HGT(m)    Importance: 0.01\n",
      "Variable: Min 250hPa HGT(m)    Importance: 0.01\n",
      "Variable: Max 250hPa HGT(m)    Importance: 0.01\n",
      "Variable: Avg 500hPa HGT(m)    Importance: 0.01\n",
      "Variable: Min 500hPa HGT(m)    Importance: 0.01\n",
      "Variable: Max 500hPa HGT(m)    Importance: 0.01\n",
      "Variable: Min 850hPa TMPC      Importance: 0.01\n",
      "Variable: Min 925hPa TMPC      Importance: 0.01\n",
      "Variable: Max 925hPa TMPC      Importance: 0.01\n",
      "Variable: Max 850hPa WSPD(m/s) Importance: 0.01\n",
      "Variable: Max 925hPa WSPD(m/s) Importance: 0.01\n",
      "Variable: Avg DWPDEP(C)        Importance: 0.01\n",
      "Variable: Max DWPDEP(C)        Importance: 0.01\n",
      "Variable: Avg LCLD(%)          Importance: 0.01\n",
      "Variable: Max LCLD(%)          Importance: 0.01\n",
      "Variable: Max MCLD(%)          Importance: 0.01\n",
      "Variable: Min HCLD(%)          Importance: 0.01\n",
      "Variable: Max HCLD(%)          Importance: 0.01\n",
      "Variable: year                 Importance: 0.01\n",
      "Variable: month                Importance: 0.01\n",
      "Variable: Min LCLD(%)          Importance: 0.0\n",
      "Variable: Min MCLD(%)          Importance: 0.0\n"
     ]
    }
   ],
   "source": [
    "# Get numerical feature importances\n",
    "importances = list(rfprecip.feature_importances_)\n",
    "\n",
    "# List of tuples with variable and importance\n",
    "feature_importances = [(feature, round(importance, 2)) for feature, importance in zip(feature_list, importances)]\n",
    "\n",
    "# Sort the feature importances by most important first\n",
    "feature_importances = sorted(feature_importances, key = lambda x: x[1], reverse = True)\n",
    "\n",
    "# Print out the feature and importances \n",
    "[print('Variable: {:20} Importance: {}'.format(*pair)) for pair in feature_importances];"
   ]
  },
  {
   "cell_type": "code",
   "execution_count": null,
   "metadata": {},
   "outputs": [],
   "source": []
  }
 ],
 "metadata": {
  "kernelspec": {
   "display_name": "Python 3",
   "language": "python",
   "name": "python3"
  },
  "language_info": {
   "codemirror_mode": {
    "name": "ipython",
    "version": 3
   },
   "file_extension": ".py",
   "mimetype": "text/x-python",
   "name": "python",
   "nbconvert_exporter": "python",
   "pygments_lexer": "ipython3",
   "version": "3.7.6"
  }
 },
 "nbformat": 4,
 "nbformat_minor": 4
}
